{
 "cells": [
  {
   "cell_type": "code",
   "execution_count": 16,
   "metadata": {},
   "outputs": [
    {
     "name": "stdout",
     "output_type": "stream",
     "text": [
      "The autoreload extension is already loaded. To reload it, use:\n",
      "  %reload_ext autoreload\n"
     ]
    }
   ],
   "source": [
    "from data import *\n",
    "from models import *\n",
    "from utils import *\n",
    "\n",
    "%load_ext autoreload\n",
    "%autoreload 2\n",
    "\n",
    "import torch\n",
    "import torch.optim as torch_optimizer # by naming it optimizer, it will conflict with the optimizer instantiated class\n",
    "from torchinfo import summary"
   ]
  },
  {
   "attachments": {},
   "cell_type": "markdown",
   "metadata": {},
   "source": [
    "## 1. Data & DataLoader"
   ]
  },
  {
   "cell_type": "code",
   "execution_count": 17,
   "metadata": {},
   "outputs": [
    {
     "data": {
      "image/png": "[encoded data removed]",
      "text/plain": [
       "<Figure size 640x480 with 12 Axes>"
      ]
     },
     "metadata": {},
     "output_type": "display_data"
    }
   ],
   "source": [
    "train_dataset, test_dataset\n",
    "train_dataloader, test_dataloader\n",
    "\n",
    "import matplotlib.pyplot as plt\n",
    "batch_data, batch_label = next(iter(train_dataloader)) \n",
    "\n",
    "fig = plt.figure()\n",
    "for i in range(12):\n",
    "  plt.subplot(3,4,i+1)\n",
    "  plt.tight_layout()\n",
    "  plt.imshow(batch_data[i].squeeze(0), cmap='gray')\n",
    "  plt.title(batch_label[i].item())\n",
    "  plt.xticks([])\n",
    "  plt.yticks([])"
   ]
  },
  {
   "attachments": {},
   "cell_type": "markdown",
   "metadata": {},
   "source": [
    "## 2. Model & Model Parameters"
   ]
  },
  {
   "cell_type": "code",
   "execution_count": 18,
   "metadata": {},
   "outputs": [
    {
     "name": "stdout",
     "output_type": "stream",
     "text": [
      "==========================================================================================\n",
      "Layer (type:depth-idx)                   Output Shape              Param #\n",
      "==========================================================================================\n",
      "FirstDNN                                 [1, 10]                   --\n",
      "├─Conv2d: 1-1                            [32, 28, 28]              320\n",
      "│    └─weight                                                      ├─288\n",
      "│    └─bias                                                        └─32\n",
      "├─Conv2d: 1-2                            [64, 28, 28]              18,496\n",
      "│    └─weight                                                      ├─18,432\n",
      "│    └─bias                                                        └─64\n",
      "├─MaxPool2d: 1-3                         [64, 14, 14]              --\n",
      "├─Conv2d: 1-4                            [128, 14, 14]             73,856\n",
      "│    └─weight                                                      ├─73,728\n",
      "│    └─bias                                                        └─128\n",
      "├─Conv2d: 1-5                            [256, 14, 14]             295,168\n",
      "│    └─weight                                                      ├─294,912\n",
      "│    └─bias                                                        └─256\n",
      "├─MaxPool2d: 1-6                         [256, 7, 7]               --\n",
      "├─Conv2d: 1-7                            [512, 5, 5]               1,180,160\n",
      "│    └─weight                                                      ├─1,179,648\n",
      "│    └─bias                                                        └─512\n",
      "├─Conv2d: 1-8                            [1024, 3, 3]              4,719,616\n",
      "│    └─weight                                                      ├─4,718,592\n",
      "│    └─bias                                                        └─1,024\n",
      "├─Conv2d: 1-9                            [10, 1, 1]                92,170\n",
      "│    └─weight                                                      ├─92,160\n",
      "│    └─bias                                                        └─10\n",
      "==========================================================================================\n",
      "Total params: 6,379,786\n",
      "Trainable params: 6,379,786\n",
      "Non-trainable params: 0\n",
      "Total mult-adds (G): 18.74\n",
      "==========================================================================================\n",
      "Input size (MB): 0.00\n",
      "Forward/backward pass size (MB): 1.38\n",
      "Params size (MB): 25.52\n",
      "Estimated Total Size (MB): 26.90\n",
      "==========================================================================================\n"
     ]
    }
   ],
   "source": [
    "model = FirstDNN()\n",
    "summary(model,input_size=(1,28,28),verbose=2);"
   ]
  },
  {
   "attachments": {},
   "cell_type": "markdown",
   "metadata": {},
   "source": [
    "## 3. Model Training"
   ]
  },
  {
   "cell_type": "code",
   "execution_count": 19,
   "metadata": {},
   "outputs": [],
   "source": [
    "\n",
    "model = FirstDNN()\n",
    "errorFun = torch.nn.functional.nll_loss\n",
    "optimizer = torch_optimizer.SGD(model.parameters(), lr=0.01, momentum=0.9)\n",
    "device =torch.device(\"mps\")"
   ]
  },
  {
   "cell_type": "code",
   "execution_count": 20,
   "metadata": {},
   "outputs": [
    {
     "name": "stderr",
     "output_type": "stream",
     "text": [
      "TRAIN: Batch= 167, Batch Error = 1.436340, Batch Accuracy = 43.750000:   9%|▉         | 168/1875 [00:52<08:39,  3.29it/s]"
     ]
    }
   ],
   "source": [
    "for epoch in range(1, 2):\n",
    "\ttrain(train_dataloader, model, errorFun, optimizer,epoch)\n",
    "\ttest(test_dataloader, model, errorFun)"
   ]
  },
  {
   "attachments": {},
   "cell_type": "markdown",
   "metadata": {},
   "source": [
    "## 4. Learning Curves"
   ]
  },
  {
   "cell_type": "code",
   "execution_count": null,
   "metadata": {},
   "outputs": [],
   "source": [
    "fig, axs = plt.subplots(2,2,figsize=(15,10))\n",
    "axs[0, 0].plot(training_losses_epochwise)\n",
    "axs[0, 0].set_title(\"Training Loss\")\n",
    "axs[1, 0].plot(training_accuracy_epochwise)\n",
    "axs[1, 0].set_title(\"Training Accuracy\")\n",
    "axs[0, 1].plot(test_losses_epochwise)\n",
    "axs[0, 1].set_title(\"Test Loss\")\n",
    "axs[1, 1].plot(test_accuracy_epochwise)\n",
    "axs[1, 1].set_title(\"Test Accuracy\")"
   ]
  },
  {
   "cell_type": "code",
   "execution_count": null,
   "metadata": {},
   "outputs": [],
   "source": []
  }
 ],
 "metadata": {
  "kernelspec": {
   "display_name": "base",
   "language": "python",
   "name": "python3"
  },
  "language_info": {
   "codemirror_mode": {
    "name": "ipython",
    "version": 3
   },
   "file_extension": ".py",
   "mimetype": "text/x-python",
   "name": "python",
   "nbconvert_exporter": "python",
   "pygments_lexer": "ipython3",
   "version": "3.9.13"
  },
  "orig_nbformat": 4
 },
 "nbformat": 4,
 "nbformat_minor": 2
}
