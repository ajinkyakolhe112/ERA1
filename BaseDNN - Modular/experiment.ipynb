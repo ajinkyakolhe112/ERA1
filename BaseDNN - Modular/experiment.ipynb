{
 "cells": [
  {
   "cell_type": "code",
   "execution_count": 17,
   "metadata": {},
   "outputs": [],
   "source": [
    "from src.data import *\n",
    "from src.models import *\n",
    "from src.utils import *\n",
    "\n",
    "import torch\n",
    "import torch.optim as torch_optimizer # by naming it optimizer, it will conflict with the optimizer instantiated class"
   ]
  },
  {
   "cell_type": "code",
   "execution_count": 18,
   "metadata": {},
   "outputs": [
    {
     "data": {
      "image/png": "[encoded data removed]",
      "text/plain": [
       "<Figure size 640x480 with 12 Axes>"
      ]
     },
     "metadata": {},
     "output_type": "display_data"
    }
   ],
   "source": [
    "train_dataset, test_dataset\n",
    "train_dataloader, test_dataloader\n",
    "\n",
    "import matplotlib.pyplot as plt\n",
    "batch_data, batch_label = next(iter(train_dataloader)) \n",
    "\n",
    "fig = plt.figure()\n",
    "for i in range(12):\n",
    "  plt.subplot(3,4,i+1)\n",
    "  plt.tight_layout()\n",
    "  plt.imshow(batch_data[i].squeeze(0), cmap='gray')\n",
    "  plt.title(batch_label[i].item())\n",
    "  plt.xticks([])\n",
    "  plt.yticks([])"
   ]
  },
  {
   "cell_type": "code",
   "execution_count": 19,
   "metadata": {},
   "outputs": [],
   "source": [
    "\n",
    "model = FirstDNN()\n",
    "errorFun = torch.nn.functional.nll_loss\n",
    "optimizer = torch_optimizer.SGD(model.parameters(), lr=0.01, momentum=0.9)\n",
    "device =torch.device(\"mps\")"
   ]
  },
  {
   "cell_type": "code",
   "execution_count": 5,
   "metadata": {},
   "outputs": [
    {
     "name": "stderr",
     "output_type": "stream",
     "text": [
      "loss= 0.872550,     batch_id= 1874: 100%|██████████| 1875/1875 [09:31<00:00,  3.28it/s]\n",
      "  0%|          | 0/313 [00:00<?, ?it/s]\n"
     ]
    },
    {
     "ename": "NameError",
     "evalue": "name 'pred' is not defined",
     "output_type": "error",
     "traceback": [
      "\u001b[0;31m---------------------------------------------------------------------------\u001b[0m",
      "\u001b[0;31mNameError\u001b[0m                                 Traceback (most recent call last)",
      "Cell \u001b[0;32mIn[5], line 3\u001b[0m\n\u001b[1;32m      1\u001b[0m \u001b[39mfor\u001b[39;00m epoch \u001b[39min\u001b[39;00m \u001b[39mrange\u001b[39m(\u001b[39m1\u001b[39m, \u001b[39m2\u001b[39m):\n\u001b[1;32m      2\u001b[0m \ttrain(train_dataloader, model, errorFun, optimizer,epoch)\n\u001b[0;32m----> 3\u001b[0m \ttest(test_dataloader, model, errorFun)\n",
      "File \u001b[0;32m~/Documents/Visual Studio Code/ERA1/BaseDNN - Modular/src/utils.py:35\u001b[0m, in \u001b[0;36mtest\u001b[0;34m(test_dataloader, model, errorFun, device)\u001b[0m\n\u001b[1;32m     33\u001b[0m loss_batch \u001b[39m=\u001b[39m errorFun(output, target, reduction\u001b[39m=\u001b[39m\u001b[39m'\u001b[39m\u001b[39msum\u001b[39m\u001b[39m'\u001b[39m)\u001b[39m.\u001b[39mitem()   \u001b[39m# sum up batch loss\u001b[39;00m\n\u001b[1;32m     34\u001b[0m preds_batch \u001b[39m=\u001b[39m output\u001b[39m.\u001b[39margmax(dim\u001b[39m=\u001b[39m\u001b[39m1\u001b[39m, keepdim\u001b[39m=\u001b[39m\u001b[39mTrue\u001b[39;00m)  \u001b[39m# get the index of the max log-probability\u001b[39;00m\n\u001b[0;32m---> 35\u001b[0m correct_preds_batch \u001b[39m+\u001b[39m\u001b[39m=\u001b[39m pred\u001b[39m.\u001b[39meq(target\u001b[39m.\u001b[39mview_as(preds_batch))\u001b[39m.\u001b[39msum()\u001b[39m.\u001b[39mitem()\n\u001b[1;32m     37\u001b[0m test_loss_total \u001b[39m+\u001b[39m\u001b[39m=\u001b[39m loss_batch\n\u001b[1;32m     38\u001b[0m correct_preds_total \u001b[39m+\u001b[39m\u001b[39m=\u001b[39m correct_preds_batch\n",
      "\u001b[0;31mNameError\u001b[0m: name 'pred' is not defined"
     ]
    }
   ],
   "source": [
    "for epoch in range(1, 2):\n",
    "\ttrain(train_dataloader, model, errorFun, optimizer,epoch)\n",
    "\ttest(test_dataloader, model, errorFun)"
   ]
  },
  {
   "cell_type": "code",
   "execution_count": null,
   "metadata": {},
   "outputs": [],
   "source": [
    "fig, axs = plt.subplots(2,2,figsize=(15,10))\n",
    "axs[0, 0].plot(training_losses_epochwise)\n",
    "axs[0, 0].set_title(\"Training Loss\")\n",
    "axs[1, 0].plot(training_accuracy_epochwise)\n",
    "axs[1, 0].set_title(\"Training Accuracy\")\n",
    "axs[0, 1].plot(test_losses_epochwise)\n",
    "axs[0, 1].set_title(\"Test Loss\")\n",
    "axs[1, 1].plot(test_accuracy_epochwise)\n",
    "axs[1, 1].set_title(\"Test Accuracy\")"
   ]
  },
  {
   "cell_type": "code",
   "execution_count": null,
   "metadata": {},
   "outputs": [],
   "source": []
  }
 ],
 "metadata": {
  "kernelspec": {
   "display_name": "base",
   "language": "python",
   "name": "python3"
  },
  "language_info": {
   "codemirror_mode": {
    "name": "ipython",
    "version": 3
   },
   "file_extension": ".py",
   "mimetype": "text/x-python",
   "name": "python",
   "nbconvert_exporter": "python",
   "pygments_lexer": "ipython3",
   "version": "3.9.13"
  },
  "orig_nbformat": 4
 },
 "nbformat": 4,
 "nbformat_minor": 2
}
