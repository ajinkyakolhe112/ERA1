{
 "cells": [
  {
   "cell_type": "code",
   "execution_count": 1,
   "metadata": {},
   "outputs": [],
   "source": [
    "from dataset_load import *\n",
    "from train_test import *\n",
    "\n",
    "from model_dev import (S9_Baseline,)\n",
    "\n",
    "%load_ext autoreload\n",
    "%autoreload 2\n",
    "# %autoreload 0. disables autoloading. 2 enables autoreload ALL"
   ]
  },
  {
   "cell_type": "code",
   "execution_count": 2,
   "metadata": {},
   "outputs": [],
   "source": [
    "model = S9_Baseline()\n",
    "error_func = nn.functional.nll_loss\n",
    "optimizer_name = torch.optim.SGD\n",
    "optimizer = optimizer_name(params = model.parameters(), lr = 0.01)"
   ]
  },
  {
   "cell_type": "code",
   "execution_count": 3,
   "metadata": {},
   "outputs": [
    {
     "name": "stderr",
     "output_type": "stream",
     "text": [
      "Batch No= 468 Train Loss= 2.3135, Acc Total = 0.0939: 100%|██████████| 469/469 [01:01<00:00,  7.66it/s]\n"
     ]
    }
   ],
   "source": [
    "import torch\n",
    "import torch.nn as nn\n",
    "from torch.nn import ReLU as RELU\n",
    "\n",
    "class S7_Baseline(nn.Module):\n",
    "\tdef __init__(self):\n",
    "\t\tsuper().__init__()\n",
    "\t\tself.block1 = nn.ModuleDict({\n",
    "\t\t\t\"conv1\": nn.Conv2d(1,32,8),\n",
    "\t\t\t\"relu\": RELU(),\n",
    "\t\t})\n",
    "\t\tself.block2 = nn.ModuleDict({\n",
    "\t\t\t\"conv1\": nn.Conv2d(32,32,8),\n",
    "\t\t\t\"relu\": RELU(),\n",
    "\t\t})\n",
    "\t\tself.block3 = nn.ModuleDict({\n",
    "\t\t\t\"conv1\": nn.Conv2d(32,32,8),\n",
    "\t\t\t\"relu\": RELU(),\n",
    "\t\t})\n",
    "\t\tself.block4 = nn.ModuleDict({\n",
    "\t\t\t\"conv1\": nn.Conv2d(32,32,7),\n",
    "\t\t\t\"relu\": RELU(),\n",
    "\t\t})\n",
    "\t\tself.fc = nn.Linear(32,10)\n",
    "\t\t\n",
    "\tdef forward(self,input_batch):\n",
    "\t\tb1,b2,b3,b4 = self.block1,self.block2,self.block3,self.block4\n",
    "\t\t\n",
    "\t\tb1_output = b1.relu(b1.conv1(input_batch))\n",
    "\t\tb2_output = b2.relu(b2.conv1(b1_output))\n",
    "\t\tb3_output = b3.relu(b3.conv1(b2_output))\n",
    "\t\tb4_output = b4.relu(b4.conv1(b3_output))\n",
    "\t\t\n",
    "\t\tb4_output = b4_output.view(-1,32)\n",
    "\t\tfc_output = self.fc(b4_output)\n",
    "\t\t\n",
    "\t\toutput_probs = nn.functional.softmax(fc_output,dim=1)\n",
    "\t\toutput = nn.functional.log_softmax(fc_output,dim=1)\n",
    "\n",
    "\t\treturn output\n",
    "\t\n",
    "s7_model = S7_Baseline()\n",
    "\n",
    "train_model(train_loader, \ts7_model, error_func, optimizer)"
   ]
  },
  {
   "cell_type": "code",
   "execution_count": null,
   "metadata": {},
   "outputs": [],
   "source": [
    "train_model(train_loader, \tmodel, error_func, optimizer)\n"
   ]
  },
  {
   "cell_type": "code",
   "execution_count": null,
   "metadata": {},
   "outputs": [],
   "source": [
    "test_model(\ttest_loader, \tmodel, error_func)"
   ]
  }
 ],
 "metadata": {
  "kernelspec": {
   "display_name": "base",
   "language": "python",
   "name": "python3"
  },
  "language_info": {
   "codemirror_mode": {
    "name": "ipython",
    "version": 3
   },
   "file_extension": ".py",
   "mimetype": "text/x-python",
   "name": "python",
   "nbconvert_exporter": "python",
   "pygments_lexer": "ipython3",
   "version": "3.9.13"
  },
  "orig_nbformat": 4
 },
 "nbformat": 4,
 "nbformat_minor": 2
}
