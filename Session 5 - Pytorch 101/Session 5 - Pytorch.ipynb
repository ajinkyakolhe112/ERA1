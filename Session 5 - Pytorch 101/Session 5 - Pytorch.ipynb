{
  "cells": [
    {
      "attachments": {},
      "cell_type": "markdown",
      "metadata": {
        "id": "aC2Zl8jZx0d4"
      },
      "source": [
        "![Pytorch](https://miro.medium.com/max/1024/1*KKADWARPMxHb-WMxCgW_xA.png)\n",
        "# Pytorch\n",
        "\n",
        "An open source machine learning framework that accelerates the path from research prototyping to production deployment.\n",
        "\n",
        "It is a deep learning framework and a scientific computing package.\n",
        "\n",
        "It has several components that you'd like to be aware of (from future perspective):\n",
        "* PyTorch is production ready. With **torchScript**, PyTorch provides ease-of-use and flexiblility in _eager_ mode, while seamlessly  transitioning to graph mode for speed, optimization, and functionality in C++ runtime environments.\n",
        "* **TorchServe** is an easy to use tool for deploying PyTorch models at scale. It is cloud and environment agnostic and supports features such as multi-model serving, logging, metrics and the creation of RESTful endpoints for application integration.\n",
        "* Optimized performance in both research and production by taking advantage of native support for asynchronous execution of collective operations and peer-to-peer communication that is accessible from Python and C++.\n",
        "* PyTorch supports an end-to-end workflow from Python to deployment on iOS and Android. It extends the PyTorch API to cover common preprocessing and integration tasks needed for incorporating ML in mobile applications.\n",
        "* An active community of researchers and developers have built a rich ecosystem of tools and libraries for extending PyTorch and supporting development in areas from computer vision to reinforcement learning.\n",
        "* Export models in the standard **ONNX** (Open Neural Network Exchange) format for direct access to ONNX-compatible platforms, runtimes, visualizers, and more.\n",
        "* The C++ frontend is a pure C++ interface to PyTorch that follows the design and architecture of the established Python frontend. It is intended to enable research in high performance, low latency and bare metal C++ applications.\n",
        "* PyTorch is well supported on major cloud platforms, providing frictionless development and easy scaling through prebuilt images, large scale training on GPUs, ability to run models in a production scale environment, and more.\n",
        "\n",
        "| **PyTorch**  | **TensorFlow**  |\n",
        "|---|---|\n",
        "| Dynamic Computation Graphs  | Had to integrate Keras to add Dynamic Graphs, else static graphs  |\n",
        "| Have explicit GPU and CPU controls  | 2.0 has made this slighyl easy compared to earlier  |\n",
        "| More Pythonic in nature  | Steep learning curve  |\n",
        "| Good Documentation | Best possible documentation |\n",
        "| External tool for visualization and logging | TensorBoard |\n",
        "| Lighter to work with | Large deployment dependencies |\n",
        "| _Debugging is difficult_ | _Better debugging capabilities_ |\n",
        "\n",
        "\n",
        "![comparison](https://miro.medium.com/max/744/1*IsaBkifkc5P7ihRA8IKQ8Q.png)\n",
        "\n",
        "Note: In the above graph anything over 50% means more mentions for PyTorch than TensorFlow for that conference.\n",
        "\n"
      ]
    },
    {
      "attachments": {},
      "cell_type": "markdown",
      "metadata": {
        "id": "fpi5AYAFy4GK"
      },
      "source": [
        "\n",
        "\n",
        "#### PyTorch Philosophy\n",
        "\n",
        "* Stay out of the way\n",
        "* Cater to the impatient\n",
        "* Promote linear code-flow\n",
        "* Full interop with the Python ecosystem\n",
        "* Be as fasst as anything else\n",
        "\n",
        "#### Debugging\n",
        "\n",
        "* PyTorch is Python Extension\n",
        "* You can use any Python Debugger\n",
        "* Even _print_ function works on PyTorch objects\n",
        "\n",
        "## Why it got so popular?\n",
        "\n",
        "To solve deep neural networks, we need to calculate derivates, and to do this computationally, deep learning frameworks use what are called **computational graphs**.\n",
        "![cgs](https://blog.paperspace.com/content/images/2019/03/full_graph.png)\n",
        "\n",
        "PyTorch introduced **Dynamic Computational Graphs**, a first in the industry. It means that the graph is generated on the fly as the operations occur in contrast to _static graphs_ that are fully determined before actual action occur.\n",
        "\n",
        "Experimentation, advanced models and quick tests need Dynamic Computation Graphs as a back-end feature."
      ]
    },
    {
      "attachments": {},
      "cell_type": "markdown",
      "metadata": {
        "id": "kxRa0TwM0CcM"
      },
      "source": [
        "## Scientific Computing\n",
        "\n",
        "The scientific computing aspect of PyTorch is primarily a result of PyTorch's tensor Library and associated tensor operations\n",
        "\n",
        "A tensor is an n-dimensional array.\n",
        "\n",
        "![tensor](https://res.cloudinary.com/practicaldev/image/fetch/s--VaxrSdrA--/c_limit%2Cf_auto%2Cfl_progressive%2Cq_auto%2Cw_880/https://thepracticaldev.s3.amazonaws.com/i/bp6ux6ppf5t5amwkxklq.jpg)\n",
        "\n",
        "\n",
        "### Numpy\n",
        "One of the most popular scientific computing package for working with Tensors is nunmpy.\n",
        "![numpy](https://res-3.cloudinary.com/crunchbase-production/image/upload/c_lpad,h_256,w_256,f_auto,q_auto:eco/gxgj1nsz0eq3rg13j7kk)\n",
        "\n",
        "Numpy is the go-to package for nD arrays. PyTorch's tensor library mirrors numpy nD array capabilities very closely and in addition is highly interoprable with numpy. In PyTorch GPU support for tensors is inbuilt, and it is vey easy to move arrays from numpy (CPU) to GPU.\n"
      ]
    },
    {
      "cell_type": "code",
      "execution_count": null,
      "metadata": {
        "colab": {
          "base_uri": "https://localhost:8080/"
        },
        "id": "-ic17B9AxU_E",
        "outputId": "97dba49a-5f7d-4b23-96ea-8c52584058f2"
      },
      "outputs": [
        {
          "name": "stdout",
          "output_type": "stream",
          "text": [
            "Looking in indexes: https://pypi.org/simple, https://us-python.pkg.dev/colab-wheels/public/simple/\n",
            "Requirement already satisfied: torch in /usr/local/lib/python3.10/dist-packages (2.0.1+cu118)\n",
            "Requirement already satisfied: filelock in /usr/local/lib/python3.10/dist-packages (from torch) (3.12.0)\n",
            "Requirement already satisfied: typing-extensions in /usr/local/lib/python3.10/dist-packages (from torch) (4.5.0)\n",
            "Requirement already satisfied: sympy in /usr/local/lib/python3.10/dist-packages (from torch) (1.11.1)\n",
            "Requirement already satisfied: networkx in /usr/local/lib/python3.10/dist-packages (from torch) (3.1)\n",
            "Requirement already satisfied: jinja2 in /usr/local/lib/python3.10/dist-packages (from torch) (3.1.2)\n",
            "Requirement already satisfied: triton==2.0.0 in /usr/local/lib/python3.10/dist-packages (from torch) (2.0.0)\n",
            "Requirement already satisfied: cmake in /usr/local/lib/python3.10/dist-packages (from triton==2.0.0->torch) (3.25.2)\n",
            "Requirement already satisfied: lit in /usr/local/lib/python3.10/dist-packages (from triton==2.0.0->torch) (16.0.5)\n",
            "Requirement already satisfied: MarkupSafe>=2.0 in /usr/local/lib/python3.10/dist-packages (from jinja2->torch) (2.1.2)\n",
            "Requirement already satisfied: mpmath>=0.19 in /usr/local/lib/python3.10/dist-packages (from sympy->torch) (1.3.0)\n"
          ]
        }
      ],
      "source": [
        "!pip install torch"
      ]
    },
    {
      "cell_type": "code",
      "execution_count": null,
      "metadata": {
        "id": "8XcuGYiSzhdy"
      },
      "outputs": [],
      "source": [
        "import numpy as np"
      ]
    },
    {
      "cell_type": "code",
      "execution_count": null,
      "metadata": {
        "colab": {
          "base_uri": "https://localhost:8080/"
        },
        "id": "SZrw9buTzkbT",
        "outputId": "689bc6fd-874d-4a46-b271-2e768ca85672"
      },
      "outputs": [
        {
          "name": "stdout",
          "output_type": "stream",
          "text": [
            "1.3, [1. 2. 3.], [[1. 2.]\n",
            " [4. 5.]]\n"
          ]
        }
      ],
      "source": [
        "V0 = np.array(1.3)\n",
        "V1 = np.array([1., 2., 3.])\n",
        "V2 = np.array([[1., 2.],[4., 5.]])\n",
        "print(f'{V0}, {V1}, {V2}')"
      ]
    },
    {
      "cell_type": "code",
      "execution_count": null,
      "metadata": {
        "id": "sXFeJomZz0S0"
      },
      "outputs": [],
      "source": [
        "numpy_array = np.array([1, 2, 3])"
      ]
    },
    {
      "cell_type": "code",
      "execution_count": null,
      "metadata": {
        "id": "cWECvIC6z6QW"
      },
      "outputs": [],
      "source": [
        "import torch\n",
        "\n",
        "t1 = torch.Tensor(numpy_array)\n",
        "# Constructor - same torch.FloatTensor\n",
        "# uses a default float32 tensor, this can be changed\n",
        "# all other tensors are inherited from this main Tensor Class\n",
        "# always going to copy the data\n",
        "\n",
        "t2 = torch.tensor(numpy_array)\n",
        "# Factory Function\n",
        "# going to product a new tensor of the same type of numpy_array\n",
        "# does NOT share the underlying memory with Numpy! Changing one WILL NOT change the other\n",
        "# always going to copy the data (in CPU or GPU)\n",
        "# torch.tensor(data, dtype=None, device=None, requires_grad=False/True)\n",
        "# highly recommended to use\n",
        "\n",
        "t3 = torch.as_tensor(numpy_array)\n",
        "# Factory Function\n",
        "# going to product a new tensor of the same type of numpy_array\n",
        "# DOES share the underlying memory with Numpy! Changing one will change other\n",
        "# CAN ACCEPT ANY PYTHON DATA STRUCTURE INCLUDING NUMPY ARRAYS\n",
        "# it always tries to AVOID a copy of the data. (send data to GPU)\n",
        "# we have to manually call requies_grad()\n",
        "# designed for CPU\n",
        "\n",
        "t4 = torch.from_numpy(numpy_array)\n",
        "# Factory Function\n",
        "# produce a new tensor with same data type\n",
        "# share the underlying memory with numpy, changing one, will change other\n",
        "# designed for CPU\n",
        "\n"
      ]
    },
    {
      "cell_type": "code",
      "execution_count": null,
      "metadata": {
        "colab": {
          "base_uri": "https://localhost:8080/"
        },
        "id": "SQ7UAbWJ3hMb",
        "outputId": "d3a262f2-bea0-4966-d1f9-3a62e2ef844b"
      },
      "outputs": [
        {
          "data": {
            "text/plain": [
              "(dtype('int64'), torch.float32, torch.int64, torch.int64, torch.int64)"
            ]
          },
          "execution_count": 5,
          "metadata": {},
          "output_type": "execute_result"
        }
      ],
      "source": [
        "numpy_array.dtype, t1.dtype, t2.dtype, t3.dtype, t4.dtype"
      ]
    },
    {
      "cell_type": "code",
      "execution_count": null,
      "metadata": {
        "colab": {
          "base_uri": "https://localhost:8080/"
        },
        "id": "JOEMpqAM3v3F",
        "outputId": "d7ceff00-baca-405c-df62-7b1c65a75b71"
      },
      "outputs": [
        {
          "data": {
            "text/plain": [
              "array([ 4,  8, 12])"
            ]
          },
          "execution_count": 6,
          "metadata": {},
          "output_type": "execute_result"
        }
      ],
      "source": [
        "numpy_array *= 4\n",
        "\n",
        "numpy_array"
      ]
    },
    {
      "cell_type": "code",
      "execution_count": null,
      "metadata": {
        "colab": {
          "base_uri": "https://localhost:8080/"
        },
        "id": "RqYohxwA32Ll",
        "outputId": "d5aea4b3-8188-4b2b-9393-e66d428c625e"
      },
      "outputs": [
        {
          "data": {
            "text/plain": [
              "(tensor([1., 2., 3.]),\n",
              " tensor([1, 2, 3]),\n",
              " tensor([ 4,  8, 12]),\n",
              " tensor([ 4,  8, 12]))"
            ]
          },
          "execution_count": 7,
          "metadata": {},
          "output_type": "execute_result"
        }
      ],
      "source": [
        "t1, t2, t3, t4"
      ]
    },
    {
      "cell_type": "code",
      "execution_count": null,
      "metadata": {
        "colab": {
          "base_uri": "https://localhost:8080/"
        },
        "id": "C80AGApH4AkK",
        "outputId": "2042f658-e58e-4487-ba5c-59926a928b62"
      },
      "outputs": [
        {
          "data": {
            "text/plain": [
              "(array([ 4,  8, 12]),\n",
              " tensor([2., 4., 6.]),\n",
              " tensor([1, 2, 3]),\n",
              " tensor([ 4,  8, 12]),\n",
              " tensor([ 4,  8, 12]))"
            ]
          },
          "execution_count": 8,
          "metadata": {},
          "output_type": "execute_result"
        }
      ],
      "source": [
        "t1 *= 2\n",
        "numpy_array, t1, t2, t3, t4"
      ]
    },
    {
      "cell_type": "code",
      "execution_count": null,
      "metadata": {
        "colab": {
          "base_uri": "https://localhost:8080/"
        },
        "id": "yQnjLtW54fh4",
        "outputId": "80a199fc-ce31-4cc4-d630-836721c420f6"
      },
      "outputs": [
        {
          "data": {
            "text/plain": [
              "(array([ 4,  8, 12]),\n",
              " tensor([2., 4., 6.]),\n",
              " tensor([2, 4, 6]),\n",
              " tensor([ 4,  8, 12]),\n",
              " tensor([ 4,  8, 12]))"
            ]
          },
          "execution_count": 9,
          "metadata": {},
          "output_type": "execute_result"
        }
      ],
      "source": [
        "t2 *= 2\n",
        "numpy_array, t1, t2, t3, t4"
      ]
    },
    {
      "cell_type": "code",
      "execution_count": null,
      "metadata": {
        "colab": {
          "base_uri": "https://localhost:8080/"
        },
        "id": "Rm1iA-Nq4j58",
        "outputId": "00a5d448-63f7-41cd-fde6-bea95ab07f84"
      },
      "outputs": [
        {
          "data": {
            "text/plain": [
              "(array([ 8, 16, 24]),\n",
              " tensor([2., 4., 6.]),\n",
              " tensor([2, 4, 6]),\n",
              " tensor([ 8, 16, 24]),\n",
              " tensor([ 8, 16, 24]))"
            ]
          },
          "execution_count": 10,
          "metadata": {},
          "output_type": "execute_result"
        }
      ],
      "source": [
        "t3 *= 2\n",
        "numpy_array, t1, t2, t3, t4"
      ]
    },
    {
      "cell_type": "code",
      "execution_count": null,
      "metadata": {
        "colab": {
          "base_uri": "https://localhost:8080/"
        },
        "id": "3WYoI9_b4nil",
        "outputId": "0985a041-2786-4fb5-c946-9d33e266f628"
      },
      "outputs": [
        {
          "data": {
            "text/plain": [
              "(array([16, 32, 48]),\n",
              " tensor([2., 4., 6.]),\n",
              " tensor([2, 4, 6]),\n",
              " tensor([16, 32, 48]),\n",
              " tensor([16, 32, 48]))"
            ]
          },
          "execution_count": 11,
          "metadata": {},
          "output_type": "execute_result"
        }
      ],
      "source": [
        "t4 *= 2\n",
        "numpy_array, t1, t2, t3, t4"
      ]
    },
    {
      "cell_type": "code",
      "execution_count": null,
      "metadata": {
        "colab": {
          "base_uri": "https://localhost:8080/"
        },
        "id": "wA7apMZ84qFO",
        "outputId": "7f951e6f-9277-4a23-e99b-fab42fd40a2a"
      },
      "outputs": [
        {
          "data": {
            "text/plain": [
              "(device(type='cuda', index=0), device(type='cpu'))"
            ]
          },
          "execution_count": 12,
          "metadata": {},
          "output_type": "execute_result"
        }
      ],
      "source": [
        "t5 = t4.cuda()\n",
        "\n",
        "t5.device, t4.device"
      ]
    },
    {
      "cell_type": "code",
      "execution_count": null,
      "metadata": {
        "id": "noHk6gNL4zoh"
      },
      "outputs": [],
      "source": [
        "t6 = t4 + t3"
      ]
    },
    {
      "cell_type": "code",
      "execution_count": null,
      "metadata": {
        "colab": {
          "base_uri": "https://localhost:8080/",
          "height": 218
        },
        "id": "LhKLJUji5CN_",
        "outputId": "4aa323b8-5c49-41eb-fd08-b5c6f50945ba"
      },
      "outputs": [
        {
          "ename": "RuntimeError",
          "evalue": "ignored",
          "output_type": "error",
          "traceback": [
            "\u001b[0;31m---------------------------------------------------------------------------\u001b[0m",
            "\u001b[0;31mRuntimeError\u001b[0m                              Traceback (most recent call last)",
            "\u001b[0;32m<ipython-input-14-4b8836a7c4fb>\u001b[0m in \u001b[0;36m<cell line: 1>\u001b[0;34m()\u001b[0m\n\u001b[0;32m----> 1\u001b[0;31m \u001b[0mt6\u001b[0m \u001b[0;34m=\u001b[0m \u001b[0mt4\u001b[0m \u001b[0;34m+\u001b[0m \u001b[0mt5\u001b[0m\u001b[0;34m\u001b[0m\u001b[0;34m\u001b[0m\u001b[0m\n\u001b[0m",
            "\u001b[0;31mRuntimeError\u001b[0m: Expected all tensors to be on the same device, but found at least two devices, cuda:0 and cpu!"
          ]
        }
      ],
      "source": [
        "t6 = t4 + t5"
      ]
    },
    {
      "cell_type": "code",
      "execution_count": null,
      "metadata": {
        "colab": {
          "base_uri": "https://localhost:8080/"
        },
        "id": "Swn_IMyL5Ege",
        "outputId": "9532293c-1c25-42ce-c9b1-27d7853ddb25"
      },
      "outputs": [
        {
          "data": {
            "text/plain": [
              "tensor([[1., 0.],\n",
              "        [0., 1.]])"
            ]
          },
          "execution_count": 15,
          "metadata": {},
          "output_type": "execute_result"
        }
      ],
      "source": [
        "torch.eye(2)"
      ]
    },
    {
      "cell_type": "code",
      "execution_count": null,
      "metadata": {
        "colab": {
          "base_uri": "https://localhost:8080/"
        },
        "id": "JE-U7BgT5THV",
        "outputId": "881adbd7-01b2-4720-9656-fdf3a85468ce"
      },
      "outputs": [
        {
          "data": {
            "text/plain": [
              "tensor([[0., 0., 0.],\n",
              "        [0., 0., 0.],\n",
              "        [0., 0., 0.]])"
            ]
          },
          "execution_count": 16,
          "metadata": {},
          "output_type": "execute_result"
        }
      ],
      "source": [
        "torch.zeros(3, 3)"
      ]
    },
    {
      "cell_type": "code",
      "execution_count": null,
      "metadata": {
        "colab": {
          "base_uri": "https://localhost:8080/"
        },
        "id": "zfmNbyK15VZS",
        "outputId": "26c1750c-9ce6-47f8-be2c-7af55ce6b647"
      },
      "outputs": [
        {
          "data": {
            "text/plain": [
              "tensor([[1., 1., 1.],\n",
              "        [1., 1., 1.]])"
            ]
          },
          "execution_count": 17,
          "metadata": {},
          "output_type": "execute_result"
        }
      ],
      "source": [
        "torch.ones(2, 3)"
      ]
    },
    {
      "cell_type": "code",
      "execution_count": null,
      "metadata": {
        "colab": {
          "base_uri": "https://localhost:8080/"
        },
        "id": "qswyTNKD5ZpH",
        "outputId": "10153ef9-9c85-4188-932f-f5cb1960a362"
      },
      "outputs": [
        {
          "data": {
            "text/plain": [
              "tensor([[0.9812, 0.5949, 0.2584, 0.8537],\n",
              "        [0.8654, 0.0484, 0.8059, 0.3208]])"
            ]
          },
          "execution_count": 18,
          "metadata": {},
          "output_type": "execute_result"
        }
      ],
      "source": [
        "torch.rand(2,4)"
      ]
    },
    {
      "cell_type": "code",
      "execution_count": null,
      "metadata": {
        "colab": {
          "base_uri": "https://localhost:8080/"
        },
        "id": "ogeGqZkp5bVn",
        "outputId": "f35872ca-e364-4c4f-e3bd-98c0de7a9169"
      },
      "outputs": [
        {
          "data": {
            "text/plain": [
              "(tensor(4),\n",
              " tensor([1, 2]),\n",
              " tensor([[1, 2],\n",
              "         [4, 5]]))"
            ]
          },
          "execution_count": 19,
          "metadata": {},
          "output_type": "execute_result"
        }
      ],
      "source": [
        "data = torch.tensor([[1, 2, 3], [4, 5, 6]])\n",
        "data[1, 0], data[0, 0:2], data[:2, :2]"
      ]
    },
    {
      "attachments": {},
      "cell_type": "markdown",
      "metadata": {
        "id": "zHnYonrK5r0u"
      },
      "source": [
        "#### Torch.tensor attributes\n",
        "\n",
        "| Attribute | Data Type | Description |\n",
        "|----|----|----|\n",
        "|data|array_like | list, tuple, NumPy ndarray, scalar |\n",
        "|dtype| torch.dtype | The tensor's data type|\n",
        "|requires_grad | bool| Should autograd record operation |\n",
        "|device | torch.device | Allocated on CPU or CUDA (GPU) |\n",
        "\n",
        "torch.tensor(data, dtype=None, device=None, requires_grad=False) → Tensor\n"
      ]
    },
    {
      "cell_type": "code",
      "execution_count": null,
      "metadata": {
        "colab": {
          "base_uri": "https://localhost:8080/"
        },
        "id": "FgNVP3AR5nWs",
        "outputId": "5007970f-e8e4-4686-ec2e-90af45ae614d"
      },
      "outputs": [
        {
          "data": {
            "text/plain": [
              "['H',\n",
              " 'T',\n",
              " '__abs__',\n",
              " '__add__',\n",
              " '__and__',\n",
              " '__array__',\n",
              " '__array_priority__',\n",
              " '__array_wrap__',\n",
              " '__bool__',\n",
              " '__class__',\n",
              " '__complex__',\n",
              " '__contains__',\n",
              " '__deepcopy__',\n",
              " '__delattr__',\n",
              " '__delitem__',\n",
              " '__dict__',\n",
              " '__dir__',\n",
              " '__div__',\n",
              " '__dlpack__',\n",
              " '__dlpack_device__',\n",
              " '__doc__',\n",
              " '__eq__',\n",
              " '__float__',\n",
              " '__floordiv__',\n",
              " '__format__',\n",
              " '__ge__',\n",
              " '__getattribute__',\n",
              " '__getitem__',\n",
              " '__gt__',\n",
              " '__hash__',\n",
              " '__iadd__',\n",
              " '__iand__',\n",
              " '__idiv__',\n",
              " '__ifloordiv__',\n",
              " '__ilshift__',\n",
              " '__imod__',\n",
              " '__imul__',\n",
              " '__index__',\n",
              " '__init__',\n",
              " '__init_subclass__',\n",
              " '__int__',\n",
              " '__invert__',\n",
              " '__ior__',\n",
              " '__ipow__',\n",
              " '__irshift__',\n",
              " '__isub__',\n",
              " '__iter__',\n",
              " '__itruediv__',\n",
              " '__ixor__',\n",
              " '__le__',\n",
              " '__len__',\n",
              " '__long__',\n",
              " '__lshift__',\n",
              " '__lt__',\n",
              " '__matmul__',\n",
              " '__mod__',\n",
              " '__module__',\n",
              " '__mul__',\n",
              " '__ne__',\n",
              " '__neg__',\n",
              " '__new__',\n",
              " '__nonzero__',\n",
              " '__or__',\n",
              " '__pos__',\n",
              " '__pow__',\n",
              " '__radd__',\n",
              " '__rand__',\n",
              " '__rdiv__',\n",
              " '__reduce__',\n",
              " '__reduce_ex__',\n",
              " '__repr__',\n",
              " '__reversed__',\n",
              " '__rfloordiv__',\n",
              " '__rlshift__',\n",
              " '__rmatmul__',\n",
              " '__rmod__',\n",
              " '__rmul__',\n",
              " '__ror__',\n",
              " '__rpow__',\n",
              " '__rrshift__',\n",
              " '__rshift__',\n",
              " '__rsub__',\n",
              " '__rtruediv__',\n",
              " '__rxor__',\n",
              " '__setattr__',\n",
              " '__setitem__',\n",
              " '__setstate__',\n",
              " '__sizeof__',\n",
              " '__str__',\n",
              " '__sub__',\n",
              " '__subclasshook__',\n",
              " '__torch_dispatch__',\n",
              " '__torch_function__',\n",
              " '__truediv__',\n",
              " '__weakref__',\n",
              " '__xor__',\n",
              " '_addmm_activation',\n",
              " '_autocast_to_full_precision',\n",
              " '_autocast_to_reduced_precision',\n",
              " '_backward_hooks',\n",
              " '_base',\n",
              " '_cdata',\n",
              " '_coalesced_',\n",
              " '_conj',\n",
              " '_conj_physical',\n",
              " '_dimI',\n",
              " '_dimV',\n",
              " '_fix_weakref',\n",
              " '_grad',\n",
              " '_grad_fn',\n",
              " '_has_symbolic_sizes_strides',\n",
              " '_indices',\n",
              " '_is_all_true',\n",
              " '_is_any_true',\n",
              " '_is_view',\n",
              " '_is_zerotensor',\n",
              " '_make_subclass',\n",
              " '_make_wrapper_subclass',\n",
              " '_neg_view',\n",
              " '_nested_tensor_size',\n",
              " '_nested_tensor_strides',\n",
              " '_nnz',\n",
              " '_python_dispatch',\n",
              " '_reduce_ex_internal',\n",
              " '_to_dense',\n",
              " '_typed_storage',\n",
              " '_update_names',\n",
              " '_values',\n",
              " '_version',\n",
              " '_view_func',\n",
              " 'abs',\n",
              " 'abs_',\n",
              " 'absolute',\n",
              " 'absolute_',\n",
              " 'acos',\n",
              " 'acos_',\n",
              " 'acosh',\n",
              " 'acosh_',\n",
              " 'add',\n",
              " 'add_',\n",
              " 'addbmm',\n",
              " 'addbmm_',\n",
              " 'addcdiv',\n",
              " 'addcdiv_',\n",
              " 'addcmul',\n",
              " 'addcmul_',\n",
              " 'addmm',\n",
              " 'addmm_',\n",
              " 'addmv',\n",
              " 'addmv_',\n",
              " 'addr',\n",
              " 'addr_',\n",
              " 'adjoint',\n",
              " 'align_as',\n",
              " 'align_to',\n",
              " 'all',\n",
              " 'allclose',\n",
              " 'amax',\n",
              " 'amin',\n",
              " 'aminmax',\n",
              " 'angle',\n",
              " 'any',\n",
              " 'apply_',\n",
              " 'arccos',\n",
              " 'arccos_',\n",
              " 'arccosh',\n",
              " 'arccosh_',\n",
              " 'arcsin',\n",
              " 'arcsin_',\n",
              " 'arcsinh',\n",
              " 'arcsinh_',\n",
              " 'arctan',\n",
              " 'arctan2',\n",
              " 'arctan2_',\n",
              " 'arctan_',\n",
              " 'arctanh',\n",
              " 'arctanh_',\n",
              " 'argmax',\n",
              " 'argmin',\n",
              " 'argsort',\n",
              " 'argwhere',\n",
              " 'as_strided',\n",
              " 'as_strided_',\n",
              " 'as_strided_scatter',\n",
              " 'as_subclass',\n",
              " 'asin',\n",
              " 'asin_',\n",
              " 'asinh',\n",
              " 'asinh_',\n",
              " 'atan',\n",
              " 'atan2',\n",
              " 'atan2_',\n",
              " 'atan_',\n",
              " 'atanh',\n",
              " 'atanh_',\n",
              " 'backward',\n",
              " 'baddbmm',\n",
              " 'baddbmm_',\n",
              " 'bernoulli',\n",
              " 'bernoulli_',\n",
              " 'bfloat16',\n",
              " 'bincount',\n",
              " 'bitwise_and',\n",
              " 'bitwise_and_',\n",
              " 'bitwise_left_shift',\n",
              " 'bitwise_left_shift_',\n",
              " 'bitwise_not',\n",
              " 'bitwise_not_',\n",
              " 'bitwise_or',\n",
              " 'bitwise_or_',\n",
              " 'bitwise_right_shift',\n",
              " 'bitwise_right_shift_',\n",
              " 'bitwise_xor',\n",
              " 'bitwise_xor_',\n",
              " 'bmm',\n",
              " 'bool',\n",
              " 'broadcast_to',\n",
              " 'byte',\n",
              " 'cauchy_',\n",
              " 'ccol_indices',\n",
              " 'cdouble',\n",
              " 'ceil',\n",
              " 'ceil_',\n",
              " 'cfloat',\n",
              " 'chalf',\n",
              " 'char',\n",
              " 'cholesky',\n",
              " 'cholesky_inverse',\n",
              " 'cholesky_solve',\n",
              " 'chunk',\n",
              " 'clamp',\n",
              " 'clamp_',\n",
              " 'clamp_max',\n",
              " 'clamp_max_',\n",
              " 'clamp_min',\n",
              " 'clamp_min_',\n",
              " 'clip',\n",
              " 'clip_',\n",
              " 'clone',\n",
              " 'coalesce',\n",
              " 'col_indices',\n",
              " 'conj',\n",
              " 'conj_physical',\n",
              " 'conj_physical_',\n",
              " 'contiguous',\n",
              " 'copy_',\n",
              " 'copysign',\n",
              " 'copysign_',\n",
              " 'corrcoef',\n",
              " 'cos',\n",
              " 'cos_',\n",
              " 'cosh',\n",
              " 'cosh_',\n",
              " 'count_nonzero',\n",
              " 'cov',\n",
              " 'cpu',\n",
              " 'cross',\n",
              " 'crow_indices',\n",
              " 'cuda',\n",
              " 'cummax',\n",
              " 'cummin',\n",
              " 'cumprod',\n",
              " 'cumprod_',\n",
              " 'cumsum',\n",
              " 'cumsum_',\n",
              " 'data',\n",
              " 'data_ptr',\n",
              " 'deg2rad',\n",
              " 'deg2rad_',\n",
              " 'dense_dim',\n",
              " 'dequantize',\n",
              " 'det',\n",
              " 'detach',\n",
              " 'detach_',\n",
              " 'device',\n",
              " 'diag',\n",
              " 'diag_embed',\n",
              " 'diagflat',\n",
              " 'diagonal',\n",
              " 'diagonal_scatter',\n",
              " 'diff',\n",
              " 'digamma',\n",
              " 'digamma_',\n",
              " 'dim',\n",
              " 'dist',\n",
              " 'div',\n",
              " 'div_',\n",
              " 'divide',\n",
              " 'divide_',\n",
              " 'dot',\n",
              " 'double',\n",
              " 'dsplit',\n",
              " 'dtype',\n",
              " 'eig',\n",
              " 'element_size',\n",
              " 'eq',\n",
              " 'eq_',\n",
              " 'equal',\n",
              " 'erf',\n",
              " 'erf_',\n",
              " 'erfc',\n",
              " 'erfc_',\n",
              " 'erfinv',\n",
              " 'erfinv_',\n",
              " 'exp',\n",
              " 'exp2',\n",
              " 'exp2_',\n",
              " 'exp_',\n",
              " 'expand',\n",
              " 'expand_as',\n",
              " 'expm1',\n",
              " 'expm1_',\n",
              " 'exponential_',\n",
              " 'fill_',\n",
              " 'fill_diagonal_',\n",
              " 'fix',\n",
              " 'fix_',\n",
              " 'flatten',\n",
              " 'flip',\n",
              " 'fliplr',\n",
              " 'flipud',\n",
              " 'float',\n",
              " 'float_power',\n",
              " 'float_power_',\n",
              " 'floor',\n",
              " 'floor_',\n",
              " 'floor_divide',\n",
              " 'floor_divide_',\n",
              " 'fmax',\n",
              " 'fmin',\n",
              " 'fmod',\n",
              " 'fmod_',\n",
              " 'frac',\n",
              " 'frac_',\n",
              " 'frexp',\n",
              " 'gather',\n",
              " 'gcd',\n",
              " 'gcd_',\n",
              " 'ge',\n",
              " 'ge_',\n",
              " 'geometric_',\n",
              " 'geqrf',\n",
              " 'ger',\n",
              " 'get_device',\n",
              " 'grad',\n",
              " 'grad_fn',\n",
              " 'greater',\n",
              " 'greater_',\n",
              " 'greater_equal',\n",
              " 'greater_equal_',\n",
              " 'gt',\n",
              " 'gt_',\n",
              " 'half',\n",
              " 'hardshrink',\n",
              " 'has_names',\n",
              " 'heaviside',\n",
              " 'heaviside_',\n",
              " 'histc',\n",
              " 'histogram',\n",
              " 'hsplit',\n",
              " 'hypot',\n",
              " 'hypot_',\n",
              " 'i0',\n",
              " 'i0_',\n",
              " 'igamma',\n",
              " 'igamma_',\n",
              " 'igammac',\n",
              " 'igammac_',\n",
              " 'imag',\n",
              " 'index_add',\n",
              " 'index_add_',\n",
              " 'index_copy',\n",
              " 'index_copy_',\n",
              " 'index_fill',\n",
              " 'index_fill_',\n",
              " 'index_put',\n",
              " 'index_put_',\n",
              " 'index_reduce',\n",
              " 'index_reduce_',\n",
              " 'index_select',\n",
              " 'indices',\n",
              " 'inner',\n",
              " 'int',\n",
              " 'int_repr',\n",
              " 'inverse',\n",
              " 'ipu',\n",
              " 'is_coalesced',\n",
              " 'is_complex',\n",
              " 'is_conj',\n",
              " 'is_contiguous',\n",
              " 'is_cpu',\n",
              " 'is_cuda',\n",
              " 'is_distributed',\n",
              " 'is_floating_point',\n",
              " 'is_inference',\n",
              " 'is_ipu',\n",
              " 'is_leaf',\n",
              " 'is_meta',\n",
              " 'is_mkldnn',\n",
              " 'is_mps',\n",
              " 'is_neg',\n",
              " 'is_nested',\n",
              " 'is_nonzero',\n",
              " 'is_ort',\n",
              " 'is_pinned',\n",
              " 'is_quantized',\n",
              " 'is_same_size',\n",
              " 'is_set_to',\n",
              " 'is_shared',\n",
              " 'is_signed',\n",
              " 'is_sparse',\n",
              " 'is_sparse_csr',\n",
              " 'is_vulkan',\n",
              " 'is_xpu',\n",
              " 'isclose',\n",
              " 'isfinite',\n",
              " 'isinf',\n",
              " 'isnan',\n",
              " 'isneginf',\n",
              " 'isposinf',\n",
              " 'isreal',\n",
              " 'istft',\n",
              " 'item',\n",
              " 'kron',\n",
              " 'kthvalue',\n",
              " 'layout',\n",
              " 'lcm',\n",
              " 'lcm_',\n",
              " 'ldexp',\n",
              " 'ldexp_',\n",
              " 'le',\n",
              " 'le_',\n",
              " 'lerp',\n",
              " 'lerp_',\n",
              " 'less',\n",
              " 'less_',\n",
              " 'less_equal',\n",
              " 'less_equal_',\n",
              " 'lgamma',\n",
              " 'lgamma_',\n",
              " 'log',\n",
              " 'log10',\n",
              " 'log10_',\n",
              " 'log1p',\n",
              " 'log1p_',\n",
              " 'log2',\n",
              " 'log2_',\n",
              " 'log_',\n",
              " 'log_normal_',\n",
              " 'log_softmax',\n",
              " 'logaddexp',\n",
              " 'logaddexp2',\n",
              " 'logcumsumexp',\n",
              " 'logdet',\n",
              " 'logical_and',\n",
              " 'logical_and_',\n",
              " 'logical_not',\n",
              " 'logical_not_',\n",
              " 'logical_or',\n",
              " 'logical_or_',\n",
              " 'logical_xor',\n",
              " 'logical_xor_',\n",
              " 'logit',\n",
              " 'logit_',\n",
              " 'logsumexp',\n",
              " 'long',\n",
              " 'lstsq',\n",
              " 'lt',\n",
              " 'lt_',\n",
              " 'lu',\n",
              " 'lu_solve',\n",
              " 'mH',\n",
              " 'mT',\n",
              " 'map2_',\n",
              " 'map_',\n",
              " 'masked_fill',\n",
              " 'masked_fill_',\n",
              " 'masked_scatter',\n",
              " 'masked_scatter_',\n",
              " 'masked_select',\n",
              " 'matmul',\n",
              " 'matrix_exp',\n",
              " 'matrix_power',\n",
              " 'max',\n",
              " 'maximum',\n",
              " 'mean',\n",
              " 'median',\n",
              " 'min',\n",
              " 'minimum',\n",
              " 'mm',\n",
              " 'mode',\n",
              " 'moveaxis',\n",
              " 'movedim',\n",
              " 'msort',\n",
              " 'mul',\n",
              " 'mul_',\n",
              " 'multinomial',\n",
              " 'multiply',\n",
              " 'multiply_',\n",
              " 'mv',\n",
              " 'mvlgamma',\n",
              " 'mvlgamma_',\n",
              " 'name',\n",
              " 'names',\n",
              " 'nan_to_num',\n",
              " 'nan_to_num_',\n",
              " 'nanmean',\n",
              " 'nanmedian',\n",
              " 'nanquantile',\n",
              " 'nansum',\n",
              " 'narrow',\n",
              " 'narrow_copy',\n",
              " 'ndim',\n",
              " 'ndimension',\n",
              " 'ne',\n",
              " 'ne_',\n",
              " 'neg',\n",
              " 'neg_',\n",
              " 'negative',\n",
              " 'negative_',\n",
              " 'nelement',\n",
              " 'new',\n",
              " 'new_empty',\n",
              " 'new_empty_strided',\n",
              " 'new_full',\n",
              " 'new_ones',\n",
              " 'new_tensor',\n",
              " 'new_zeros',\n",
              " 'nextafter',\n",
              " 'nextafter_',\n",
              " 'nonzero',\n",
              " 'norm',\n",
              " 'normal_',\n",
              " 'not_equal',\n",
              " 'not_equal_',\n",
              " 'numel',\n",
              " 'numpy',\n",
              " 'orgqr',\n",
              " 'ormqr',\n",
              " 'outer',\n",
              " 'output_nr',\n",
              " 'permute',\n",
              " 'pin_memory',\n",
              " 'pinverse',\n",
              " 'polygamma',\n",
              " 'polygamma_',\n",
              " 'positive',\n",
              " 'pow',\n",
              " 'pow_',\n",
              " 'prelu',\n",
              " 'prod',\n",
              " 'put',\n",
              " 'put_',\n",
              " 'q_per_channel_axis',\n",
              " 'q_per_channel_scales',\n",
              " 'q_per_channel_zero_points',\n",
              " 'q_scale',\n",
              " 'q_zero_point',\n",
              " 'qr',\n",
              " 'qscheme',\n",
              " 'quantile',\n",
              " 'rad2deg',\n",
              " 'rad2deg_',\n",
              " 'random_',\n",
              " 'ravel',\n",
              " 'real',\n",
              " 'reciprocal',\n",
              " 'reciprocal_',\n",
              " 'record_stream',\n",
              " 'refine_names',\n",
              " 'register_hook',\n",
              " 'reinforce',\n",
              " 'relu',\n",
              " 'relu_',\n",
              " 'remainder',\n",
              " 'remainder_',\n",
              " 'rename',\n",
              " 'rename_',\n",
              " 'renorm',\n",
              " 'renorm_',\n",
              " 'repeat',\n",
              " 'repeat_interleave',\n",
              " 'requires_grad',\n",
              " 'requires_grad_',\n",
              " 'reshape',\n",
              " 'reshape_as',\n",
              " 'resize',\n",
              " 'resize_',\n",
              " 'resize_as',\n",
              " 'resize_as_',\n",
              " 'resize_as_sparse_',\n",
              " 'resolve_conj',\n",
              " 'resolve_neg',\n",
              " 'retain_grad',\n",
              " 'retains_grad',\n",
              " 'roll',\n",
              " 'rot90',\n",
              " 'round',\n",
              " 'round_',\n",
              " 'row_indices',\n",
              " 'rsqrt',\n",
              " 'rsqrt_',\n",
              " 'scatter',\n",
              " 'scatter_',\n",
              " 'scatter_add',\n",
              " 'scatter_add_',\n",
              " 'scatter_reduce',\n",
              " 'scatter_reduce_',\n",
              " 'select',\n",
              " 'select_scatter',\n",
              " 'set_',\n",
              " 'sgn',\n",
              " 'sgn_',\n",
              " 'shape',\n",
              " 'share_memory_',\n",
              " 'short',\n",
              " 'sigmoid',\n",
              " 'sigmoid_',\n",
              " 'sign',\n",
              " 'sign_',\n",
              " 'signbit',\n",
              " 'sin',\n",
              " 'sin_',\n",
              " 'sinc',\n",
              " 'sinc_',\n",
              " 'sinh',\n",
              " 'sinh_',\n",
              " 'size',\n",
              " 'slice_scatter',\n",
              " 'slogdet',\n",
              " 'smm',\n",
              " 'softmax',\n",
              " 'solve',\n",
              " 'sort',\n",
              " 'sparse_dim',\n",
              " 'sparse_mask',\n",
              " 'sparse_resize_',\n",
              " 'sparse_resize_and_clear_',\n",
              " 'split',\n",
              " 'split_with_sizes',\n",
              " 'sqrt',\n",
              " 'sqrt_',\n",
              " 'square',\n",
              " 'square_',\n",
              " 'squeeze',\n",
              " 'squeeze_',\n",
              " 'sspaddmm',\n",
              " 'std',\n",
              " 'stft',\n",
              " 'storage',\n",
              " 'storage_offset',\n",
              " 'storage_type',\n",
              " 'stride',\n",
              " 'sub',\n",
              " 'sub_',\n",
              " 'subtract',\n",
              " 'subtract_',\n",
              " 'sum',\n",
              " 'sum_to_size',\n",
              " 'svd',\n",
              " 'swapaxes',\n",
              " 'swapaxes_',\n",
              " 'swapdims',\n",
              " 'swapdims_',\n",
              " 'symeig',\n",
              " 't',\n",
              " 't_',\n",
              " 'take',\n",
              " 'take_along_dim',\n",
              " 'tan',\n",
              " 'tan_',\n",
              " 'tanh',\n",
              " 'tanh_',\n",
              " 'tensor_split',\n",
              " 'tile',\n",
              " 'to',\n",
              " 'to_dense',\n",
              " 'to_mkldnn',\n",
              " 'to_padded_tensor',\n",
              " 'to_sparse',\n",
              " 'to_sparse_bsc',\n",
              " 'to_sparse_bsr',\n",
              " 'to_sparse_coo',\n",
              " 'to_sparse_csc',\n",
              " 'to_sparse_csr',\n",
              " 'tolist',\n",
              " 'topk',\n",
              " 'trace',\n",
              " 'transpose',\n",
              " 'transpose_',\n",
              " 'triangular_solve',\n",
              " 'tril',\n",
              " 'tril_',\n",
              " 'triu',\n",
              " 'triu_',\n",
              " 'true_divide',\n",
              " 'true_divide_',\n",
              " 'trunc',\n",
              " 'trunc_',\n",
              " 'type',\n",
              " 'type_as',\n",
              " 'unbind',\n",
              " 'unflatten',\n",
              " 'unfold',\n",
              " 'uniform_',\n",
              " 'unique',\n",
              " 'unique_consecutive',\n",
              " 'unsafe_chunk',\n",
              " 'unsafe_split',\n",
              " 'unsafe_split_with_sizes',\n",
              " 'unsqueeze',\n",
              " 'unsqueeze_',\n",
              " 'untyped_storage',\n",
              " 'values',\n",
              " 'var',\n",
              " 'vdot',\n",
              " 'view',\n",
              " 'view_as',\n",
              " 'vsplit',\n",
              " 'where',\n",
              " 'xlogy',\n",
              " 'xlogy_',\n",
              " 'xpu',\n",
              " 'zero_']"
            ]
          },
          "execution_count": 20,
          "metadata": {},
          "output_type": "execute_result"
        }
      ],
      "source": [
        "dir(t1)"
      ]
    },
    {
      "cell_type": "code",
      "execution_count": null,
      "metadata": {
        "colab": {
          "base_uri": "https://localhost:8080/",
          "height": 235
        },
        "id": "TrIwjZdB50Pq",
        "outputId": "4fc55fdf-bd62-4746-bf48-b1dd3be86ea1"
      },
      "outputs": [
        {
          "ename": "TypeError",
          "evalue": "ignored",
          "output_type": "error",
          "traceback": [
            "\u001b[0;31m---------------------------------------------------------------------------\u001b[0m",
            "\u001b[0;31mTypeError\u001b[0m                                 Traceback (most recent call last)",
            "\u001b[0;32m<ipython-input-21-763f22de8bef>\u001b[0m in \u001b[0;36m<cell line: 1>\u001b[0;34m()\u001b[0m\n\u001b[0;32m----> 1\u001b[0;31m \u001b[0mt\u001b[0m \u001b[0;34m=\u001b[0m \u001b[0mtorch\u001b[0m\u001b[0;34m.\u001b[0m\u001b[0mas_tensor\u001b[0m\u001b[0;34m(\u001b[0m\u001b[0mdata\u001b[0m \u001b[0;34m=\u001b[0m \u001b[0;34m[\u001b[0m\u001b[0;36m1\u001b[0m\u001b[0;34m,\u001b[0m \u001b[0;36m2\u001b[0m\u001b[0;34m,\u001b[0m \u001b[0;36m3\u001b[0m\u001b[0;34m]\u001b[0m\u001b[0;34m,\u001b[0m \u001b[0mdtype\u001b[0m\u001b[0;34m=\u001b[0m\u001b[0mtorch\u001b[0m\u001b[0;34m.\u001b[0m\u001b[0mfloat32\u001b[0m\u001b[0;34m,\u001b[0m \u001b[0mdevice\u001b[0m\u001b[0;34m=\u001b[0m\u001b[0;34m'cpu'\u001b[0m\u001b[0;34m,\u001b[0m \u001b[0mrequires_grad\u001b[0m\u001b[0;34m=\u001b[0m\u001b[0;32mFalse\u001b[0m\u001b[0;34m)\u001b[0m\u001b[0;34m\u001b[0m\u001b[0;34m\u001b[0m\u001b[0m\n\u001b[0m\u001b[1;32m      2\u001b[0m \u001b[0mt\u001b[0m\u001b[0;34m\u001b[0m\u001b[0;34m\u001b[0m\u001b[0m\n",
            "\u001b[0;31mTypeError\u001b[0m: as_tensor() got an unexpected keyword argument 'requires_grad'"
          ]
        }
      ],
      "source": [
        "t = torch.as_tensor(data = [1, 2, 3], dtype=torch.float32, device='cpu', requires_grad=False)\n",
        "t"
      ]
    },
    {
      "cell_type": "code",
      "execution_count": null,
      "metadata": {
        "colab": {
          "base_uri": "https://localhost:8080/"
        },
        "id": "XbGQ9g7A5-G4",
        "outputId": "ace1af1a-420b-4e9f-b0bc-c1c931df6fa9"
      },
      "outputs": [
        {
          "data": {
            "text/plain": [
              "tensor([1., 2., 3.])"
            ]
          },
          "execution_count": 22,
          "metadata": {},
          "output_type": "execute_result"
        }
      ],
      "source": [
        "t = torch.as_tensor(data = [1, 2, 3], dtype=torch.float32, device='cpu')\n",
        "t"
      ]
    },
    {
      "cell_type": "code",
      "execution_count": null,
      "metadata": {
        "colab": {
          "base_uri": "https://localhost:8080/"
        },
        "id": "WSQQtguJ6CTK",
        "outputId": "0bde93f9-b4ef-4a3e-b10f-9b17f176dfce"
      },
      "outputs": [
        {
          "data": {
            "text/plain": [
              "tensor([1., 2., 3.], requires_grad=True)"
            ]
          },
          "execution_count": 23,
          "metadata": {},
          "output_type": "execute_result"
        }
      ],
      "source": [
        "t.requires_grad_()"
      ]
    },
    {
      "cell_type": "code",
      "execution_count": null,
      "metadata": {
        "colab": {
          "base_uri": "https://localhost:8080/"
        },
        "id": "19IR66XM6EeB",
        "outputId": "5c11d974-c9f0-426e-910f-24205a77d63c"
      },
      "outputs": [
        {
          "data": {
            "text/plain": [
              "(tensor(2., dtype=torch.float16, requires_grad=True),\n",
              " tensor(3., dtype=torch.float16, requires_grad=True),\n",
              " tensor(1., dtype=torch.float16, requires_grad=True),\n",
              " tensor(4., dtype=torch.float16, requires_grad=True))"
            ]
          },
          "execution_count": 24,
          "metadata": {},
          "output_type": "execute_result"
        }
      ],
      "source": [
        "from torch.autograd import grad\n",
        "\n",
        "x1 = torch.tensor(2, requires_grad=True, dtype=torch.float16)\n",
        "x2 = torch.tensor(3, requires_grad=True, dtype=torch.float16)\n",
        "x3 = torch.tensor(1, requires_grad=True, dtype=torch.float16)\n",
        "x4 = torch.tensor(4, requires_grad=True, dtype=torch.float16)\n",
        "\n",
        "x1, x2, x3, x4"
      ]
    },
    {
      "cell_type": "code",
      "execution_count": null,
      "metadata": {
        "colab": {
          "base_uri": "https://localhost:8080/"
        },
        "id": "IZ-OJDW_6NvY",
        "outputId": "c231f1e9-a4ec-4e5d-a00a-b8cfef364912"
      },
      "outputs": [
        {
          "name": "stdout",
          "output_type": "stream",
          "text": [
            "gradient of x1 = 3.0\n",
            "gradient of x2 = 2.0\n",
            "gradient of x3 = 4.0\n",
            "gradient of x4 = 1.0\n"
          ]
        }
      ],
      "source": [
        "z1 = x1 * x2\n",
        "z2 = x3 * x4\n",
        "\n",
        "f = z1 + z2\n",
        "# f = x1 * x2 + x3 * x4\n",
        "# f = 2 * 3 + 1 * 4\n",
        "\n",
        "# df_dx1 => x1 * 3 + 1 * 4 > 3\n",
        "# df_dx4 => 2 * 3 + 1 * x4 > 1\n",
        "\n",
        "df_dx = grad(outputs = f, inputs = [x1, x2, x3, x4])\n",
        "print(f'gradient of x1 = {df_dx[0]}')\n",
        "print(f'gradient of x2 = {df_dx[1]}')\n",
        "print(f'gradient of x3 = {df_dx[2]}')\n",
        "print(f'gradient of x4 = {df_dx[3]}')"
      ]
    },
    {
      "cell_type": "code",
      "execution_count": null,
      "metadata": {
        "id": "1ef9fX6f7L6K"
      },
      "outputs": [],
      "source": [
        "import torch.nn.functional as F\n",
        "import torch.optim as optim\n",
        "\n",
        "opt = optim.SGD(params = [x1, x2, x3, x4], lr=0.001)\n",
        "opt.zero_grad()"
      ]
    },
    {
      "cell_type": "code",
      "execution_count": null,
      "metadata": {
        "colab": {
          "base_uri": "https://localhost:8080/"
        },
        "id": "l98htXJO7sAJ",
        "outputId": "c4da9f71-5711-4317-e11a-6829c6607f6c"
      },
      "outputs": [
        {
          "name": "stdout",
          "output_type": "stream",
          "text": [
            "gradient of x1 = 3.0\n",
            "gradient of x2 = 2.0\n",
            "gradient of x3 = 4.0\n",
            "gradient of x4 = 1.0\n"
          ]
        }
      ],
      "source": [
        "z1 = x1 * x2\n",
        "z2 = x3 * x4\n",
        "\n",
        "f = z1 + z2\n",
        "\n",
        "f.backward()\n",
        "\n",
        "print(f'gradient of x1 = {x1.grad}')\n",
        "print(f'gradient of x2 = {x2.grad}')\n",
        "print(f'gradient of x3 = {x3.grad}')\n",
        "print(f'gradient of x4 = {x4.grad}')"
      ]
    },
    {
      "cell_type": "code",
      "execution_count": null,
      "metadata": {
        "id": "VPujeiuC727m"
      },
      "outputs": [],
      "source": [
        "t = torch.tensor([\n",
        "    [0, 0, 0, 0],\n",
        "    [1, 2, 3, 4],\n",
        "    [2, 2, 2, 2]\n",
        "], dtype=torch.float32)"
      ]
    },
    {
      "cell_type": "code",
      "execution_count": null,
      "metadata": {
        "colab": {
          "base_uri": "https://localhost:8080/"
        },
        "id": "RRgTfMSK7-i9",
        "outputId": "82bcee63-78c3-4d5a-e506-ffe4a3045773"
      },
      "outputs": [
        {
          "data": {
            "text/plain": [
              "(torch.Size([3, 4]), torch.Size([3, 4]), 2)"
            ]
          },
          "execution_count": 29,
          "metadata": {},
          "output_type": "execute_result"
        }
      ],
      "source": [
        "t.shape, t.size(), len(t.shape)"
      ]
    },
    {
      "cell_type": "code",
      "execution_count": null,
      "metadata": {
        "colab": {
          "base_uri": "https://localhost:8080/"
        },
        "id": "JZ-jBIWI8AUi",
        "outputId": "93b0819a-78bf-4707-b92c-c7d18fdc197f"
      },
      "outputs": [
        {
          "data": {
            "text/plain": [
              "tensor(12)"
            ]
          },
          "execution_count": 30,
          "metadata": {},
          "output_type": "execute_result"
        }
      ],
      "source": [
        "torch.tensor(t.shape).prod()"
      ]
    },
    {
      "cell_type": "code",
      "execution_count": null,
      "metadata": {
        "colab": {
          "base_uri": "https://localhost:8080/"
        },
        "id": "fvVjxMKC8KPe",
        "outputId": "d6be966f-e134-401e-94d7-dc8c91b2d2d1"
      },
      "outputs": [
        {
          "data": {
            "text/plain": [
              "12"
            ]
          },
          "execution_count": 31,
          "metadata": {},
          "output_type": "execute_result"
        }
      ],
      "source": [
        "t.numel()"
      ]
    },
    {
      "cell_type": "code",
      "execution_count": null,
      "metadata": {
        "colab": {
          "base_uri": "https://localhost:8080/"
        },
        "id": "AjSU6Psu8M69",
        "outputId": "641c4f8e-715c-44cd-8988-ba82c412db06"
      },
      "outputs": [
        {
          "data": {
            "text/plain": [
              "tensor([[0., 0., 0., 0., 1., 2., 3., 4., 2., 2., 2., 2.]])"
            ]
          },
          "execution_count": 32,
          "metadata": {},
          "output_type": "execute_result"
        }
      ],
      "source": [
        "t.reshape(1, 12)"
      ]
    },
    {
      "cell_type": "code",
      "execution_count": null,
      "metadata": {
        "colab": {
          "base_uri": "https://localhost:8080/"
        },
        "id": "_jAk0b8v8TlE",
        "outputId": "6108ea25-dc05-48e4-af0c-e26307b8d0bc"
      },
      "outputs": [
        {
          "data": {
            "text/plain": [
              "tensor([[0., 0., 0., 0., 1., 2.],\n",
              "        [3., 4., 2., 2., 2., 2.]])"
            ]
          },
          "execution_count": 33,
          "metadata": {},
          "output_type": "execute_result"
        }
      ],
      "source": [
        "t.reshape(-1, 6)"
      ]
    },
    {
      "cell_type": "code",
      "execution_count": null,
      "metadata": {
        "colab": {
          "base_uri": "https://localhost:8080/"
        },
        "id": "CLaUtIzP8WOE",
        "outputId": "e35a19a3-05ea-4c80-fd1b-8708f3c04341"
      },
      "outputs": [
        {
          "data": {
            "text/plain": [
              "tensor([[0., 0., 0., 0., 1., 2.],\n",
              "        [3., 4., 2., 2., 2., 2.]])"
            ]
          },
          "execution_count": 34,
          "metadata": {},
          "output_type": "execute_result"
        }
      ],
      "source": [
        "t.reshape(2, -1)"
      ]
    },
    {
      "cell_type": "code",
      "execution_count": null,
      "metadata": {
        "colab": {
          "base_uri": "https://localhost:8080/"
        },
        "id": "6SAVGYQd8jYn",
        "outputId": "800d562c-5d3b-4162-aa20-8476ecc04c23"
      },
      "outputs": [
        {
          "data": {
            "text/plain": [
              "tensor([[[0., 0., 0.],\n",
              "         [0., 1., 2.]],\n",
              "\n",
              "        [[3., 4., 2.],\n",
              "         [2., 2., 2.]]])"
            ]
          },
          "execution_count": 35,
          "metadata": {},
          "output_type": "execute_result"
        }
      ],
      "source": [
        "t.reshape(2, 2, -1)"
      ]
    },
    {
      "cell_type": "code",
      "execution_count": null,
      "metadata": {
        "colab": {
          "base_uri": "https://localhost:8080/"
        },
        "id": "pih37ibm8nIv",
        "outputId": "6797ed4d-8aa6-447b-bf65-36c4e26a2698"
      },
      "outputs": [
        {
          "data": {
            "text/plain": [
              "tensor([[0., 0., 0.],\n",
              "        [0., 1., 2.],\n",
              "        [3., 4., 2.],\n",
              "        [2., 2., 2.]])"
            ]
          },
          "execution_count": 36,
          "metadata": {},
          "output_type": "execute_result"
        }
      ],
      "source": [
        "t.reshape(4, 3)"
      ]
    },
    {
      "cell_type": "code",
      "execution_count": null,
      "metadata": {
        "colab": {
          "base_uri": "https://localhost:8080/"
        },
        "id": "nu0uvMiO8thR",
        "outputId": "2bd96a6f-0a3e-451f-c8ba-faee304cd533"
      },
      "outputs": [
        {
          "name": "stdout",
          "output_type": "stream",
          "text": [
            "tensor([[0., 0., 0., 0., 1., 2., 3., 4., 2., 2., 2., 2.]])\n",
            "torch.Size([1, 12])\n"
          ]
        }
      ],
      "source": [
        "print(t.reshape(1, 12))\n",
        "print(t.reshape(1, 12).shape)"
      ]
    },
    {
      "cell_type": "code",
      "execution_count": null,
      "metadata": {
        "colab": {
          "base_uri": "https://localhost:8080/"
        },
        "id": "AUMJnv6P8y6v",
        "outputId": "024e5fc0-9e30-48ce-8f90-1578267bed90"
      },
      "outputs": [
        {
          "name": "stdout",
          "output_type": "stream",
          "text": [
            "tensor([[0., 0., 0., 0., 1., 2., 3., 4., 2., 2., 2., 2.]])\n",
            "torch.Size([1, 12])\n"
          ]
        }
      ],
      "source": [
        "print(t.reshape(-1, 12))\n",
        "print(t.reshape(-1, 12).shape)"
      ]
    },
    {
      "cell_type": "code",
      "execution_count": null,
      "metadata": {
        "colab": {
          "base_uri": "https://localhost:8080/"
        },
        "id": "5-i7JijJ87Mk",
        "outputId": "834169b3-269c-4f77-9870-7071e03c2c63"
      },
      "outputs": [
        {
          "name": "stdout",
          "output_type": "stream",
          "text": [
            "tensor([0., 0., 0., 0., 1., 2., 3., 4., 2., 2., 2., 2.])\n",
            "torch.Size([12])\n"
          ]
        }
      ],
      "source": [
        "print(t.reshape(1, 12).squeeze())\n",
        "print(t.reshape(1, 12).squeeze().shape)"
      ]
    },
    {
      "cell_type": "code",
      "execution_count": null,
      "metadata": {
        "colab": {
          "base_uri": "https://localhost:8080/"
        },
        "id": "ies2BbDD9bJt",
        "outputId": "b86e75e8-04dc-43ff-f922-aa64e82baed0"
      },
      "outputs": [
        {
          "name": "stdout",
          "output_type": "stream",
          "text": [
            "tensor([[0., 0., 0., 0., 1., 2., 3., 4., 2., 2., 2., 2.]])\n",
            "torch.Size([1, 12])\n"
          ]
        }
      ],
      "source": [
        "print(t.reshape(1, 12).squeeze().unsqueeze(dim = 0))\n",
        "print(t.reshape(1, 12).squeeze().unsqueeze(dim = 0).shape)"
      ]
    },
    {
      "cell_type": "code",
      "execution_count": null,
      "metadata": {
        "colab": {
          "base_uri": "https://localhost:8080/"
        },
        "id": "barSVd1u9wXw",
        "outputId": "339d1f14-76be-4b33-bce9-745b3c93790e"
      },
      "outputs": [
        {
          "data": {
            "text/plain": [
              "torch.Size([3, 4])"
            ]
          },
          "execution_count": 44,
          "metadata": {},
          "output_type": "execute_result"
        }
      ],
      "source": [
        "def flatter(t):\n",
        "  t = t.reshape(1, -1)\n",
        "  t = t.squeeze()\n",
        "  return t\n",
        "\n",
        "t.shape"
      ]
    },
    {
      "cell_type": "code",
      "execution_count": null,
      "metadata": {
        "colab": {
          "base_uri": "https://localhost:8080/"
        },
        "id": "osnfjLbp96TJ",
        "outputId": "acf80a1e-25b0-444d-b023-7b4c50405c81"
      },
      "outputs": [
        {
          "data": {
            "text/plain": [
              "(torch.Size([12]), tensor([0., 0., 0., 0., 1., 2., 3., 4., 2., 2., 2., 2.]))"
            ]
          },
          "execution_count": 45,
          "metadata": {},
          "output_type": "execute_result"
        }
      ],
      "source": [
        "t_flatter = flatter(t)\n",
        "t_flatter.shape, t_flatter"
      ]
    },
    {
      "cell_type": "code",
      "execution_count": null,
      "metadata": {
        "colab": {
          "base_uri": "https://localhost:8080/"
        },
        "id": "zwl_GSFv-ADI",
        "outputId": "5c55ef1b-8707-4f57-a994-b2eed15d4673"
      },
      "outputs": [
        {
          "data": {
            "text/plain": [
              "tensor([[1, 2],\n",
              "        [3, 4],\n",
              "        [5, 6],\n",
              "        [7, 8]])"
            ]
          },
          "execution_count": 46,
          "metadata": {},
          "output_type": "execute_result"
        }
      ],
      "source": [
        "t1 = torch.tensor([\n",
        "    [1, 2],\n",
        "    [3, 4]\n",
        "])\n",
        "\n",
        "t2 = torch.tensor([\n",
        "    [5, 6],\n",
        "    [7, 8]\n",
        "])\n",
        "\n",
        "torch.cat((t1, t2), dim=0)"
      ]
    },
    {
      "cell_type": "code",
      "execution_count": null,
      "metadata": {
        "colab": {
          "base_uri": "https://localhost:8080/"
        },
        "id": "q7JlpEmn-lPi",
        "outputId": "8ab77c94-6716-43a6-e20a-6081a8b6667b"
      },
      "outputs": [
        {
          "data": {
            "text/plain": [
              "tensor([[1, 2, 5, 6],\n",
              "        [3, 4, 7, 8]])"
            ]
          },
          "execution_count": 47,
          "metadata": {},
          "output_type": "execute_result"
        }
      ],
      "source": [
        "torch.cat((t1, t2), dim=1)"
      ]
    },
    {
      "cell_type": "code",
      "execution_count": null,
      "metadata": {
        "colab": {
          "base_uri": "https://localhost:8080/"
        },
        "id": "mCF7JCJU-ocS",
        "outputId": "c5734c88-1ab3-4e01-cbb2-8bd2aa0e63f3"
      },
      "outputs": [
        {
          "data": {
            "text/plain": [
              "(tensor([[0., 0., 0., 0.],\n",
              "         [1., 2., 3., 4.],\n",
              "         [2., 2., 2., 2.]]),\n",
              " tensor([[0., 0., 0., 0.],\n",
              "         [1., 2., 3., 4.],\n",
              "         [2., 2., 2., 2.]]))"
            ]
          },
          "execution_count": 51,
          "metadata": {},
          "output_type": "execute_result"
        }
      ],
      "source": [
        "t.reshape(4, 3)\n",
        "t.squeeze(dim=1), t"
      ]
    },
    {
      "cell_type": "code",
      "execution_count": null,
      "metadata": {
        "colab": {
          "base_uri": "https://localhost:8080/"
        },
        "id": "ZIzp9hfI_Laj",
        "outputId": "30a7a458-033a-49ca-cb0e-c322d4ed0aef"
      },
      "outputs": [
        {
          "data": {
            "text/plain": [
              "tensor([[0., 0., 0., 0., 1., 2.],\n",
              "        [3., 4., 2., 2., 2., 2.]])"
            ]
          },
          "execution_count": 52,
          "metadata": {},
          "output_type": "execute_result"
        }
      ],
      "source": [
        "t.reshape(2, -1)"
      ]
    },
    {
      "cell_type": "code",
      "execution_count": null,
      "metadata": {
        "id": "_t-L7dVG_bF2"
      },
      "outputs": [],
      "source": [
        "img1 = torch.tensor([\n",
        "  [1, 1, 1, 1],\n",
        "  [1, 1, 1, 1],\n",
        "  [1, 1, 1, 1],\n",
        "  [1, 1, 1, 1]\n",
        "])\n",
        "\n",
        "img2 = torch.tensor([\n",
        "  [2, 2, 2, 2],\n",
        "  [2, 2, 2, 2],\n",
        "  [2, 2, 2, 2],\n",
        "  [2, 2, 2, 2]\n",
        "])\n",
        "\n",
        "img3 = torch.tensor([\n",
        "  [3, 3, 3, 3],\n",
        "  [3, 3, 3, 3],\n",
        "  [3, 3, 3, 3],\n",
        "  [3, 3, 3, 3]\n",
        "])"
      ]
    },
    {
      "cell_type": "code",
      "execution_count": null,
      "metadata": {
        "colab": {
          "base_uri": "https://localhost:8080/"
        },
        "id": "9UOhobRS_eBw",
        "outputId": "4280ca9b-69b3-4fc4-ec6b-1f1d0cca14b0"
      },
      "outputs": [
        {
          "data": {
            "text/plain": [
              "torch.Size([3, 4, 4])"
            ]
          },
          "execution_count": 54,
          "metadata": {},
          "output_type": "execute_result"
        }
      ],
      "source": [
        "batch = torch.stack((img1, img2, img3))\n",
        "batch.shape"
      ]
    },
    {
      "cell_type": "code",
      "execution_count": null,
      "metadata": {
        "colab": {
          "base_uri": "https://localhost:8080/"
        },
        "id": "DrEx5n_-_gIs",
        "outputId": "6d0c9801-9fb5-40c8-d927-67a130ad2f40"
      },
      "outputs": [
        {
          "data": {
            "text/plain": [
              "tensor([[[[1, 1, 1, 1],\n",
              "          [1, 1, 1, 1],\n",
              "          [1, 1, 1, 1],\n",
              "          [1, 1, 1, 1]]],\n",
              "\n",
              "\n",
              "        [[[2, 2, 2, 2],\n",
              "          [2, 2, 2, 2],\n",
              "          [2, 2, 2, 2],\n",
              "          [2, 2, 2, 2]]],\n",
              "\n",
              "\n",
              "        [[[3, 3, 3, 3],\n",
              "          [3, 3, 3, 3],\n",
              "          [3, 3, 3, 3],\n",
              "          [3, 3, 3, 3]]]])"
            ]
          },
          "execution_count": 55,
          "metadata": {},
          "output_type": "execute_result"
        }
      ],
      "source": [
        "batch = batch.reshape(3, 1, 4, 4)\n",
        "batch"
      ]
    },
    {
      "cell_type": "code",
      "execution_count": null,
      "metadata": {
        "colab": {
          "base_uri": "https://localhost:8080/"
        },
        "id": "EZuwiIqs_jWR",
        "outputId": "c3f43fd7-017b-4f5f-ba24-58a868d3a34c"
      },
      "outputs": [
        {
          "data": {
            "text/plain": [
              "tensor([[[1, 1, 1, 1],\n",
              "         [1, 1, 1, 1],\n",
              "         [1, 1, 1, 1],\n",
              "         [1, 1, 1, 1]]])"
            ]
          },
          "execution_count": 56,
          "metadata": {},
          "output_type": "execute_result"
        }
      ],
      "source": [
        "batch[0]"
      ]
    },
    {
      "cell_type": "code",
      "execution_count": null,
      "metadata": {
        "id": "K7JqI6-Y_wLm"
      },
      "outputs": [],
      "source": [
        "t1 = torch.tensor([\n",
        "    [1, 2],\n",
        "    [3, 4]\n",
        "], dtype=torch.float32)\n",
        "\n",
        "t2 = torch.tensor([\n",
        "    [5, 6],\n",
        "    [7, 8]\n",
        "], dtype=torch.float32)"
      ]
    },
    {
      "cell_type": "code",
      "execution_count": null,
      "metadata": {
        "colab": {
          "base_uri": "https://localhost:8080/"
        },
        "id": "_OuW1RJ-A53n",
        "outputId": "5d3d81f0-3d8d-4dde-8de4-22f420514081"
      },
      "outputs": [
        {
          "data": {
            "text/plain": [
              "tensor([[ 6.,  8.],\n",
              "        [10., 12.]])"
            ]
          },
          "execution_count": 58,
          "metadata": {},
          "output_type": "execute_result"
        }
      ],
      "source": [
        "t1 + t2"
      ]
    },
    {
      "cell_type": "code",
      "execution_count": null,
      "metadata": {
        "colab": {
          "base_uri": "https://localhost:8080/"
        },
        "id": "mBqQmSKKA7RF",
        "outputId": "2ee6e7e2-a5fc-4193-9a4e-aa249d269ce8"
      },
      "outputs": [
        {
          "data": {
            "text/plain": [
              "tensor([[-4., -4.],\n",
              "        [-4., -4.]])"
            ]
          },
          "execution_count": 59,
          "metadata": {},
          "output_type": "execute_result"
        }
      ],
      "source": [
        "t1 - t2"
      ]
    },
    {
      "cell_type": "code",
      "execution_count": null,
      "metadata": {
        "colab": {
          "base_uri": "https://localhost:8080/"
        },
        "id": "_nFfA6voA8JW",
        "outputId": "54054839-8389-4192-9ba8-26b39f66eaf5"
      },
      "outputs": [
        {
          "data": {
            "text/plain": [
              "tensor([[3., 4.],\n",
              "        [5., 6.]])"
            ]
          },
          "execution_count": 60,
          "metadata": {},
          "output_type": "execute_result"
        }
      ],
      "source": [
        "t1 + 2"
      ]
    },
    {
      "cell_type": "code",
      "execution_count": null,
      "metadata": {
        "colab": {
          "base_uri": "https://localhost:8080/"
        },
        "id": "ZqLRuCQnA-5a",
        "outputId": "98de1ce5-7d0a-464c-aa77-0aa79abfcf12"
      },
      "outputs": [
        {
          "name": "stdout",
          "output_type": "stream",
          "text": [
            "tensor([[3., 4.],\n",
            "        [5., 6.]])\n",
            "tensor([[-1.,  0.],\n",
            "        [ 1.,  2.]])\n",
            "tensor([[2., 4.],\n",
            "        [6., 8.]])\n",
            "tensor([[0.5000, 1.0000],\n",
            "        [1.5000, 2.0000]])\n"
          ]
        }
      ],
      "source": [
        "print(t1.add(2))\n",
        "\n",
        "print(t1.sub(2))\n",
        "\n",
        "print(t1.mul(2))\n",
        "\n",
        "print(t1.div(2))"
      ]
    },
    {
      "cell_type": "code",
      "execution_count": null,
      "metadata": {
        "id": "ZTGGlw5vBCni"
      },
      "outputs": [],
      "source": [
        "t = torch.tensor([\n",
        "    [0, 5, 7],\n",
        "    [6, 0, 7],\n",
        "    [0, 8, 0]\n",
        "], dtype=torch.float32)"
      ]
    },
    {
      "cell_type": "code",
      "execution_count": null,
      "metadata": {
        "colab": {
          "base_uri": "https://localhost:8080/"
        },
        "id": "7lLSmMh3BFNB",
        "outputId": "fc9c2121-c6fb-4aaf-f6e7-819b06ea6347"
      },
      "outputs": [
        {
          "data": {
            "text/plain": [
              "tensor([[ True, False, False],\n",
              "        [False,  True, False],\n",
              "        [ True, False,  True]])"
            ]
          },
          "execution_count": 63,
          "metadata": {},
          "output_type": "execute_result"
        }
      ],
      "source": [
        "t.eq(0)"
      ]
    },
    {
      "cell_type": "code",
      "execution_count": null,
      "metadata": {
        "colab": {
          "base_uri": "https://localhost:8080/"
        },
        "id": "1E09oTmFBH-X",
        "outputId": "b28e6609-d559-45e5-f356-ad45250becdf"
      },
      "outputs": [
        {
          "data": {
            "text/plain": [
              "tensor([[True, True, True],\n",
              "        [True, True, True],\n",
              "        [True, True, True]])"
            ]
          },
          "execution_count": 64,
          "metadata": {},
          "output_type": "execute_result"
        }
      ],
      "source": [
        "t.ge(0)"
      ]
    },
    {
      "cell_type": "code",
      "execution_count": null,
      "metadata": {
        "colab": {
          "base_uri": "https://localhost:8080/"
        },
        "id": "uz4gcBzhBJlN",
        "outputId": "93430463-bfb5-4f15-c122-53861b781c5e"
      },
      "outputs": [
        {
          "data": {
            "text/plain": [
              "tensor([[ True,  True,  True],\n",
              "        [ True,  True,  True],\n",
              "        [ True, False,  True]])"
            ]
          },
          "execution_count": 65,
          "metadata": {},
          "output_type": "execute_result"
        }
      ],
      "source": [
        "t.le(7)"
      ]
    },
    {
      "cell_type": "code",
      "execution_count": null,
      "metadata": {
        "colab": {
          "base_uri": "https://localhost:8080/"
        },
        "id": "DY5yYS2oBKwv",
        "outputId": "50536e3f-5cc3-47df-a04f-307ab6bca01a"
      },
      "outputs": [
        {
          "data": {
            "text/plain": [
              "['H',\n",
              " 'T',\n",
              " '__abs__',\n",
              " '__add__',\n",
              " '__and__',\n",
              " '__array__',\n",
              " '__array_priority__',\n",
              " '__array_wrap__',\n",
              " '__bool__',\n",
              " '__class__',\n",
              " '__complex__',\n",
              " '__contains__',\n",
              " '__deepcopy__',\n",
              " '__delattr__',\n",
              " '__delitem__',\n",
              " '__dict__',\n",
              " '__dir__',\n",
              " '__div__',\n",
              " '__dlpack__',\n",
              " '__dlpack_device__',\n",
              " '__doc__',\n",
              " '__eq__',\n",
              " '__float__',\n",
              " '__floordiv__',\n",
              " '__format__',\n",
              " '__ge__',\n",
              " '__getattribute__',\n",
              " '__getitem__',\n",
              " '__gt__',\n",
              " '__hash__',\n",
              " '__iadd__',\n",
              " '__iand__',\n",
              " '__idiv__',\n",
              " '__ifloordiv__',\n",
              " '__ilshift__',\n",
              " '__imod__',\n",
              " '__imul__',\n",
              " '__index__',\n",
              " '__init__',\n",
              " '__init_subclass__',\n",
              " '__int__',\n",
              " '__invert__',\n",
              " '__ior__',\n",
              " '__ipow__',\n",
              " '__irshift__',\n",
              " '__isub__',\n",
              " '__iter__',\n",
              " '__itruediv__',\n",
              " '__ixor__',\n",
              " '__le__',\n",
              " '__len__',\n",
              " '__long__',\n",
              " '__lshift__',\n",
              " '__lt__',\n",
              " '__matmul__',\n",
              " '__mod__',\n",
              " '__module__',\n",
              " '__mul__',\n",
              " '__ne__',\n",
              " '__neg__',\n",
              " '__new__',\n",
              " '__nonzero__',\n",
              " '__or__',\n",
              " '__pos__',\n",
              " '__pow__',\n",
              " '__radd__',\n",
              " '__rand__',\n",
              " '__rdiv__',\n",
              " '__reduce__',\n",
              " '__reduce_ex__',\n",
              " '__repr__',\n",
              " '__reversed__',\n",
              " '__rfloordiv__',\n",
              " '__rlshift__',\n",
              " '__rmatmul__',\n",
              " '__rmod__',\n",
              " '__rmul__',\n",
              " '__ror__',\n",
              " '__rpow__',\n",
              " '__rrshift__',\n",
              " '__rshift__',\n",
              " '__rsub__',\n",
              " '__rtruediv__',\n",
              " '__rxor__',\n",
              " '__setattr__',\n",
              " '__setitem__',\n",
              " '__setstate__',\n",
              " '__sizeof__',\n",
              " '__str__',\n",
              " '__sub__',\n",
              " '__subclasshook__',\n",
              " '__torch_dispatch__',\n",
              " '__torch_function__',\n",
              " '__truediv__',\n",
              " '__weakref__',\n",
              " '__xor__',\n",
              " '_addmm_activation',\n",
              " '_autocast_to_full_precision',\n",
              " '_autocast_to_reduced_precision',\n",
              " '_backward_hooks',\n",
              " '_base',\n",
              " '_cdata',\n",
              " '_coalesced_',\n",
              " '_conj',\n",
              " '_conj_physical',\n",
              " '_dimI',\n",
              " '_dimV',\n",
              " '_fix_weakref',\n",
              " '_grad',\n",
              " '_grad_fn',\n",
              " '_has_symbolic_sizes_strides',\n",
              " '_indices',\n",
              " '_is_all_true',\n",
              " '_is_any_true',\n",
              " '_is_view',\n",
              " '_is_zerotensor',\n",
              " '_make_subclass',\n",
              " '_make_wrapper_subclass',\n",
              " '_neg_view',\n",
              " '_nested_tensor_size',\n",
              " '_nested_tensor_strides',\n",
              " '_nnz',\n",
              " '_python_dispatch',\n",
              " '_reduce_ex_internal',\n",
              " '_to_dense',\n",
              " '_typed_storage',\n",
              " '_update_names',\n",
              " '_values',\n",
              " '_version',\n",
              " '_view_func',\n",
              " 'abs',\n",
              " 'abs_',\n",
              " 'absolute',\n",
              " 'absolute_',\n",
              " 'acos',\n",
              " 'acos_',\n",
              " 'acosh',\n",
              " 'acosh_',\n",
              " 'add',\n",
              " 'add_',\n",
              " 'addbmm',\n",
              " 'addbmm_',\n",
              " 'addcdiv',\n",
              " 'addcdiv_',\n",
              " 'addcmul',\n",
              " 'addcmul_',\n",
              " 'addmm',\n",
              " 'addmm_',\n",
              " 'addmv',\n",
              " 'addmv_',\n",
              " 'addr',\n",
              " 'addr_',\n",
              " 'adjoint',\n",
              " 'align_as',\n",
              " 'align_to',\n",
              " 'all',\n",
              " 'allclose',\n",
              " 'amax',\n",
              " 'amin',\n",
              " 'aminmax',\n",
              " 'angle',\n",
              " 'any',\n",
              " 'apply_',\n",
              " 'arccos',\n",
              " 'arccos_',\n",
              " 'arccosh',\n",
              " 'arccosh_',\n",
              " 'arcsin',\n",
              " 'arcsin_',\n",
              " 'arcsinh',\n",
              " 'arcsinh_',\n",
              " 'arctan',\n",
              " 'arctan2',\n",
              " 'arctan2_',\n",
              " 'arctan_',\n",
              " 'arctanh',\n",
              " 'arctanh_',\n",
              " 'argmax',\n",
              " 'argmin',\n",
              " 'argsort',\n",
              " 'argwhere',\n",
              " 'as_strided',\n",
              " 'as_strided_',\n",
              " 'as_strided_scatter',\n",
              " 'as_subclass',\n",
              " 'asin',\n",
              " 'asin_',\n",
              " 'asinh',\n",
              " 'asinh_',\n",
              " 'atan',\n",
              " 'atan2',\n",
              " 'atan2_',\n",
              " 'atan_',\n",
              " 'atanh',\n",
              " 'atanh_',\n",
              " 'backward',\n",
              " 'baddbmm',\n",
              " 'baddbmm_',\n",
              " 'bernoulli',\n",
              " 'bernoulli_',\n",
              " 'bfloat16',\n",
              " 'bincount',\n",
              " 'bitwise_and',\n",
              " 'bitwise_and_',\n",
              " 'bitwise_left_shift',\n",
              " 'bitwise_left_shift_',\n",
              " 'bitwise_not',\n",
              " 'bitwise_not_',\n",
              " 'bitwise_or',\n",
              " 'bitwise_or_',\n",
              " 'bitwise_right_shift',\n",
              " 'bitwise_right_shift_',\n",
              " 'bitwise_xor',\n",
              " 'bitwise_xor_',\n",
              " 'bmm',\n",
              " 'bool',\n",
              " 'broadcast_to',\n",
              " 'byte',\n",
              " 'cauchy_',\n",
              " 'ccol_indices',\n",
              " 'cdouble',\n",
              " 'ceil',\n",
              " 'ceil_',\n",
              " 'cfloat',\n",
              " 'chalf',\n",
              " 'char',\n",
              " 'cholesky',\n",
              " 'cholesky_inverse',\n",
              " 'cholesky_solve',\n",
              " 'chunk',\n",
              " 'clamp',\n",
              " 'clamp_',\n",
              " 'clamp_max',\n",
              " 'clamp_max_',\n",
              " 'clamp_min',\n",
              " 'clamp_min_',\n",
              " 'clip',\n",
              " 'clip_',\n",
              " 'clone',\n",
              " 'coalesce',\n",
              " 'col_indices',\n",
              " 'conj',\n",
              " 'conj_physical',\n",
              " 'conj_physical_',\n",
              " 'contiguous',\n",
              " 'copy_',\n",
              " 'copysign',\n",
              " 'copysign_',\n",
              " 'corrcoef',\n",
              " 'cos',\n",
              " 'cos_',\n",
              " 'cosh',\n",
              " 'cosh_',\n",
              " 'count_nonzero',\n",
              " 'cov',\n",
              " 'cpu',\n",
              " 'cross',\n",
              " 'crow_indices',\n",
              " 'cuda',\n",
              " 'cummax',\n",
              " 'cummin',\n",
              " 'cumprod',\n",
              " 'cumprod_',\n",
              " 'cumsum',\n",
              " 'cumsum_',\n",
              " 'data',\n",
              " 'data_ptr',\n",
              " 'deg2rad',\n",
              " 'deg2rad_',\n",
              " 'dense_dim',\n",
              " 'dequantize',\n",
              " 'det',\n",
              " 'detach',\n",
              " 'detach_',\n",
              " 'device',\n",
              " 'diag',\n",
              " 'diag_embed',\n",
              " 'diagflat',\n",
              " 'diagonal',\n",
              " 'diagonal_scatter',\n",
              " 'diff',\n",
              " 'digamma',\n",
              " 'digamma_',\n",
              " 'dim',\n",
              " 'dist',\n",
              " 'div',\n",
              " 'div_',\n",
              " 'divide',\n",
              " 'divide_',\n",
              " 'dot',\n",
              " 'double',\n",
              " 'dsplit',\n",
              " 'dtype',\n",
              " 'eig',\n",
              " 'element_size',\n",
              " 'eq',\n",
              " 'eq_',\n",
              " 'equal',\n",
              " 'erf',\n",
              " 'erf_',\n",
              " 'erfc',\n",
              " 'erfc_',\n",
              " 'erfinv',\n",
              " 'erfinv_',\n",
              " 'exp',\n",
              " 'exp2',\n",
              " 'exp2_',\n",
              " 'exp_',\n",
              " 'expand',\n",
              " 'expand_as',\n",
              " 'expm1',\n",
              " 'expm1_',\n",
              " 'exponential_',\n",
              " 'fill_',\n",
              " 'fill_diagonal_',\n",
              " 'fix',\n",
              " 'fix_',\n",
              " 'flatten',\n",
              " 'flip',\n",
              " 'fliplr',\n",
              " 'flipud',\n",
              " 'float',\n",
              " 'float_power',\n",
              " 'float_power_',\n",
              " 'floor',\n",
              " 'floor_',\n",
              " 'floor_divide',\n",
              " 'floor_divide_',\n",
              " 'fmax',\n",
              " 'fmin',\n",
              " 'fmod',\n",
              " 'fmod_',\n",
              " 'frac',\n",
              " 'frac_',\n",
              " 'frexp',\n",
              " 'gather',\n",
              " 'gcd',\n",
              " 'gcd_',\n",
              " 'ge',\n",
              " 'ge_',\n",
              " 'geometric_',\n",
              " 'geqrf',\n",
              " 'ger',\n",
              " 'get_device',\n",
              " 'grad',\n",
              " 'grad_fn',\n",
              " 'greater',\n",
              " 'greater_',\n",
              " 'greater_equal',\n",
              " 'greater_equal_',\n",
              " 'gt',\n",
              " 'gt_',\n",
              " 'half',\n",
              " 'hardshrink',\n",
              " 'has_names',\n",
              " 'heaviside',\n",
              " 'heaviside_',\n",
              " 'histc',\n",
              " 'histogram',\n",
              " 'hsplit',\n",
              " 'hypot',\n",
              " 'hypot_',\n",
              " 'i0',\n",
              " 'i0_',\n",
              " 'igamma',\n",
              " 'igamma_',\n",
              " 'igammac',\n",
              " 'igammac_',\n",
              " 'imag',\n",
              " 'index_add',\n",
              " 'index_add_',\n",
              " 'index_copy',\n",
              " 'index_copy_',\n",
              " 'index_fill',\n",
              " 'index_fill_',\n",
              " 'index_put',\n",
              " 'index_put_',\n",
              " 'index_reduce',\n",
              " 'index_reduce_',\n",
              " 'index_select',\n",
              " 'indices',\n",
              " 'inner',\n",
              " 'int',\n",
              " 'int_repr',\n",
              " 'inverse',\n",
              " 'ipu',\n",
              " 'is_coalesced',\n",
              " 'is_complex',\n",
              " 'is_conj',\n",
              " 'is_contiguous',\n",
              " 'is_cpu',\n",
              " 'is_cuda',\n",
              " 'is_distributed',\n",
              " 'is_floating_point',\n",
              " 'is_inference',\n",
              " 'is_ipu',\n",
              " 'is_leaf',\n",
              " 'is_meta',\n",
              " 'is_mkldnn',\n",
              " 'is_mps',\n",
              " 'is_neg',\n",
              " 'is_nested',\n",
              " 'is_nonzero',\n",
              " 'is_ort',\n",
              " 'is_pinned',\n",
              " 'is_quantized',\n",
              " 'is_same_size',\n",
              " 'is_set_to',\n",
              " 'is_shared',\n",
              " 'is_signed',\n",
              " 'is_sparse',\n",
              " 'is_sparse_csr',\n",
              " 'is_vulkan',\n",
              " 'is_xpu',\n",
              " 'isclose',\n",
              " 'isfinite',\n",
              " 'isinf',\n",
              " 'isnan',\n",
              " 'isneginf',\n",
              " 'isposinf',\n",
              " 'isreal',\n",
              " 'istft',\n",
              " 'item',\n",
              " 'kron',\n",
              " 'kthvalue',\n",
              " 'layout',\n",
              " 'lcm',\n",
              " 'lcm_',\n",
              " 'ldexp',\n",
              " 'ldexp_',\n",
              " 'le',\n",
              " 'le_',\n",
              " 'lerp',\n",
              " 'lerp_',\n",
              " 'less',\n",
              " 'less_',\n",
              " 'less_equal',\n",
              " 'less_equal_',\n",
              " 'lgamma',\n",
              " 'lgamma_',\n",
              " 'log',\n",
              " 'log10',\n",
              " 'log10_',\n",
              " 'log1p',\n",
              " 'log1p_',\n",
              " 'log2',\n",
              " 'log2_',\n",
              " 'log_',\n",
              " 'log_normal_',\n",
              " 'log_softmax',\n",
              " 'logaddexp',\n",
              " 'logaddexp2',\n",
              " 'logcumsumexp',\n",
              " 'logdet',\n",
              " 'logical_and',\n",
              " 'logical_and_',\n",
              " 'logical_not',\n",
              " 'logical_not_',\n",
              " 'logical_or',\n",
              " 'logical_or_',\n",
              " 'logical_xor',\n",
              " 'logical_xor_',\n",
              " 'logit',\n",
              " 'logit_',\n",
              " 'logsumexp',\n",
              " 'long',\n",
              " 'lstsq',\n",
              " 'lt',\n",
              " 'lt_',\n",
              " 'lu',\n",
              " 'lu_solve',\n",
              " 'mH',\n",
              " 'mT',\n",
              " 'map2_',\n",
              " 'map_',\n",
              " 'masked_fill',\n",
              " 'masked_fill_',\n",
              " 'masked_scatter',\n",
              " 'masked_scatter_',\n",
              " 'masked_select',\n",
              " 'matmul',\n",
              " 'matrix_exp',\n",
              " 'matrix_power',\n",
              " 'max',\n",
              " 'maximum',\n",
              " 'mean',\n",
              " 'median',\n",
              " 'min',\n",
              " 'minimum',\n",
              " 'mm',\n",
              " 'mode',\n",
              " 'moveaxis',\n",
              " 'movedim',\n",
              " 'msort',\n",
              " 'mul',\n",
              " 'mul_',\n",
              " 'multinomial',\n",
              " 'multiply',\n",
              " 'multiply_',\n",
              " 'mv',\n",
              " 'mvlgamma',\n",
              " 'mvlgamma_',\n",
              " 'name',\n",
              " 'names',\n",
              " 'nan_to_num',\n",
              " 'nan_to_num_',\n",
              " 'nanmean',\n",
              " 'nanmedian',\n",
              " 'nanquantile',\n",
              " 'nansum',\n",
              " 'narrow',\n",
              " 'narrow_copy',\n",
              " 'ndim',\n",
              " 'ndimension',\n",
              " 'ne',\n",
              " 'ne_',\n",
              " 'neg',\n",
              " 'neg_',\n",
              " 'negative',\n",
              " 'negative_',\n",
              " 'nelement',\n",
              " 'new',\n",
              " 'new_empty',\n",
              " 'new_empty_strided',\n",
              " 'new_full',\n",
              " 'new_ones',\n",
              " 'new_tensor',\n",
              " 'new_zeros',\n",
              " 'nextafter',\n",
              " 'nextafter_',\n",
              " 'nonzero',\n",
              " 'norm',\n",
              " 'normal_',\n",
              " 'not_equal',\n",
              " 'not_equal_',\n",
              " 'numel',\n",
              " 'numpy',\n",
              " 'orgqr',\n",
              " 'ormqr',\n",
              " 'outer',\n",
              " 'output_nr',\n",
              " 'permute',\n",
              " 'pin_memory',\n",
              " 'pinverse',\n",
              " 'polygamma',\n",
              " 'polygamma_',\n",
              " 'positive',\n",
              " 'pow',\n",
              " 'pow_',\n",
              " 'prelu',\n",
              " 'prod',\n",
              " 'put',\n",
              " 'put_',\n",
              " 'q_per_channel_axis',\n",
              " 'q_per_channel_scales',\n",
              " 'q_per_channel_zero_points',\n",
              " 'q_scale',\n",
              " 'q_zero_point',\n",
              " 'qr',\n",
              " 'qscheme',\n",
              " 'quantile',\n",
              " 'rad2deg',\n",
              " 'rad2deg_',\n",
              " 'random_',\n",
              " 'ravel',\n",
              " 'real',\n",
              " 'reciprocal',\n",
              " 'reciprocal_',\n",
              " 'record_stream',\n",
              " 'refine_names',\n",
              " 'register_hook',\n",
              " 'reinforce',\n",
              " 'relu',\n",
              " 'relu_',\n",
              " 'remainder',\n",
              " 'remainder_',\n",
              " 'rename',\n",
              " 'rename_',\n",
              " 'renorm',\n",
              " 'renorm_',\n",
              " 'repeat',\n",
              " 'repeat_interleave',\n",
              " 'requires_grad',\n",
              " 'requires_grad_',\n",
              " 'reshape',\n",
              " 'reshape_as',\n",
              " 'resize',\n",
              " 'resize_',\n",
              " 'resize_as',\n",
              " 'resize_as_',\n",
              " 'resize_as_sparse_',\n",
              " 'resolve_conj',\n",
              " 'resolve_neg',\n",
              " 'retain_grad',\n",
              " 'retains_grad',\n",
              " 'roll',\n",
              " 'rot90',\n",
              " 'round',\n",
              " 'round_',\n",
              " 'row_indices',\n",
              " 'rsqrt',\n",
              " 'rsqrt_',\n",
              " 'scatter',\n",
              " 'scatter_',\n",
              " 'scatter_add',\n",
              " 'scatter_add_',\n",
              " 'scatter_reduce',\n",
              " 'scatter_reduce_',\n",
              " 'select',\n",
              " 'select_scatter',\n",
              " 'set_',\n",
              " 'sgn',\n",
              " 'sgn_',\n",
              " 'shape',\n",
              " 'share_memory_',\n",
              " 'short',\n",
              " 'sigmoid',\n",
              " 'sigmoid_',\n",
              " 'sign',\n",
              " 'sign_',\n",
              " 'signbit',\n",
              " 'sin',\n",
              " 'sin_',\n",
              " 'sinc',\n",
              " 'sinc_',\n",
              " 'sinh',\n",
              " 'sinh_',\n",
              " 'size',\n",
              " 'slice_scatter',\n",
              " 'slogdet',\n",
              " 'smm',\n",
              " 'softmax',\n",
              " 'solve',\n",
              " 'sort',\n",
              " 'sparse_dim',\n",
              " 'sparse_mask',\n",
              " 'sparse_resize_',\n",
              " 'sparse_resize_and_clear_',\n",
              " 'split',\n",
              " 'split_with_sizes',\n",
              " 'sqrt',\n",
              " 'sqrt_',\n",
              " 'square',\n",
              " 'square_',\n",
              " 'squeeze',\n",
              " 'squeeze_',\n",
              " 'sspaddmm',\n",
              " 'std',\n",
              " 'stft',\n",
              " 'storage',\n",
              " 'storage_offset',\n",
              " 'storage_type',\n",
              " 'stride',\n",
              " 'sub',\n",
              " 'sub_',\n",
              " 'subtract',\n",
              " 'subtract_',\n",
              " 'sum',\n",
              " 'sum_to_size',\n",
              " 'svd',\n",
              " 'swapaxes',\n",
              " 'swapaxes_',\n",
              " 'swapdims',\n",
              " 'swapdims_',\n",
              " 'symeig',\n",
              " 't',\n",
              " 't_',\n",
              " 'take',\n",
              " 'take_along_dim',\n",
              " 'tan',\n",
              " 'tan_',\n",
              " 'tanh',\n",
              " 'tanh_',\n",
              " 'tensor_split',\n",
              " 'tile',\n",
              " 'to',\n",
              " 'to_dense',\n",
              " 'to_mkldnn',\n",
              " 'to_padded_tensor',\n",
              " 'to_sparse',\n",
              " 'to_sparse_bsc',\n",
              " 'to_sparse_bsr',\n",
              " 'to_sparse_coo',\n",
              " 'to_sparse_csc',\n",
              " 'to_sparse_csr',\n",
              " 'tolist',\n",
              " 'topk',\n",
              " 'trace',\n",
              " 'transpose',\n",
              " 'transpose_',\n",
              " 'triangular_solve',\n",
              " 'tril',\n",
              " 'tril_',\n",
              " 'triu',\n",
              " 'triu_',\n",
              " 'true_divide',\n",
              " 'true_divide_',\n",
              " 'trunc',\n",
              " 'trunc_',\n",
              " 'type',\n",
              " 'type_as',\n",
              " 'unbind',\n",
              " 'unflatten',\n",
              " 'unfold',\n",
              " 'uniform_',\n",
              " 'unique',\n",
              " 'unique_consecutive',\n",
              " 'unsafe_chunk',\n",
              " 'unsafe_split',\n",
              " 'unsafe_split_with_sizes',\n",
              " 'unsqueeze',\n",
              " 'unsqueeze_',\n",
              " 'untyped_storage',\n",
              " 'values',\n",
              " 'var',\n",
              " 'vdot',\n",
              " 'view',\n",
              " 'view_as',\n",
              " 'vsplit',\n",
              " 'where',\n",
              " 'xlogy',\n",
              " 'xlogy_',\n",
              " 'xpu',\n",
              " 'zero_']"
            ]
          },
          "execution_count": 66,
          "metadata": {},
          "output_type": "execute_result"
        }
      ],
      "source": [
        "dir(t)"
      ]
    },
    {
      "cell_type": "code",
      "execution_count": null,
      "metadata": {
        "colab": {
          "base_uri": "https://localhost:8080/",
          "height": 35
        },
        "id": "2EwwhqptBL3T",
        "outputId": "ec0d21d1-dae1-4759-ff97-bed46dfdde66"
      },
      "outputs": [
        {
          "data": {
            "application/vnd.google.colaboratory.intrinsic+json": {
              "type": "string"
            },
            "text/plain": [
              "'tensor([[0., 5., 7.],\\n        [6., 0., 7.],\\n        [0., 8., 0.]])'"
            ]
          },
          "execution_count": 68,
          "metadata": {},
          "output_type": "execute_result"
        }
      ],
      "source": [
        "t.__str__()"
      ]
    },
    {
      "cell_type": "code",
      "execution_count": null,
      "metadata": {
        "id": "bOTgb1sZBQha"
      },
      "outputs": [],
      "source": [
        "t = torch.tensor([\n",
        "  [1, 1, 1, 1],\n",
        "  [2, 2, 2, 2],\n",
        "  [3, 3, 3, 3],\n",
        "  [4, 4, 4, 4]\n",
        "])"
      ]
    },
    {
      "cell_type": "code",
      "execution_count": null,
      "metadata": {
        "colab": {
          "base_uri": "https://localhost:8080/"
        },
        "id": "07v5hmU_BVwv",
        "outputId": "30351704-5ad2-4805-a523-7a87bf01fbc4"
      },
      "outputs": [
        {
          "data": {
            "text/plain": [
              "tensor([10, 10, 10, 10])"
            ]
          },
          "execution_count": 70,
          "metadata": {},
          "output_type": "execute_result"
        }
      ],
      "source": [
        "t.sum(dim=0)"
      ]
    },
    {
      "cell_type": "code",
      "execution_count": null,
      "metadata": {
        "colab": {
          "base_uri": "https://localhost:8080/"
        },
        "id": "XeakyhoBBagL",
        "outputId": "9c274caa-2190-415c-efa4-e3fdd6754666"
      },
      "outputs": [
        {
          "data": {
            "text/plain": [
              "tensor([ 4,  8, 12, 16])"
            ]
          },
          "execution_count": 71,
          "metadata": {},
          "output_type": "execute_result"
        }
      ],
      "source": [
        "t.sum(dim=1)"
      ]
    },
    {
      "cell_type": "code",
      "execution_count": null,
      "metadata": {
        "colab": {
          "base_uri": "https://localhost:8080/"
        },
        "id": "v26MFUtDBdSK",
        "outputId": "d329a386-a045-46b5-d5d8-79b22ad30a51"
      },
      "outputs": [
        {
          "data": {
            "text/plain": [
              "(tensor(12), tensor(4))"
            ]
          },
          "execution_count": 75,
          "metadata": {},
          "output_type": "execute_result"
        }
      ],
      "source": [
        "t.argmax(), t.max()"
      ]
    },
    {
      "cell_type": "code",
      "execution_count": null,
      "metadata": {
        "colab": {
          "base_uri": "https://localhost:8080/"
        },
        "id": "gQ4LuV9kBqD8",
        "outputId": "2b93ef42-c39c-4dd6-eb9d-b961659e96de"
      },
      "outputs": [
        {
          "data": {
            "text/plain": [
              "(tensor(0), tensor(1))"
            ]
          },
          "execution_count": 73,
          "metadata": {},
          "output_type": "execute_result"
        }
      ],
      "source": [
        "t.argmin(), t.min()"
      ]
    },
    {
      "cell_type": "code",
      "execution_count": null,
      "metadata": {
        "colab": {
          "base_uri": "https://localhost:8080/"
        },
        "id": "LznYJpWSBsI-",
        "outputId": "76fd8096-08dd-4b66-94c6-6c83485e77d9"
      },
      "outputs": [
        {
          "data": {
            "text/plain": [
              "tensor([1, 1, 1, 1, 2, 2, 2, 2, 3, 3, 3, 3, 4, 4, 4, 4])"
            ]
          },
          "execution_count": 76,
          "metadata": {},
          "output_type": "execute_result"
        }
      ],
      "source": [
        "t.flatten()"
      ]
    },
    {
      "attachments": {},
      "cell_type": "markdown",
      "metadata": {
        "id": "c5sMlAuRB6d-"
      },
      "source": [
        "# PyTorch Main\n",
        "\n",
        "# Working with the dataset\n",
        "\n",
        "We will look at convolutional/image examples as they allow us to get a good intuition on axises and are more complex to work on just 1D data\n",
        "\n",
        "### A common nn pipeline looks like this:\n",
        "1. Prepare the data\n",
        "2. Build the model\n",
        "3. Train the model\n",
        "4. Analyze the model"
      ]
    },
    {
      "cell_type": "code",
      "execution_count": null,
      "metadata": {
        "id": "IPb0vm7NB3SW"
      },
      "outputs": [],
      "source": [
        "import torch\n",
        "import torchvision # provide access to datasets, models, transforms, utils, etc\n",
        "import torchvision.transforms as transforms"
      ]
    },
    {
      "cell_type": "code",
      "execution_count": null,
      "metadata": {
        "id": "h2scuLTTCAhD"
      },
      "outputs": [],
      "source": [
        "from torch.utils.data import Dataset\n",
        "\n",
        "class Animals(Dataset):\n",
        "  def __init__(self, csv_file):\n",
        "    self.data = pd.read_csv(csv_file)\n",
        "\n",
        "  def __getitem__(self, index):\n",
        "    r = self.data.iloc[index]\n",
        "    label, image = r\n",
        "    return label, image\n",
        "\n",
        "  def __len__(self):\n",
        "    return len(self.data)"
      ]
    },
    {
      "cell_type": "code",
      "execution_count": null,
      "metadata": {
        "colab": {
          "base_uri": "https://localhost:8080/"
        },
        "id": "pwnUhCYCCajI",
        "outputId": "6927da8c-f26d-4cf2-e847-e2e8f609b4af"
      },
      "outputs": [
        {
          "name": "stdout",
          "output_type": "stream",
          "text": [
            "Downloading http://fashion-mnist.s3-website.eu-central-1.amazonaws.com/train-images-idx3-ubyte.gz\n",
            "Downloading http://fashion-mnist.s3-website.eu-central-1.amazonaws.com/train-images-idx3-ubyte.gz to ./data/FashionMNIST/raw/train-images-idx3-ubyte.gz\n"
          ]
        },
        {
          "name": "stderr",
          "output_type": "stream",
          "text": [
            "100%|██████████| 26421880/26421880 [00:03<00:00, 8376365.17it/s] \n"
          ]
        },
        {
          "name": "stdout",
          "output_type": "stream",
          "text": [
            "Extracting ./data/FashionMNIST/raw/train-images-idx3-ubyte.gz to ./data/FashionMNIST/raw\n",
            "\n",
            "Downloading http://fashion-mnist.s3-website.eu-central-1.amazonaws.com/train-labels-idx1-ubyte.gz\n",
            "Downloading http://fashion-mnist.s3-website.eu-central-1.amazonaws.com/train-labels-idx1-ubyte.gz to ./data/FashionMNIST/raw/train-labels-idx1-ubyte.gz\n"
          ]
        },
        {
          "name": "stderr",
          "output_type": "stream",
          "text": [
            "100%|██████████| 29515/29515 [00:00<00:00, 140923.26it/s]\n"
          ]
        },
        {
          "name": "stdout",
          "output_type": "stream",
          "text": [
            "Extracting ./data/FashionMNIST/raw/train-labels-idx1-ubyte.gz to ./data/FashionMNIST/raw\n",
            "\n",
            "Downloading http://fashion-mnist.s3-website.eu-central-1.amazonaws.com/t10k-images-idx3-ubyte.gz\n",
            "Downloading http://fashion-mnist.s3-website.eu-central-1.amazonaws.com/t10k-images-idx3-ubyte.gz to ./data/FashionMNIST/raw/t10k-images-idx3-ubyte.gz\n"
          ]
        },
        {
          "name": "stderr",
          "output_type": "stream",
          "text": [
            "100%|██████████| 4422102/4422102 [00:01<00:00, 2595727.00it/s]\n"
          ]
        },
        {
          "name": "stdout",
          "output_type": "stream",
          "text": [
            "Extracting ./data/FashionMNIST/raw/t10k-images-idx3-ubyte.gz to ./data/FashionMNIST/raw\n",
            "\n",
            "Downloading http://fashion-mnist.s3-website.eu-central-1.amazonaws.com/t10k-labels-idx1-ubyte.gz\n",
            "Downloading http://fashion-mnist.s3-website.eu-central-1.amazonaws.com/t10k-labels-idx1-ubyte.gz to ./data/FashionMNIST/raw/t10k-labels-idx1-ubyte.gz\n"
          ]
        },
        {
          "name": "stderr",
          "output_type": "stream",
          "text": [
            "100%|██████████| 5148/5148 [00:00<00:00, 4708302.88it/s]"
          ]
        },
        {
          "name": "stdout",
          "output_type": "stream",
          "text": [
            "Extracting ./data/FashionMNIST/raw/t10k-labels-idx1-ubyte.gz to ./data/FashionMNIST/raw\n",
            "\n"
          ]
        },
        {
          "name": "stderr",
          "output_type": "stream",
          "text": [
            "\n"
          ]
        }
      ],
      "source": [
        "# now let's work with FashionMnist\n",
        "\n",
        "train_set = torchvision.datasets.FashionMNIST(\n",
        "    root='./data'\n",
        "    ,train=True\n",
        "    ,download=True\n",
        "    ,transform=transforms.Compose([\n",
        "        transforms.ToTensor()\n",
        "    ])\n",
        ")\n",
        "\n"
      ]
    },
    {
      "cell_type": "code",
      "execution_count": null,
      "metadata": {
        "colab": {
          "base_uri": "https://localhost:8080/"
        },
        "id": "eYQstwkLClnu",
        "outputId": "bb27d90c-776a-4ddc-cf36-d1540c8e31b3"
      },
      "outputs": [
        {
          "data": {
            "text/plain": [
              "0"
            ]
          },
          "execution_count": 84,
          "metadata": {},
          "output_type": "execute_result"
        }
      ],
      "source": [
        "x = iter(range(11))\n",
        "next(x)"
      ]
    },
    {
      "cell_type": "code",
      "execution_count": null,
      "metadata": {
        "colab": {
          "base_uri": "https://localhost:8080/"
        },
        "id": "lEO59hHVCtFr",
        "outputId": "ddf55199-9158-499f-b31e-6a6b297c0615"
      },
      "outputs": [
        {
          "data": {
            "text/plain": [
              "1"
            ]
          },
          "execution_count": 85,
          "metadata": {},
          "output_type": "execute_result"
        }
      ],
      "source": [
        "next(x)"
      ]
    },
    {
      "cell_type": "code",
      "execution_count": null,
      "metadata": {
        "colab": {
          "base_uri": "https://localhost:8080/"
        },
        "id": "jV8b4ISsCuWg",
        "outputId": "d55cb169-e44f-404a-8138-7594181f77ae"
      },
      "outputs": [
        {
          "data": {
            "text/plain": [
              "2"
            ]
          },
          "execution_count": 86,
          "metadata": {},
          "output_type": "execute_result"
        }
      ],
      "source": [
        "next(x)"
      ]
    },
    {
      "cell_type": "code",
      "execution_count": null,
      "metadata": {
        "colab": {
          "base_uri": "https://localhost:8080/"
        },
        "id": "NMO2j38WCvW8",
        "outputId": "ec61d7de-719f-416a-8798-aa60360b58ba"
      },
      "outputs": [
        {
          "data": {
            "text/plain": [
              "(3, 4, 5, 6, 7, 8)"
            ]
          },
          "execution_count": 87,
          "metadata": {},
          "output_type": "execute_result"
        }
      ],
      "source": [
        "next(x), next(x), next(x), next(x), next(x), next(x)"
      ]
    },
    {
      "cell_type": "code",
      "execution_count": null,
      "metadata": {
        "colab": {
          "base_uri": "https://localhost:8080/"
        },
        "id": "-F8Vpt73C11L",
        "outputId": "6aceba4b-a328-42f9-d377-9d8fa74fb56a"
      },
      "outputs": [
        {
          "data": {
            "text/plain": [
              "(9, 10)"
            ]
          },
          "execution_count": 88,
          "metadata": {},
          "output_type": "execute_result"
        }
      ],
      "source": [
        "next(x), next(x)"
      ]
    },
    {
      "cell_type": "code",
      "execution_count": null,
      "metadata": {
        "colab": {
          "base_uri": "https://localhost:8080/",
          "height": 201
        },
        "id": "rHC7E1b-C3Au",
        "outputId": "d4f5b71a-cafd-44e8-c7ca-71d062a45dbb"
      },
      "outputs": [
        {
          "ename": "StopIteration",
          "evalue": "ignored",
          "output_type": "error",
          "traceback": [
            "\u001b[0;31m---------------------------------------------------------------------------\u001b[0m",
            "\u001b[0;31mStopIteration\u001b[0m                             Traceback (most recent call last)",
            "\u001b[0;32m<ipython-input-89-92de4e9f6b1e>\u001b[0m in \u001b[0;36m<cell line: 1>\u001b[0;34m()\u001b[0m\n\u001b[0;32m----> 1\u001b[0;31m \u001b[0mnext\u001b[0m\u001b[0;34m(\u001b[0m\u001b[0mx\u001b[0m\u001b[0;34m)\u001b[0m\u001b[0;34m\u001b[0m\u001b[0;34m\u001b[0m\u001b[0m\n\u001b[0m",
            "\u001b[0;31mStopIteration\u001b[0m: "
          ]
        }
      ],
      "source": [
        "next(x)"
      ]
    },
    {
      "cell_type": "code",
      "execution_count": null,
      "metadata": {
        "colab": {
          "base_uri": "https://localhost:8080/"
        },
        "id": "E44X1O3GC6Ld",
        "outputId": "51a3df7e-420c-4c4b-d5ad-e1842ac46605"
      },
      "outputs": [
        {
          "data": {
            "text/plain": [
              "(tensor([[[0.0000, 0.0000, 0.0000, 0.0000, 0.0000, 0.0000, 0.0000, 0.0000,\n",
              "           0.0000, 0.0000, 0.0000, 0.0000, 0.0000, 0.0000, 0.0000, 0.0000,\n",
              "           0.0000, 0.0000, 0.0000, 0.0000, 0.0000, 0.0000, 0.0000, 0.0000,\n",
              "           0.0000, 0.0000, 0.0000, 0.0000],\n",
              "          [0.0000, 0.0000, 0.0000, 0.0000, 0.0000, 0.0000, 0.0000, 0.0000,\n",
              "           0.0000, 0.0000, 0.0000, 0.0000, 0.0000, 0.0000, 0.0000, 0.0000,\n",
              "           0.0000, 0.0000, 0.0000, 0.0000, 0.0000, 0.0000, 0.0000, 0.0000,\n",
              "           0.0000, 0.0000, 0.0000, 0.0000],\n",
              "          [0.0000, 0.0000, 0.0000, 0.0000, 0.0000, 0.0000, 0.0000, 0.0000,\n",
              "           0.0000, 0.0000, 0.0000, 0.0000, 0.0000, 0.0000, 0.0000, 0.0000,\n",
              "           0.0000, 0.0000, 0.0000, 0.0000, 0.0000, 0.0000, 0.0000, 0.0000,\n",
              "           0.0000, 0.0000, 0.0000, 0.0000],\n",
              "          [0.0000, 0.0000, 0.0000, 0.0000, 0.0000, 0.0000, 0.0000, 0.0000,\n",
              "           0.0000, 0.0000, 0.0000, 0.0000, 0.0039, 0.0000, 0.0000, 0.0510,\n",
              "           0.2863, 0.0000, 0.0000, 0.0039, 0.0157, 0.0000, 0.0000, 0.0000,\n",
              "           0.0000, 0.0039, 0.0039, 0.0000],\n",
              "          [0.0000, 0.0000, 0.0000, 0.0000, 0.0000, 0.0000, 0.0000, 0.0000,\n",
              "           0.0000, 0.0000, 0.0000, 0.0000, 0.0118, 0.0000, 0.1412, 0.5333,\n",
              "           0.4980, 0.2431, 0.2118, 0.0000, 0.0000, 0.0000, 0.0039, 0.0118,\n",
              "           0.0157, 0.0000, 0.0000, 0.0118],\n",
              "          [0.0000, 0.0000, 0.0000, 0.0000, 0.0000, 0.0000, 0.0000, 0.0000,\n",
              "           0.0000, 0.0000, 0.0000, 0.0000, 0.0235, 0.0000, 0.4000, 0.8000,\n",
              "           0.6902, 0.5255, 0.5647, 0.4824, 0.0902, 0.0000, 0.0000, 0.0000,\n",
              "           0.0000, 0.0471, 0.0392, 0.0000],\n",
              "          [0.0000, 0.0000, 0.0000, 0.0000, 0.0000, 0.0000, 0.0000, 0.0000,\n",
              "           0.0000, 0.0000, 0.0000, 0.0000, 0.0000, 0.0000, 0.6078, 0.9255,\n",
              "           0.8118, 0.6980, 0.4196, 0.6118, 0.6314, 0.4275, 0.2510, 0.0902,\n",
              "           0.3020, 0.5098, 0.2824, 0.0588],\n",
              "          [0.0000, 0.0000, 0.0000, 0.0000, 0.0000, 0.0000, 0.0000, 0.0000,\n",
              "           0.0000, 0.0000, 0.0000, 0.0039, 0.0000, 0.2706, 0.8118, 0.8745,\n",
              "           0.8549, 0.8471, 0.8471, 0.6392, 0.4980, 0.4745, 0.4784, 0.5725,\n",
              "           0.5529, 0.3451, 0.6745, 0.2588],\n",
              "          [0.0000, 0.0000, 0.0000, 0.0000, 0.0000, 0.0000, 0.0000, 0.0000,\n",
              "           0.0000, 0.0039, 0.0039, 0.0039, 0.0000, 0.7843, 0.9098, 0.9098,\n",
              "           0.9137, 0.8980, 0.8745, 0.8745, 0.8431, 0.8353, 0.6431, 0.4980,\n",
              "           0.4824, 0.7686, 0.8980, 0.0000],\n",
              "          [0.0000, 0.0000, 0.0000, 0.0000, 0.0000, 0.0000, 0.0000, 0.0000,\n",
              "           0.0000, 0.0000, 0.0000, 0.0000, 0.0000, 0.7176, 0.8824, 0.8471,\n",
              "           0.8745, 0.8941, 0.9216, 0.8902, 0.8784, 0.8706, 0.8784, 0.8667,\n",
              "           0.8745, 0.9608, 0.6784, 0.0000],\n",
              "          [0.0000, 0.0000, 0.0000, 0.0000, 0.0000, 0.0000, 0.0000, 0.0000,\n",
              "           0.0000, 0.0000, 0.0000, 0.0000, 0.0000, 0.7569, 0.8941, 0.8549,\n",
              "           0.8353, 0.7765, 0.7059, 0.8314, 0.8235, 0.8275, 0.8353, 0.8745,\n",
              "           0.8627, 0.9529, 0.7922, 0.0000],\n",
              "          [0.0000, 0.0000, 0.0000, 0.0000, 0.0000, 0.0000, 0.0000, 0.0000,\n",
              "           0.0000, 0.0039, 0.0118, 0.0000, 0.0471, 0.8588, 0.8627, 0.8314,\n",
              "           0.8549, 0.7529, 0.6627, 0.8902, 0.8157, 0.8549, 0.8784, 0.8314,\n",
              "           0.8863, 0.7725, 0.8196, 0.2039],\n",
              "          [0.0000, 0.0000, 0.0000, 0.0000, 0.0000, 0.0000, 0.0000, 0.0000,\n",
              "           0.0000, 0.0000, 0.0235, 0.0000, 0.3882, 0.9569, 0.8706, 0.8627,\n",
              "           0.8549, 0.7961, 0.7765, 0.8667, 0.8431, 0.8353, 0.8706, 0.8627,\n",
              "           0.9608, 0.4667, 0.6549, 0.2196],\n",
              "          [0.0000, 0.0000, 0.0000, 0.0000, 0.0000, 0.0000, 0.0000, 0.0000,\n",
              "           0.0000, 0.0157, 0.0000, 0.0000, 0.2157, 0.9255, 0.8941, 0.9020,\n",
              "           0.8941, 0.9412, 0.9098, 0.8353, 0.8549, 0.8745, 0.9176, 0.8510,\n",
              "           0.8510, 0.8196, 0.3608, 0.0000],\n",
              "          [0.0000, 0.0000, 0.0039, 0.0157, 0.0235, 0.0275, 0.0078, 0.0000,\n",
              "           0.0000, 0.0000, 0.0000, 0.0000, 0.9294, 0.8863, 0.8510, 0.8745,\n",
              "           0.8706, 0.8588, 0.8706, 0.8667, 0.8471, 0.8745, 0.8980, 0.8431,\n",
              "           0.8549, 1.0000, 0.3020, 0.0000],\n",
              "          [0.0000, 0.0118, 0.0000, 0.0000, 0.0000, 0.0000, 0.0000, 0.0000,\n",
              "           0.0000, 0.2431, 0.5686, 0.8000, 0.8941, 0.8118, 0.8353, 0.8667,\n",
              "           0.8549, 0.8157, 0.8275, 0.8549, 0.8784, 0.8745, 0.8588, 0.8431,\n",
              "           0.8784, 0.9569, 0.6235, 0.0000],\n",
              "          [0.0000, 0.0000, 0.0000, 0.0000, 0.0706, 0.1725, 0.3216, 0.4196,\n",
              "           0.7412, 0.8941, 0.8627, 0.8706, 0.8510, 0.8863, 0.7843, 0.8039,\n",
              "           0.8275, 0.9020, 0.8784, 0.9176, 0.6902, 0.7373, 0.9804, 0.9725,\n",
              "           0.9137, 0.9333, 0.8431, 0.0000],\n",
              "          [0.0000, 0.2235, 0.7333, 0.8157, 0.8784, 0.8667, 0.8784, 0.8157,\n",
              "           0.8000, 0.8392, 0.8157, 0.8196, 0.7843, 0.6235, 0.9608, 0.7569,\n",
              "           0.8078, 0.8745, 1.0000, 1.0000, 0.8667, 0.9176, 0.8667, 0.8275,\n",
              "           0.8627, 0.9098, 0.9647, 0.0000],\n",
              "          [0.0118, 0.7922, 0.8941, 0.8784, 0.8667, 0.8275, 0.8275, 0.8392,\n",
              "           0.8039, 0.8039, 0.8039, 0.8627, 0.9412, 0.3137, 0.5882, 1.0000,\n",
              "           0.8980, 0.8667, 0.7373, 0.6039, 0.7490, 0.8235, 0.8000, 0.8196,\n",
              "           0.8706, 0.8941, 0.8824, 0.0000],\n",
              "          [0.3843, 0.9137, 0.7765, 0.8235, 0.8706, 0.8980, 0.8980, 0.9176,\n",
              "           0.9765, 0.8627, 0.7608, 0.8431, 0.8510, 0.9451, 0.2549, 0.2863,\n",
              "           0.4157, 0.4588, 0.6588, 0.8588, 0.8667, 0.8431, 0.8510, 0.8745,\n",
              "           0.8745, 0.8784, 0.8980, 0.1137],\n",
              "          [0.2941, 0.8000, 0.8314, 0.8000, 0.7569, 0.8039, 0.8275, 0.8824,\n",
              "           0.8471, 0.7255, 0.7725, 0.8078, 0.7765, 0.8353, 0.9412, 0.7647,\n",
              "           0.8902, 0.9608, 0.9373, 0.8745, 0.8549, 0.8314, 0.8196, 0.8706,\n",
              "           0.8627, 0.8667, 0.9020, 0.2627],\n",
              "          [0.1882, 0.7961, 0.7176, 0.7608, 0.8353, 0.7725, 0.7255, 0.7451,\n",
              "           0.7608, 0.7529, 0.7922, 0.8392, 0.8588, 0.8667, 0.8627, 0.9255,\n",
              "           0.8824, 0.8471, 0.7804, 0.8078, 0.7294, 0.7098, 0.6941, 0.6745,\n",
              "           0.7098, 0.8039, 0.8078, 0.4510],\n",
              "          [0.0000, 0.4784, 0.8588, 0.7569, 0.7020, 0.6706, 0.7176, 0.7686,\n",
              "           0.8000, 0.8235, 0.8353, 0.8118, 0.8275, 0.8235, 0.7843, 0.7686,\n",
              "           0.7608, 0.7490, 0.7647, 0.7490, 0.7765, 0.7529, 0.6902, 0.6118,\n",
              "           0.6549, 0.6941, 0.8235, 0.3608],\n",
              "          [0.0000, 0.0000, 0.2902, 0.7412, 0.8314, 0.7490, 0.6863, 0.6745,\n",
              "           0.6863, 0.7098, 0.7255, 0.7373, 0.7412, 0.7373, 0.7569, 0.7765,\n",
              "           0.8000, 0.8196, 0.8235, 0.8235, 0.8275, 0.7373, 0.7373, 0.7608,\n",
              "           0.7529, 0.8471, 0.6667, 0.0000],\n",
              "          [0.0078, 0.0000, 0.0000, 0.0000, 0.2588, 0.7843, 0.8706, 0.9294,\n",
              "           0.9373, 0.9490, 0.9647, 0.9529, 0.9569, 0.8667, 0.8627, 0.7569,\n",
              "           0.7490, 0.7020, 0.7137, 0.7137, 0.7098, 0.6902, 0.6510, 0.6588,\n",
              "           0.3882, 0.2275, 0.0000, 0.0000],\n",
              "          [0.0000, 0.0000, 0.0000, 0.0000, 0.0000, 0.0000, 0.0000, 0.1569,\n",
              "           0.2392, 0.1725, 0.2824, 0.1608, 0.1373, 0.0000, 0.0000, 0.0000,\n",
              "           0.0000, 0.0000, 0.0000, 0.0000, 0.0000, 0.0000, 0.0000, 0.0000,\n",
              "           0.0000, 0.0000, 0.0000, 0.0000],\n",
              "          [0.0000, 0.0000, 0.0000, 0.0000, 0.0000, 0.0000, 0.0000, 0.0000,\n",
              "           0.0000, 0.0000, 0.0000, 0.0000, 0.0000, 0.0000, 0.0000, 0.0000,\n",
              "           0.0000, 0.0000, 0.0000, 0.0000, 0.0000, 0.0000, 0.0000, 0.0000,\n",
              "           0.0000, 0.0000, 0.0000, 0.0000],\n",
              "          [0.0000, 0.0000, 0.0000, 0.0000, 0.0000, 0.0000, 0.0000, 0.0000,\n",
              "           0.0000, 0.0000, 0.0000, 0.0000, 0.0000, 0.0000, 0.0000, 0.0000,\n",
              "           0.0000, 0.0000, 0.0000, 0.0000, 0.0000, 0.0000, 0.0000, 0.0000,\n",
              "           0.0000, 0.0000, 0.0000, 0.0000]]]),\n",
              " 9)"
            ]
          },
          "execution_count": 93,
          "metadata": {},
          "output_type": "execute_result"
        }
      ],
      "source": [
        "next(iter(train_set))[0], next(iter(train_set))[1]"
      ]
    },
    {
      "cell_type": "code",
      "execution_count": null,
      "metadata": {
        "colab": {
          "base_uri": "https://localhost:8080/"
        },
        "id": "F-KdnaB1DTnu",
        "outputId": "76e4931b-d200-416b-e279-84000129a75e"
      },
      "outputs": [
        {
          "name": "stdout",
          "output_type": "stream",
          "text": [
            "9\n",
            "0\n",
            "0\n",
            "3\n",
            "0\n",
            "2\n"
          ]
        }
      ],
      "source": [
        "i = 0\n",
        "\n",
        "for j in train_set:\n",
        "  print(j[1])\n",
        "  i+= 1\n",
        "  if i > 5:\n",
        "    break"
      ]
    },
    {
      "cell_type": "code",
      "execution_count": null,
      "metadata": {
        "id": "Dr2jHZzbDkVm"
      },
      "outputs": [],
      "source": [
        "train_loader = torch.utils.data.DataLoader(\n",
        "    train_set,\n",
        "    batch_size = 32,\n",
        "    shuffle = True\n",
        ")"
      ]
    },
    {
      "cell_type": "code",
      "execution_count": null,
      "metadata": {
        "colab": {
          "base_uri": "https://localhost:8080/"
        },
        "id": "qe9ieFPqDvq5",
        "outputId": "32cd1245-be82-494f-ccfc-54acd12f8c56"
      },
      "outputs": [
        {
          "data": {
            "text/plain": [
              "tensor([5, 6, 0, 9, 9, 9, 0, 7, 7, 1, 4, 2, 3, 2, 8, 9, 6, 8, 2, 2, 5, 0, 8, 7,\n",
              "        4, 6, 5, 2, 4, 8, 9, 9])"
            ]
          },
          "execution_count": 104,
          "metadata": {},
          "output_type": "execute_result"
        }
      ],
      "source": [
        "next(iter(train_loader))[1]"
      ]
    },
    {
      "cell_type": "code",
      "execution_count": null,
      "metadata": {
        "colab": {
          "base_uri": "https://localhost:8080/"
        },
        "id": "X09pB9zJDy-b",
        "outputId": "4fdd4bab-3cd4-4b44-a98e-a74069909001"
      },
      "outputs": [
        {
          "data": {
            "text/plain": [
              "tensor([5, 6, 9, 9, 9, 5, 9, 9, 3, 1, 5, 8, 5, 2, 7, 1, 7, 2, 6, 6, 6, 6, 5, 2,\n",
              "        3, 5, 0, 0, 0, 5, 6, 8])"
            ]
          },
          "execution_count": 106,
          "metadata": {},
          "output_type": "execute_result"
        }
      ],
      "source": [
        "next(iter(train_loader))[1]"
      ]
    },
    {
      "cell_type": "code",
      "execution_count": null,
      "metadata": {
        "id": "utawt7RUD-Kl"
      },
      "outputs": [],
      "source": [
        "import numpy as np\n",
        "import matplotlib.pyplot as plt\n",
        "\n",
        "torch.set_printoptions(linewidth=120)"
      ]
    },
    {
      "cell_type": "code",
      "execution_count": null,
      "metadata": {
        "colab": {
          "base_uri": "https://localhost:8080/"
        },
        "id": "_lvVhWyBELAp",
        "outputId": "1e30fe9a-333e-45e7-8d14-33fca9116552"
      },
      "outputs": [
        {
          "data": {
            "text/plain": [
              "60000"
            ]
          },
          "execution_count": 108,
          "metadata": {},
          "output_type": "execute_result"
        }
      ],
      "source": [
        "len(train_set)"
      ]
    },
    {
      "cell_type": "code",
      "execution_count": null,
      "metadata": {
        "colab": {
          "base_uri": "https://localhost:8080/"
        },
        "id": "hzY2FjcMEMY6",
        "outputId": "94c0e202-601e-4968-e2e5-8dcda326d7f8"
      },
      "outputs": [
        {
          "name": "stderr",
          "output_type": "stream",
          "text": [
            "/usr/local/lib/python3.10/dist-packages/torchvision/datasets/mnist.py:65: UserWarning: train_labels has been renamed targets\n",
            "  warnings.warn(\"train_labels has been renamed targets\")\n"
          ]
        },
        {
          "data": {
            "text/plain": [
              "tensor([9, 0, 0,  ..., 3, 0, 5])"
            ]
          },
          "execution_count": 109,
          "metadata": {},
          "output_type": "execute_result"
        }
      ],
      "source": [
        "train_set.train_labels"
      ]
    },
    {
      "cell_type": "code",
      "execution_count": null,
      "metadata": {
        "colab": {
          "base_uri": "https://localhost:8080/"
        },
        "id": "9UD7xNsEENxC",
        "outputId": "1358f394-37bc-44b9-e232-53f3284f268c"
      },
      "outputs": [
        {
          "data": {
            "text/plain": [
              "tensor([6000, 6000, 6000, 6000, 6000, 6000, 6000, 6000, 6000, 6000])"
            ]
          },
          "execution_count": 110,
          "metadata": {},
          "output_type": "execute_result"
        }
      ],
      "source": [
        "train_set.train_labels.bincount() #frequency of each label, we have balanced class here"
      ]
    },
    {
      "cell_type": "code",
      "execution_count": null,
      "metadata": {
        "colab": {
          "base_uri": "https://localhost:8080/"
        },
        "id": "UvVIcrIuEQ0r",
        "outputId": "414a5d90-8638-4d94-d226-79649263b9a4"
      },
      "outputs": [
        {
          "data": {
            "text/plain": [
              "2"
            ]
          },
          "execution_count": 111,
          "metadata": {},
          "output_type": "execute_result"
        }
      ],
      "source": [
        "sample = next(iter(train_set))\n",
        "\n",
        "len(sample)"
      ]
    },
    {
      "cell_type": "code",
      "execution_count": null,
      "metadata": {
        "id": "1kzRsVkmEWRl"
      },
      "outputs": [],
      "source": [
        "image, label = sample"
      ]
    },
    {
      "cell_type": "code",
      "execution_count": null,
      "metadata": {
        "colab": {
          "base_uri": "https://localhost:8080/",
          "height": 447
        },
        "id": "3ljtk-yCEhJt",
        "outputId": "2bc825d9-1d7b-4120-d7f0-1f5454d3ae47"
      },
      "outputs": [
        {
          "name": "stdout",
          "output_type": "stream",
          "text": [
            "label: 9\n"
          ]
        },
        {
          "data": {
            "image/png": "[encoded data removed]",
            "text/plain": [
              "<Figure size 640x480 with 1 Axes>"
            ]
          },
          "metadata": {},
          "output_type": "display_data"
        }
      ],
      "source": [
        "plt.imshow(image.squeeze())\n",
        "print('label:', label)"
      ]
    },
    {
      "cell_type": "code",
      "execution_count": null,
      "metadata": {
        "colab": {
          "base_uri": "https://localhost:8080/"
        },
        "id": "-JLTATbQEnyS",
        "outputId": "0d69ddff-e2db-4b30-f5fd-681371a42629"
      },
      "outputs": [
        {
          "data": {
            "text/plain": [
              "(2, list)"
            ]
          },
          "execution_count": 115,
          "metadata": {},
          "output_type": "execute_result"
        }
      ],
      "source": [
        "batch = next(iter(train_loader))\n",
        "len(batch), type(batch)"
      ]
    },
    {
      "cell_type": "code",
      "execution_count": null,
      "metadata": {
        "id": "lWnsGPTSE_Q-"
      },
      "outputs": [],
      "source": [
        "images, labels = batch"
      ]
    },
    {
      "cell_type": "code",
      "execution_count": null,
      "metadata": {
        "colab": {
          "base_uri": "https://localhost:8080/"
        },
        "id": "9pRHJ11fFCXO",
        "outputId": "e5dc1f99-79e2-4516-f491-76029e77a88a"
      },
      "outputs": [
        {
          "data": {
            "text/plain": [
              "(torch.Size([32, 1, 28, 28]), torch.Size([32]))"
            ]
          },
          "execution_count": 117,
          "metadata": {},
          "output_type": "execute_result"
        }
      ],
      "source": [
        "images.shape, labels.shape"
      ]
    },
    {
      "cell_type": "code",
      "execution_count": null,
      "metadata": {
        "colab": {
          "base_uri": "https://localhost:8080/",
          "height": 386
        },
        "id": "YsY8rzkFFEJf",
        "outputId": "f8725c37-611a-4127-9518-a00cae966c0c"
      },
      "outputs": [
        {
          "name": "stdout",
          "output_type": "stream",
          "text": [
            "labels: tensor([1, 4, 4, 5, 1, 5, 6, 8, 6, 9, 8, 3, 0, 2, 3, 6, 1, 0, 7, 4, 8, 2, 0, 9, 9, 1, 6, 6, 7, 0, 8, 3])\n"
          ]
        },
        {
          "data": {
            "image/png": "[encoded data removed]",
            "text/plain": [
              "<Figure size 1000x1000 with 1 Axes>"
            ]
          },
          "metadata": {},
          "output_type": "display_data"
        }
      ],
      "source": [
        "grid = torchvision.utils.make_grid(images,  nrow=8)\n",
        "plt.figure(figsize=(10,10))\n",
        "plt.imshow(np.transpose(grid, (1,2,0)))\n",
        "print('labels:', labels)"
      ]
    },
    {
      "cell_type": "code",
      "execution_count": null,
      "metadata": {
        "id": "2DNlY8BMFfZr"
      },
      "outputs": [],
      "source": [
        "import torch.nn as nn"
      ]
    },
    {
      "cell_type": "code",
      "execution_count": null,
      "metadata": {
        "id": "bEX2JWvFGxwP"
      },
      "outputs": [],
      "source": [
        "class Network(nn.Module):\n",
        "  def __init__(self):\n",
        "    super().__init__()\n",
        "    self.layer = None\n",
        "\n",
        "  def forward(self, t):\n",
        "    t = self.layer(t)\n",
        "    return t"
      ]
    },
    {
      "cell_type": "code",
      "execution_count": null,
      "metadata": {
        "id": "odEhbn5-G-oM"
      },
      "outputs": [],
      "source": [
        "import torch\n",
        "import torchvision # provide access to datasets, models, transforms, utils, etc\n",
        "import torchvision.transforms as transforms"
      ]
    },
    {
      "cell_type": "code",
      "execution_count": null,
      "metadata": {
        "colab": {
          "base_uri": "https://localhost:8080/"
        },
        "id": "yPiAOqDbHB0U",
        "outputId": "20184755-2d7c-4d0a-eb39-cb1ccd65ac98"
      },
      "outputs": [
        {
          "name": "stdout",
          "output_type": "stream",
          "text": [
            "This was an amazing product\n",
            "This was the shittiest product possible\n",
            "Amazing product, fast delivery\n",
            "Had to sell my kidney to buy this, and now my life has changed\n",
            "Good one!\n",
            "Bad One!\n"
          ]
        }
      ],
      "source": [
        "from torch.utils.data import Dataset\n",
        "\n",
        "# Dataset is there to be able to interact with DataLoader\n",
        "\n",
        "class MyDataset(Dataset):\n",
        "  def __init__(self):\n",
        "    self.data = (\n",
        "        \"This was an amazing product\",\n",
        "        \"This was the shittiest product possible\",\n",
        "        \"Amazing product, fast delivery\",\n",
        "        \"Had to sell my kidney to buy this, and now my life has changed\",\n",
        "        \"Good one!\",\n",
        "        \"Bad One!\"\n",
        "    )\n",
        "\n",
        "  def __getitem__(self, index):\n",
        "    return self.data[index]\n",
        "\n",
        "  def __len__(self):\n",
        "    return len(self.data)\n",
        "\n",
        "myData = MyDataset()\n",
        "\n",
        "for m in myData:\n",
        "  print(m)\n",
        "\n"
      ]
    },
    {
      "cell_type": "code",
      "execution_count": null,
      "metadata": {
        "id": "Vya1Xa5PHXx6"
      },
      "outputs": [],
      "source": [
        "train_loader = torch.utils.data.DataLoader(myData, batch_size = 2, shuffle=True)"
      ]
    },
    {
      "cell_type": "code",
      "execution_count": null,
      "metadata": {
        "colab": {
          "base_uri": "https://localhost:8080/"
        },
        "id": "5_RMtbv-HhC5",
        "outputId": "b8f84203-830b-4039-aa43-cc0eef019bd2"
      },
      "outputs": [
        {
          "name": "stdout",
          "output_type": "stream",
          "text": [
            "['This was an amazing product', 'This was the shittiest product possible']\n",
            "['Amazing product, fast delivery', 'Bad One!']\n",
            "['Had to sell my kidney to buy this, and now my life has changed', 'Good one!']\n"
          ]
        }
      ],
      "source": [
        "for tr in train_loader:\n",
        "  print(tr)"
      ]
    },
    {
      "cell_type": "code",
      "execution_count": null,
      "metadata": {
        "id": "LklULc8NHjFs"
      },
      "outputs": [],
      "source": [
        "train_set = torchvision.datasets.FashionMNIST(\n",
        "    root='./data',\n",
        "    train=True,\n",
        "    download=True,\n",
        "    transform = transforms.Compose([\n",
        "          transforms.ToTensor()\n",
        "    ])\n",
        ")"
      ]
    },
    {
      "cell_type": "code",
      "execution_count": null,
      "metadata": {
        "id": "z8CZnbfzHlPL"
      },
      "outputs": [],
      "source": [
        "import torch.nn as nn\n",
        "\n",
        "class Network(nn.Module):\n",
        "  def __init__(self):\n",
        "    super().__init__()\n",
        "    self.layer = None\n",
        "\n",
        "  def forward(self, t):\n",
        "    t = self.layer(t)\n",
        "    return t"
      ]
    },
    {
      "cell_type": "code",
      "execution_count": null,
      "metadata": {
        "id": "w3j79Nf7HrCR"
      },
      "outputs": [],
      "source": [
        "class Network(nn.Module):\n",
        "  def __init__(self):\n",
        "    super().__init__()\n",
        "\n",
        "    # input 28 # output 24 # receptive_field = 5\n",
        "    self.conv1 = nn.Conv2d(in_channels=1, out_channels=6, kernel_size=5)\n",
        "    # input 24 # output 20 # receptive_field = 9\n",
        "    self.conv2 = nn.Conv2d(in_channels=6, out_channels=12, kernel_size=5)\n",
        "    # input 12x20x20, output 120\n",
        "    # input 10*512\n",
        "    self.fc1 = nn.Linear(in_features=12*20*20, out_features=120)\n",
        "    self.fc2 = nn.Linear(in_features=120, out_features=60)\n",
        "    self.out = nn.Linear(in_features=60, out_features=10)\n",
        "\n",
        "  def forward(self, t):\n",
        "    return t\n"
      ]
    },
    {
      "cell_type": "code",
      "execution_count": null,
      "metadata": {
        "colab": {
          "base_uri": "https://localhost:8080/"
        },
        "id": "mXTEcEYFIJSm",
        "outputId": "3b0253c7-23ae-4052-ed1e-e5db29611ac4"
      },
      "outputs": [
        {
          "name": "stdout",
          "output_type": "stream",
          "text": [
            "Network(\n",
            "  (conv1): Conv2d(1, 6, kernel_size=(5, 5), stride=(1, 1))\n",
            "  (conv2): Conv2d(6, 12, kernel_size=(5, 5), stride=(1, 1))\n",
            "  (fc1): Linear(in_features=4800, out_features=120, bias=True)\n",
            "  (fc2): Linear(in_features=120, out_features=60, bias=True)\n",
            "  (out): Linear(in_features=60, out_features=10, bias=True)\n",
            ")\n"
          ]
        }
      ],
      "source": [
        "network = Network()\n",
        "\n",
        "print(network)"
      ]
    },
    {
      "cell_type": "code",
      "execution_count": null,
      "metadata": {
        "colab": {
          "base_uri": "https://localhost:8080/"
        },
        "id": "Ew55pG-oILin",
        "outputId": "e2195cf9-beb0-4980-e636-2275001856b2"
      },
      "outputs": [
        {
          "data": {
            "text/plain": [
              "Linear(in_features=120, out_features=60, bias=True)"
            ]
          },
          "execution_count": 140,
          "metadata": {},
          "output_type": "execute_result"
        }
      ],
      "source": [
        "network.fc2"
      ]
    },
    {
      "cell_type": "code",
      "execution_count": null,
      "metadata": {
        "colab": {
          "base_uri": "https://localhost:8080/"
        },
        "id": "d_BoDcT0IPir",
        "outputId": "6887bbe6-257e-4bcb-dec7-6c842926a1ce"
      },
      "outputs": [
        {
          "data": {
            "text/plain": [
              "['T_destination',\n",
              " '__annotations__',\n",
              " '__call__',\n",
              " '__class__',\n",
              " '__constants__',\n",
              " '__delattr__',\n",
              " '__dict__',\n",
              " '__dir__',\n",
              " '__doc__',\n",
              " '__eq__',\n",
              " '__format__',\n",
              " '__ge__',\n",
              " '__getattr__',\n",
              " '__getattribute__',\n",
              " '__gt__',\n",
              " '__hash__',\n",
              " '__init__',\n",
              " '__init_subclass__',\n",
              " '__le__',\n",
              " '__lt__',\n",
              " '__module__',\n",
              " '__ne__',\n",
              " '__new__',\n",
              " '__reduce__',\n",
              " '__reduce_ex__',\n",
              " '__repr__',\n",
              " '__setattr__',\n",
              " '__setstate__',\n",
              " '__sizeof__',\n",
              " '__str__',\n",
              " '__subclasshook__',\n",
              " '__weakref__',\n",
              " '_apply',\n",
              " '_backward_hooks',\n",
              " '_backward_pre_hooks',\n",
              " '_buffers',\n",
              " '_call_impl',\n",
              " '_forward_hooks',\n",
              " '_forward_hooks_with_kwargs',\n",
              " '_forward_pre_hooks',\n",
              " '_forward_pre_hooks_with_kwargs',\n",
              " '_get_backward_hooks',\n",
              " '_get_backward_pre_hooks',\n",
              " '_get_name',\n",
              " '_is_full_backward_hook',\n",
              " '_load_from_state_dict',\n",
              " '_load_state_dict_post_hooks',\n",
              " '_load_state_dict_pre_hooks',\n",
              " '_maybe_warn_non_full_backward_hook',\n",
              " '_modules',\n",
              " '_named_members',\n",
              " '_non_persistent_buffers_set',\n",
              " '_parameters',\n",
              " '_register_load_state_dict_pre_hook',\n",
              " '_register_state_dict_hook',\n",
              " '_replicate_for_data_parallel',\n",
              " '_save_to_state_dict',\n",
              " '_slow_forward',\n",
              " '_state_dict_hooks',\n",
              " '_state_dict_pre_hooks',\n",
              " '_version',\n",
              " 'add_module',\n",
              " 'apply',\n",
              " 'bfloat16',\n",
              " 'bias',\n",
              " 'buffers',\n",
              " 'call_super_init',\n",
              " 'children',\n",
              " 'cpu',\n",
              " 'cuda',\n",
              " 'double',\n",
              " 'dump_patches',\n",
              " 'eval',\n",
              " 'extra_repr',\n",
              " 'float',\n",
              " 'forward',\n",
              " 'get_buffer',\n",
              " 'get_extra_state',\n",
              " 'get_parameter',\n",
              " 'get_submodule',\n",
              " 'half',\n",
              " 'in_features',\n",
              " 'ipu',\n",
              " 'load_state_dict',\n",
              " 'modules',\n",
              " 'named_buffers',\n",
              " 'named_children',\n",
              " 'named_modules',\n",
              " 'named_parameters',\n",
              " 'out_features',\n",
              " 'parameters',\n",
              " 'register_backward_hook',\n",
              " 'register_buffer',\n",
              " 'register_forward_hook',\n",
              " 'register_forward_pre_hook',\n",
              " 'register_full_backward_hook',\n",
              " 'register_full_backward_pre_hook',\n",
              " 'register_load_state_dict_post_hook',\n",
              " 'register_module',\n",
              " 'register_parameter',\n",
              " 'register_state_dict_pre_hook',\n",
              " 'requires_grad_',\n",
              " 'reset_parameters',\n",
              " 'set_extra_state',\n",
              " 'share_memory',\n",
              " 'state_dict',\n",
              " 'to',\n",
              " 'to_empty',\n",
              " 'train',\n",
              " 'training',\n",
              " 'type',\n",
              " 'weight',\n",
              " 'xpu',\n",
              " 'zero_grad']"
            ]
          },
          "execution_count": 141,
          "metadata": {},
          "output_type": "execute_result"
        }
      ],
      "source": [
        "dir(network.fc2)"
      ]
    },
    {
      "cell_type": "code",
      "execution_count": null,
      "metadata": {
        "colab": {
          "base_uri": "https://localhost:8080/"
        },
        "id": "ooVg6nfWISGJ",
        "outputId": "d79a5858-aff4-4514-80c8-2055377a1763"
      },
      "outputs": [
        {
          "data": {
            "text/plain": [
              "Parameter containing:\n",
              "tensor([[-0.0343,  0.0602,  0.0605,  ...,  0.0449, -0.0012,  0.0529],\n",
              "        [-0.0509, -0.0603, -0.0717,  ..., -0.0177, -0.0491, -0.0084],\n",
              "        [-0.0865, -0.0859,  0.0279,  ..., -0.0383,  0.0127, -0.0653],\n",
              "        ...,\n",
              "        [-0.0065,  0.0194, -0.0759,  ...,  0.0041,  0.0141, -0.0268],\n",
              "        [ 0.0747,  0.0691, -0.0081,  ..., -0.0540,  0.0772,  0.0587],\n",
              "        [-0.0149, -0.0754,  0.0211,  ..., -0.0140, -0.0741, -0.0439]], requires_grad=True)"
            ]
          },
          "execution_count": 142,
          "metadata": {},
          "output_type": "execute_result"
        }
      ],
      "source": [
        "network.fc2.weight"
      ]
    },
    {
      "cell_type": "code",
      "execution_count": null,
      "metadata": {
        "colab": {
          "base_uri": "https://localhost:8080/"
        },
        "id": "0mdZ8cbsIVS8",
        "outputId": "795a13db-ca23-4aff-fc0e-b3fdbba30ae7"
      },
      "outputs": [
        {
          "data": {
            "text/plain": [
              "torch.Size([60, 120])"
            ]
          },
          "execution_count": 143,
          "metadata": {},
          "output_type": "execute_result"
        }
      ],
      "source": [
        "network.fc2.weight.shape"
      ]
    },
    {
      "cell_type": "code",
      "execution_count": null,
      "metadata": {
        "colab": {
          "base_uri": "https://localhost:8080/"
        },
        "id": "erqntUmBIW01",
        "outputId": "9fac95a3-df9d-45a8-bd87-5c3139d88b1a"
      },
      "outputs": [
        {
          "name": "stdout",
          "output_type": "stream",
          "text": [
            "conv1.weight \t\t torch.Size([6, 1, 5, 5])\n",
            "conv1.bias \t\t torch.Size([6])\n",
            "conv2.weight \t\t torch.Size([12, 6, 5, 5])\n",
            "conv2.bias \t\t torch.Size([12])\n",
            "fc1.weight \t\t torch.Size([120, 4800])\n",
            "fc1.bias \t\t torch.Size([120])\n",
            "fc2.weight \t\t torch.Size([60, 120])\n",
            "fc2.bias \t\t torch.Size([60])\n",
            "out.weight \t\t torch.Size([10, 60])\n",
            "out.bias \t\t torch.Size([10])\n"
          ]
        }
      ],
      "source": [
        "class Network(nn.Module):\n",
        "  def __init__(self):\n",
        "    super().__init__()\n",
        "    self.conv1 = nn.Conv2d(in_channels=1, out_channels=6, kernel_size=5)\n",
        "    self.conv2 = nn.Conv2d(in_channels=6, out_channels=12, kernel_size=5)\n",
        "    self.fc1 = nn.Linear(in_features=12*20*20, out_features=120)\n",
        "    self.fc2 = nn.Linear(in_features=120, out_features=60)\n",
        "    self.out = nn.Linear(in_features=60, out_features=10)\n",
        "\n",
        "  def forward(self, t):\n",
        "    # TODO implement this\n",
        "    return t\n",
        "\n",
        "network = Network()\n",
        "\n",
        "for name, param in network.named_parameters():\n",
        "  print(name, '\\t\\t', param.shape)"
      ]
    },
    {
      "cell_type": "code",
      "execution_count": null,
      "metadata": {
        "id": "aDNuwoKdIeOj"
      },
      "outputs": [],
      "source": [
        "import torch.nn.functional as F"
      ]
    },
    {
      "cell_type": "code",
      "execution_count": null,
      "metadata": {
        "id": "jSan924yIlDM"
      },
      "outputs": [],
      "source": [
        "\n",
        "class Network(nn.Module):\n",
        "  def __init__(self):\n",
        "    super().__init__()\n",
        "    self.conv1 = nn.Conv2d(in_channels=1, out_channels=6, kernel_size=5)\n",
        "    self.conv2 = nn.Conv2d(in_channels=6, out_channels=12, kernel_size=5)\n",
        "    self.fc1 = nn.Linear(in_features=12 * 4 * 4, out_features=120)\n",
        "    self.fc2 = nn.Linear(in_features=120, out_features=60)\n",
        "    self.out = nn.Linear(in_features=60, out_features=10)\n",
        "\n",
        "  def forward(self, t):\n",
        "    # input layer\n",
        "    x = t\n",
        "\n",
        "    # conv1 layer\n",
        "    x = self.conv1(x)\n",
        "    x = F.relu(x)\n",
        "    x = F.max_pool2d(x, kernel_size=2, stride=2) # 28 | 24 | 12\n",
        "\n",
        "    # conv2 layer\n",
        "    x = self.conv2(x)\n",
        "    x = F.relu(x)\n",
        "    x = F.max_pool2d(x, kernel_size=2, stride=2) # 12 | 8 | 4 >> 12x4x4\n",
        "\n",
        "    # reshapre\n",
        "    x = x.reshape(-1, 12 * 4 * 4)\n",
        "\n",
        "    # fc1 layer\n",
        "    x = self.fc1(x)\n",
        "    x = F.relu(x)\n",
        "\n",
        "    # fc2 layer\n",
        "    x = self.fc2(x)\n",
        "    x = F.relu(x)\n",
        "\n",
        "    # output layer\n",
        "    x = self.out(x)\n",
        "    # x = F.softmax(x, dim=1)\n",
        "    return x"
      ]
    },
    {
      "cell_type": "code",
      "execution_count": null,
      "metadata": {
        "colab": {
          "base_uri": "https://localhost:8080/"
        },
        "id": "czXDvIi-IsiH",
        "outputId": "1b1f281d-5378-4f95-aa57-cf8f896d8ebe"
      },
      "outputs": [
        {
          "data": {
            "text/plain": [
              "<torch.autograd.grad_mode.set_grad_enabled at 0x7f0d9b78ffa0>"
            ]
          },
          "execution_count": 147,
          "metadata": {},
          "output_type": "execute_result"
        }
      ],
      "source": [
        "torch.set_grad_enabled(False)"
      ]
    },
    {
      "cell_type": "code",
      "execution_count": null,
      "metadata": {
        "colab": {
          "base_uri": "https://localhost:8080/"
        },
        "id": "cDnSmVItIzi4",
        "outputId": "b51b5f53-e4eb-458d-ec42-960d85f860a3"
      },
      "outputs": [
        {
          "data": {
            "text/plain": [
              "(torch.Size([1, 28, 28]), torch.Size([1, 28, 28]))"
            ]
          },
          "execution_count": 155,
          "metadata": {},
          "output_type": "execute_result"
        }
      ],
      "source": [
        "sample = next(iter(train_set))\n",
        "image, label = sample\n",
        "image.shape, image.shape"
      ]
    },
    {
      "cell_type": "code",
      "execution_count": null,
      "metadata": {
        "id": "Jc1X6-w9JFxv"
      },
      "outputs": [],
      "source": [
        "network = Network()"
      ]
    },
    {
      "cell_type": "code",
      "execution_count": null,
      "metadata": {
        "id": "z_YOhIpDI6El"
      },
      "outputs": [],
      "source": [
        "pred = network(image)"
      ]
    },
    {
      "cell_type": "code",
      "execution_count": null,
      "metadata": {
        "colab": {
          "base_uri": "https://localhost:8080/"
        },
        "id": "tWC7l00-JBPR",
        "outputId": "550f97ee-f144-49bc-99ed-59efa672793f"
      },
      "outputs": [
        {
          "data": {
            "text/plain": [
              "(tensor([[ 0.0914,  0.1124,  0.0621,  0.0720,  0.0662, -0.0895,  0.0004,  0.0064,  0.0996, -0.0736]]),\n",
              " torch.Size([1, 10]),\n",
              " 9)"
            ]
          },
          "execution_count": 158,
          "metadata": {},
          "output_type": "execute_result"
        }
      ],
      "source": [
        "pred, pred.shape, label"
      ]
    },
    {
      "cell_type": "code",
      "execution_count": null,
      "metadata": {
        "colab": {
          "base_uri": "https://localhost:8080/"
        },
        "id": "4z2WxJ5rJWAl",
        "outputId": "e4a3f553-d9d8-4abb-e3fc-3aa31010d6f3"
      },
      "outputs": [
        {
          "data": {
            "text/plain": [
              "tensor([1])"
            ]
          },
          "execution_count": 159,
          "metadata": {},
          "output_type": "execute_result"
        }
      ],
      "source": [
        "pred.argmax(dim=1)"
      ]
    },
    {
      "cell_type": "code",
      "execution_count": null,
      "metadata": {
        "colab": {
          "base_uri": "https://localhost:8080/"
        },
        "id": "z3c1tk7EJeXO",
        "outputId": "d2bf70a9-d2b4-435e-d9b3-b44b88ec21ae"
      },
      "outputs": [
        {
          "data": {
            "text/plain": [
              "tensor(1.0000)"
            ]
          },
          "execution_count": 160,
          "metadata": {},
          "output_type": "execute_result"
        }
      ],
      "source": [
        "F.softmax(pred, dim=1).sum()"
      ]
    },
    {
      "cell_type": "code",
      "execution_count": null,
      "metadata": {
        "colab": {
          "base_uri": "https://localhost:8080/"
        },
        "id": "BeoLBMnrJj2w",
        "outputId": "0ff615f8-c37e-4ed4-81e3-666278b4a5e4"
      },
      "outputs": [
        {
          "data": {
            "text/plain": [
              "tensor([[0.1056, 0.1078, 0.1025, 0.1036, 0.1030, 0.0881, 0.0964, 0.0970, 0.1065, 0.0895]])"
            ]
          },
          "execution_count": 161,
          "metadata": {},
          "output_type": "execute_result"
        }
      ],
      "source": [
        "F.softmax(pred, dim=1)"
      ]
    },
    {
      "cell_type": "code",
      "execution_count": null,
      "metadata": {
        "id": "j_J5Qb73JmVe"
      },
      "outputs": [],
      "source": [
        "data_loader = torch.utils.data.DataLoader(\n",
        "    train_set,\n",
        "    batch_size=10\n",
        ")"
      ]
    },
    {
      "cell_type": "code",
      "execution_count": null,
      "metadata": {
        "colab": {
          "base_uri": "https://localhost:8080/"
        },
        "id": "U12eRNwHJ1tm",
        "outputId": "278a2012-4b7a-4cd7-d30d-aa2954bdd6bf"
      },
      "outputs": [
        {
          "data": {
            "text/plain": [
              "10"
            ]
          },
          "execution_count": 163,
          "metadata": {},
          "output_type": "execute_result"
        }
      ],
      "source": [
        "batch = next(iter(data_loader))\n",
        "len(batch[0])"
      ]
    },
    {
      "cell_type": "code",
      "execution_count": null,
      "metadata": {
        "colab": {
          "base_uri": "https://localhost:8080/"
        },
        "id": "PwA0RO3PJ3Ah",
        "outputId": "44123fb9-64c7-415f-c254-e141b72c9f89"
      },
      "outputs": [
        {
          "data": {
            "text/plain": [
              "torch.Size([10, 10])"
            ]
          },
          "execution_count": 164,
          "metadata": {},
          "output_type": "execute_result"
        }
      ],
      "source": [
        "images, labels = batch\n",
        "\n",
        "preds = network(images)\n",
        "preds.shape"
      ]
    },
    {
      "cell_type": "code",
      "execution_count": null,
      "metadata": {
        "colab": {
          "base_uri": "https://localhost:8080/"
        },
        "id": "VCcfQEkSJ8JY",
        "outputId": "f2d06627-1b38-42c9-d651-37a43860eafc"
      },
      "outputs": [
        {
          "data": {
            "text/plain": [
              "tensor([[ 0.0914,  0.1124,  0.0621,  0.0720,  0.0662, -0.0895,  0.0004,  0.0064,  0.0996, -0.0736],\n",
              "        [ 0.0807,  0.1114,  0.0588,  0.0839,  0.0632, -0.0962, -0.0026,  0.0058,  0.1060, -0.0687],\n",
              "        [ 0.0813,  0.1107,  0.0626,  0.0759,  0.0661, -0.1033,  0.0040,  0.0034,  0.1066, -0.0607],\n",
              "        [ 0.0834,  0.1123,  0.0599,  0.0752,  0.0643, -0.1017,  0.0012,  0.0073,  0.1051, -0.0643],\n",
              "        [ 0.0851,  0.1100,  0.0596,  0.0813,  0.0568, -0.1044, -0.0044,  0.0127,  0.1078, -0.0677],\n",
              "        [ 0.0811,  0.1085,  0.0554,  0.0785,  0.0620, -0.0944, -0.0085,  0.0139,  0.1089, -0.0668],\n",
              "        [ 0.0940,  0.1171,  0.0591,  0.0690,  0.0664, -0.0934, -0.0005,  0.0076,  0.0993, -0.0694],\n",
              "        [ 0.0870,  0.1105,  0.0586,  0.0686,  0.0655, -0.0900,  0.0058,  0.0115,  0.1012, -0.0801],\n",
              "        [ 0.0850,  0.1119,  0.0638,  0.0721,  0.0727, -0.0960, -0.0003,  0.0089,  0.0981, -0.0677],\n",
              "        [ 0.0880,  0.1149,  0.0628,  0.0687,  0.0722, -0.0912, -0.0077,  0.0043,  0.0965, -0.0686]])"
            ]
          },
          "execution_count": 165,
          "metadata": {},
          "output_type": "execute_result"
        }
      ],
      "source": [
        "preds"
      ]
    },
    {
      "cell_type": "code",
      "execution_count": null,
      "metadata": {
        "colab": {
          "base_uri": "https://localhost:8080/"
        },
        "id": "mCNJpOeYJ-1g",
        "outputId": "5f1872aa-f324-4c98-d6b6-92f6354db43e"
      },
      "outputs": [
        {
          "data": {
            "text/plain": [
              "tensor([1, 1, 1, 1, 1, 8, 1, 1, 1, 1])"
            ]
          },
          "execution_count": 166,
          "metadata": {},
          "output_type": "execute_result"
        }
      ],
      "source": [
        "preds.argmax(dim=1)"
      ]
    },
    {
      "cell_type": "code",
      "execution_count": null,
      "metadata": {
        "colab": {
          "base_uri": "https://localhost:8080/"
        },
        "id": "ij8V3XBiKAmT",
        "outputId": "ec0bec75-c0a0-4b81-d032-c0daf06313a7"
      },
      "outputs": [
        {
          "data": {
            "text/plain": [
              "0"
            ]
          },
          "execution_count": 169,
          "metadata": {},
          "output_type": "execute_result"
        }
      ],
      "source": [
        "preds.argmax(dim=1).eq(labels).sum().item()"
      ]
    },
    {
      "cell_type": "code",
      "execution_count": null,
      "metadata": {
        "id": "tOjCQHGiKDts"
      },
      "outputs": [],
      "source": [
        "def get_num_correct(preds, labels):\n",
        "  return preds.argmax(dim=1).eq(labels).sum().item()"
      ]
    },
    {
      "cell_type": "code",
      "execution_count": null,
      "metadata": {
        "colab": {
          "base_uri": "https://localhost:8080/"
        },
        "id": "jTAeaKHSKKEO",
        "outputId": "9856cc1f-2f47-461c-d7ec-e8c56c2d3f7e"
      },
      "outputs": [
        {
          "data": {
            "text/plain": [
              "0"
            ]
          },
          "execution_count": 171,
          "metadata": {},
          "output_type": "execute_result"
        }
      ],
      "source": [
        "get_num_correct(preds, labels)"
      ]
    },
    {
      "cell_type": "code",
      "execution_count": null,
      "metadata": {
        "colab": {
          "base_uri": "https://localhost:8080/"
        },
        "id": "Zup_zyL9KLkG",
        "outputId": "0211e6b4-2e60-43e1-db7d-dc7af1a60897"
      },
      "outputs": [
        {
          "data": {
            "text/plain": [
              "<torch.autograd.grad_mode.set_grad_enabled at 0x7f0da0273940>"
            ]
          },
          "execution_count": 172,
          "metadata": {},
          "output_type": "execute_result"
        }
      ],
      "source": [
        "import torch.optim as optim\n",
        "\n",
        "torch.set_grad_enabled(True)"
      ]
    },
    {
      "cell_type": "code",
      "execution_count": null,
      "metadata": {
        "colab": {
          "base_uri": "https://localhost:8080/"
        },
        "id": "naP5U0QkKN6r",
        "outputId": "915261c6-5c1b-414c-b34c-8c34f6484800"
      },
      "outputs": [
        {
          "data": {
            "text/plain": [
              "2.320847511291504"
            ]
          },
          "execution_count": 173,
          "metadata": {},
          "output_type": "execute_result"
        }
      ],
      "source": [
        "preds = network(images)\n",
        "loss = F.cross_entropy(preds, labels)\n",
        "loss.item()"
      ]
    },
    {
      "cell_type": "code",
      "execution_count": null,
      "metadata": {
        "colab": {
          "base_uri": "https://localhost:8080/"
        },
        "id": "x_qpeslzKSHT",
        "outputId": "7c0edd82-5a7c-470c-e76c-234e69c889c6"
      },
      "outputs": [
        {
          "name": "stdout",
          "output_type": "stream",
          "text": [
            "None\n"
          ]
        }
      ],
      "source": [
        "print(network.conv1.weight.grad)"
      ]
    },
    {
      "cell_type": "code",
      "execution_count": null,
      "metadata": {
        "id": "r8fF9NNoKT8N"
      },
      "outputs": [],
      "source": [
        "loss.backward()"
      ]
    },
    {
      "cell_type": "code",
      "execution_count": null,
      "metadata": {
        "colab": {
          "base_uri": "https://localhost:8080/"
        },
        "id": "auX0aIWeKZNp",
        "outputId": "606e3bfd-b06f-4c60-dcc2-d714fccb4a55"
      },
      "outputs": [
        {
          "name": "stdout",
          "output_type": "stream",
          "text": [
            "tensor([[[[-4.1315e-05,  7.1568e-05,  2.5473e-04,  2.5983e-04,  4.7365e-05],\n",
            "          [ 1.2927e-05, -1.2589e-05,  2.2073e-06, -4.8794e-06, -2.1108e-05],\n",
            "          [ 1.0771e-04,  1.8845e-04, -1.2659e-05, -2.4411e-04, -4.3682e-05],\n",
            "          [ 1.0312e-05, -4.8621e-05, -2.9178e-05, -1.5741e-04, -6.9876e-05],\n",
            "          [ 9.7474e-05, -3.7544e-04, -6.2332e-04, -1.4960e-04, -3.2057e-04]]],\n",
            "\n",
            "\n",
            "        [[[ 4.2686e-05,  8.1689e-05,  1.3480e-04, -1.9069e-04, -4.5291e-04],\n",
            "          [-6.3117e-05, -8.7447e-05,  1.7811e-04, -9.8509e-06, -1.2277e-03],\n",
            "          [-9.8301e-05,  2.9347e-04,  6.1182e-04, -7.0742e-04, -1.0142e-03],\n",
            "          [ 4.5899e-05,  5.6094e-04, -5.1326e-04, -5.6511e-04, -3.5898e-04],\n",
            "          [ 4.9249e-04,  1.1122e-04, -1.0992e-03, -3.6295e-04,  1.3974e-04]]],\n",
            "\n",
            "\n",
            "        [[[ 2.8364e-03,  2.3402e-03,  2.6597e-03,  3.7306e-03,  3.3751e-03],\n",
            "          [ 3.6011e-03,  2.3311e-03,  1.5809e-03,  1.4480e-03,  1.4725e-03],\n",
            "          [ 3.2337e-03,  1.8008e-03,  3.9708e-03,  3.9865e-03,  3.3439e-03],\n",
            "          [ 3.7971e-03,  2.2857e-03,  4.1104e-03,  2.7312e-03,  3.4374e-03],\n",
            "          [ 3.6522e-03,  1.8477e-03,  3.6521e-03,  3.3531e-03,  2.9694e-03]]],\n",
            "\n",
            "\n",
            "        [[[ 3.5030e-04,  1.9123e-03,  1.7525e-03,  2.1496e-03,  2.3684e-03],\n",
            "          [ 9.6051e-05,  1.5201e-03,  1.4939e-03,  1.7257e-03,  2.8013e-03],\n",
            "          [ 1.4858e-03,  6.4676e-04, -1.0430e-03,  1.5055e-03,  1.7937e-03],\n",
            "          [ 1.9531e-03,  1.3253e-03,  2.0475e-04,  1.2391e-03,  1.9521e-03],\n",
            "          [ 1.1805e-03,  1.9672e-03,  1.4316e-03,  1.8065e-03,  2.4636e-03]]],\n",
            "\n",
            "\n",
            "        [[[-3.1716e-03, -6.8035e-03, -6.9248e-03, -6.5410e-03, -5.9414e-03],\n",
            "          [-4.1711e-03, -7.2210e-03, -7.0010e-03, -6.1292e-03, -5.5238e-03],\n",
            "          [-5.3672e-03, -8.8560e-03, -7.5082e-03, -7.2886e-03, -7.0031e-03],\n",
            "          [-5.8146e-03, -7.1291e-03, -5.9205e-03, -5.6182e-03, -5.4939e-03],\n",
            "          [-6.4344e-03, -6.4318e-03, -6.8413e-03, -6.7850e-03, -5.4572e-03]]],\n",
            "\n",
            "\n",
            "        [[[-1.9616e-03, -1.8123e-03, -2.7221e-03, -1.1870e-03, -6.7015e-04],\n",
            "          [-2.9352e-03, -3.5991e-03, -3.5935e-03, -1.5756e-03, -5.1786e-04],\n",
            "          [-2.8020e-03, -3.6807e-03, -3.5598e-03, -1.2388e-03, -1.0230e-03],\n",
            "          [-2.8483e-03, -3.8758e-03, -2.4596e-03, -7.2471e-04, -8.8156e-04],\n",
            "          [-3.8184e-03, -3.7391e-03, -1.8033e-03, -5.3792e-04, -1.0165e-03]]]])\n"
          ]
        }
      ],
      "source": [
        "print(network.conv1.weight.grad)"
      ]
    },
    {
      "cell_type": "code",
      "execution_count": null,
      "metadata": {
        "colab": {
          "base_uri": "https://localhost:8080/"
        },
        "id": "JVqKsaImKamo",
        "outputId": "78beacb3-3a0b-412e-a12a-6a3d8c3631e7"
      },
      "outputs": [
        {
          "name": "stdout",
          "output_type": "stream",
          "text": [
            "torch.Size([6, 1, 5, 5])\n"
          ]
        }
      ],
      "source": [
        "print(network.conv1.weight.grad.shape)"
      ]
    },
    {
      "cell_type": "code",
      "execution_count": null,
      "metadata": {
        "id": "ymUiMZY0KrbG"
      },
      "outputs": [],
      "source": [
        "optimizer = optim.SGD(network.parameters(), lr = 0.01)"
      ]
    },
    {
      "cell_type": "code",
      "execution_count": null,
      "metadata": {
        "colab": {
          "base_uri": "https://localhost:8080/"
        },
        "id": "3IzzaAWhKvgP",
        "outputId": "1414a1e2-a805-4aa1-89a6-ae2eb1017062"
      },
      "outputs": [
        {
          "data": {
            "text/plain": [
              "(2.320847511291504, 0)"
            ]
          },
          "execution_count": 179,
          "metadata": {},
          "output_type": "execute_result"
        }
      ],
      "source": [
        "loss.item(), get_num_correct(preds, labels)"
      ]
    },
    {
      "cell_type": "code",
      "execution_count": null,
      "metadata": {
        "id": "_hxJ8vQSKzXa"
      },
      "outputs": [],
      "source": [
        "optimizer.step()"
      ]
    },
    {
      "cell_type": "code",
      "execution_count": null,
      "metadata": {
        "colab": {
          "base_uri": "https://localhost:8080/"
        },
        "id": "ljK_N-WcK298",
        "outputId": "801845e4-a7d0-4ef6-8950-71ba42e0296f"
      },
      "outputs": [
        {
          "data": {
            "text/plain": [
              "(2.3192076683044434, 0)"
            ]
          },
          "execution_count": 181,
          "metadata": {},
          "output_type": "execute_result"
        }
      ],
      "source": [
        "preds = network(images)\n",
        "loss = F.cross_entropy(preds, labels)\n",
        "loss.item(), get_num_correct(preds, labels)"
      ]
    },
    {
      "cell_type": "code",
      "execution_count": null,
      "metadata": {
        "colab": {
          "base_uri": "https://localhost:8080/"
        },
        "id": "URckIKFlK7LE",
        "outputId": "fcfca07f-6c51-4667-d663-3c74631d1299"
      },
      "outputs": [
        {
          "data": {
            "text/plain": [
              "(2.3159430027008057, 0)"
            ]
          },
          "execution_count": 182,
          "metadata": {},
          "output_type": "execute_result"
        }
      ],
      "source": [
        "loss.backward()\n",
        "optimizer.step()\n",
        "preds = network(images)\n",
        "loss = F.cross_entropy(preds, labels)\n",
        "loss.item(), get_num_correct(preds, labels)"
      ]
    },
    {
      "cell_type": "code",
      "execution_count": null,
      "metadata": {
        "colab": {
          "base_uri": "https://localhost:8080/"
        },
        "id": "dLzLxxaRLDfD",
        "outputId": "0984179a-63a5-4fc4-9bbc-b5f21d70d485"
      },
      "outputs": [
        {
          "data": {
            "text/plain": [
              "(2.311093807220459, 1)"
            ]
          },
          "execution_count": 183,
          "metadata": {},
          "output_type": "execute_result"
        }
      ],
      "source": [
        "loss.backward()\n",
        "optimizer.step()\n",
        "preds = network(images)\n",
        "loss = F.cross_entropy(preds, labels)\n",
        "loss.item(), get_num_correct(preds, labels)"
      ]
    },
    {
      "cell_type": "code",
      "execution_count": null,
      "metadata": {
        "colab": {
          "base_uri": "https://localhost:8080/"
        },
        "id": "-ZcYCJ_sLF1v",
        "outputId": "6477d6e6-e281-403b-d836-3cfd424f13dd"
      },
      "outputs": [
        {
          "data": {
            "text/plain": [
              "(2.3046939373016357, 3)"
            ]
          },
          "execution_count": 184,
          "metadata": {},
          "output_type": "execute_result"
        }
      ],
      "source": [
        "loss.backward()\n",
        "optimizer.step()\n",
        "preds = network(images)\n",
        "loss = F.cross_entropy(preds, labels)\n",
        "loss.item(), get_num_correct(preds, labels)"
      ]
    },
    {
      "cell_type": "code",
      "execution_count": null,
      "metadata": {
        "colab": {
          "base_uri": "https://localhost:8080/"
        },
        "id": "0MAk_dp6LGqu",
        "outputId": "38836b15-e206-4dd1-d97f-1479108bc8b6"
      },
      "outputs": [
        {
          "data": {
            "text/plain": [
              "(2.296828269958496, 3)"
            ]
          },
          "execution_count": 185,
          "metadata": {},
          "output_type": "execute_result"
        }
      ],
      "source": [
        "loss.backward()\n",
        "optimizer.step()\n",
        "preds = network(images)\n",
        "loss = F.cross_entropy(preds, labels)\n",
        "loss.item(), get_num_correct(preds, labels)"
      ]
    },
    {
      "cell_type": "code",
      "execution_count": null,
      "metadata": {
        "colab": {
          "base_uri": "https://localhost:8080/"
        },
        "id": "_SX56ACPLHG9",
        "outputId": "2780a6b4-e60a-4cd0-a2b4-e4bc7957b79b"
      },
      "outputs": [
        {
          "data": {
            "text/plain": [
              "(2.287583351135254, 3)"
            ]
          },
          "execution_count": 186,
          "metadata": {},
          "output_type": "execute_result"
        }
      ],
      "source": [
        "loss.backward()\n",
        "optimizer.step()\n",
        "preds = network(images)\n",
        "loss = F.cross_entropy(preds, labels)\n",
        "loss.item(), get_num_correct(preds, labels)"
      ]
    },
    {
      "cell_type": "code",
      "execution_count": null,
      "metadata": {
        "colab": {
          "base_uri": "https://localhost:8080/"
        },
        "id": "2Xo0x-F9LHlk",
        "outputId": "7540ae41-6ec9-42cb-a2b8-e1b5a7208338"
      },
      "outputs": [
        {
          "data": {
            "text/plain": [
              "(2.2770824432373047, 3)"
            ]
          },
          "execution_count": 187,
          "metadata": {},
          "output_type": "execute_result"
        }
      ],
      "source": [
        "loss.backward()\n",
        "optimizer.step()\n",
        "preds = network(images)\n",
        "loss = F.cross_entropy(preds, labels)\n",
        "loss.item(), get_num_correct(preds, labels)"
      ]
    },
    {
      "cell_type": "code",
      "execution_count": null,
      "metadata": {
        "colab": {
          "base_uri": "https://localhost:8080/"
        },
        "id": "ywS75ZQtLIBq",
        "outputId": "d808d5a2-ce27-4072-caa1-6f84e372196e"
      },
      "outputs": [
        {
          "name": "stdout",
          "output_type": "stream",
          "text": [
            "loss1: 2.292600393295288\n",
            "loss2: 2.251415729522705\n"
          ]
        }
      ],
      "source": [
        "network = Network()\n",
        "\n",
        "train_loader = torch.utils.data.DataLoader(train_set, batch_size=100)\n",
        "optimizer = optim.Adam(network.parameters(), lr=0.01)\n",
        "\n",
        "batch = next(iter(train_loader)) # Get Batch\n",
        "images, labels = batch\n",
        "\n",
        "preds = network(images) # Pass Batch\n",
        "loss = F.cross_entropy(preds, labels) # Calculate Loss\n",
        "\n",
        "loss.backward() # Calculate Gradients\n",
        "optimizer.step() # Update Weights\n",
        "\n",
        "print('loss1:', loss.item())\n",
        "preds = network(images)\n",
        "loss = F.cross_entropy(preds, labels)\n",
        "print('loss2:', loss.item())"
      ]
    },
    {
      "cell_type": "code",
      "execution_count": null,
      "metadata": {
        "colab": {
          "base_uri": "https://localhost:8080/"
        },
        "id": "51261xHbLT--",
        "outputId": "1c8bbc6a-de27-41e9-ad7d-79326bc80d2c"
      },
      "outputs": [
        {
          "name": "stdout",
          "output_type": "stream",
          "text": [
            "epoch: 0 total_correct: 47199 loss: 338.2010314166546\n"
          ]
        }
      ],
      "source": [
        "network = Network()\n",
        "\n",
        "train_loader = torch.utils.data.DataLoader(train_set, batch_size=100)\n",
        "optimizer = optim.Adam(network.parameters(), lr=0.01)\n",
        "\n",
        "total_loss = 0\n",
        "total_correct = 0\n",
        "\n",
        "for batch in train_loader: # Get Batch\n",
        "    images, labels = batch\n",
        "\n",
        "    preds = network(images) # Pass Batch\n",
        "    loss = F.cross_entropy(preds, labels) # Calculate Loss\n",
        "\n",
        "    optimizer.zero_grad()\n",
        "    loss.backward() # Calculate Gradients\n",
        "    optimizer.step() # Update Weights\n",
        "\n",
        "    total_loss += loss.item()\n",
        "    total_correct += get_num_correct(preds, labels)\n",
        "\n",
        "print(\n",
        "    \"epoch:\", 0,\n",
        "    \"total_correct:\", total_correct,\n",
        "    \"loss:\", total_loss\n",
        ")"
      ]
    },
    {
      "cell_type": "code",
      "execution_count": null,
      "metadata": {
        "colab": {
          "base_uri": "https://localhost:8080/"
        },
        "id": "3nh7Tpv7LbXr",
        "outputId": "ea3da94f-e0fe-4889-800a-7bb1c63037c8"
      },
      "outputs": [
        {
          "name": "stdout",
          "output_type": "stream",
          "text": [
            "epoch 0 total_correct: 51333 loss: 236.3329640328884\n",
            "epoch 1 total_correct: 51888 loss: 216.67925652861595\n",
            "epoch 2 total_correct: 52346 loss: 205.68030796945095\n",
            "epoch 3 total_correct: 52394 loss: 203.35893324017525\n",
            "epoch 4 total_correct: 52827 loss: 195.4632730782032\n",
            "epoch 5 total_correct: 52713 loss: 195.51717445254326\n",
            "epoch 6 total_correct: 53025 loss: 189.4264089539647\n",
            "epoch 7 total_correct: 52953 loss: 190.26087544858456\n",
            "epoch 8 total_correct: 53279 loss: 182.52321477234364\n",
            "epoch 9 total_correct: 53189 loss: 183.99722892045975\n"
          ]
        }
      ],
      "source": [
        "train_loader = torch.utils.data.DataLoader(train_set, batch_size=100)\n",
        "optimizer = optim.Adam(network.parameters(), lr=0.01)\n",
        "\n",
        "for epoch in range(10):\n",
        "\n",
        "    total_loss = 0\n",
        "    total_correct = 0\n",
        "\n",
        "    for batch in train_loader: # Get Batch\n",
        "        images, labels = batch\n",
        "\n",
        "        preds = network(images) # Pass Batch\n",
        "        loss = F.cross_entropy(preds, labels) # Calculate Loss\n",
        "\n",
        "        optimizer.zero_grad()\n",
        "        loss.backward() # Calculate Gradients\n",
        "        optimizer.step() # Update Weights\n",
        "\n",
        "        total_loss += loss.item()\n",
        "        total_correct += get_num_correct(preds, labels)\n",
        "\n",
        "    print(\n",
        "        \"epoch\", epoch,\n",
        "        \"total_correct:\", total_correct,\n",
        "        \"loss:\", total_loss\n",
        "    )"
      ]
    },
    {
      "cell_type": "code",
      "execution_count": null,
      "metadata": {
        "id": "Kr7tzIUtLh_r"
      },
      "outputs": [],
      "source": []
    }
  ],
  "metadata": {
    "accelerator": "GPU",
    "colab": {
      "gpuType": "T4",
      "provenance": []
    },
    "kernelspec": {
      "display_name": "Python 3",
      "name": "python3"
    },
    "language_info": {
      "name": "python"
    }
  },
  "nbformat": 4,
  "nbformat_minor": 0
}
