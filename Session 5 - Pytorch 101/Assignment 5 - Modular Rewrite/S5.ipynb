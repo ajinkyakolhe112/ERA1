{
 "cells": [
  {
   "cell_type": "code",
   "execution_count": 1,
   "id": "21f3f71c-fafc-4e99-989c-5ab1e7cb1eee",
   "metadata": {},
   "outputs": [],
   "source": [
    "import torch\n",
    "from torchvision import datasets,transforms\n",
    "import torch.optim as optim\n",
    "import torch.nn.functional as F"
   ]
  },
  {
   "cell_type": "code",
   "execution_count": 2,
   "id": "b4bf81f6-83a6-41c7-aa59-60d462570a8b",
   "metadata": {},
   "outputs": [
    {
     "name": "stdout",
     "output_type": "stream",
     "text": [
      "Executed when imported\n"
     ]
    }
   ],
   "source": [
    "from models import Net1\n",
    "\n",
    "import utils"
   ]
  },
  {
   "cell_type": "code",
   "execution_count": 3,
   "id": "22a5a7f3-7105-4cac-a8cc-231c2b02e5a8",
   "metadata": {},
   "outputs": [],
   "source": [
    "from torchvision import datasets, transforms\n",
    "import torch\n",
    "\n",
    "\"DataSet = MNIST -> DataSet Transforms -> DataLoader\"\n",
    "\n",
    "# Train data transformations\n",
    "train_transforms = transforms.Compose([\n",
    "\ttransforms.RandomApply([transforms.CenterCrop(22), ], p=0.1),\n",
    "\ttransforms.Resize((28, 28)),\n",
    "\ttransforms.RandomRotation((-15., 15.), fill=0),\n",
    "\ttransforms.ToTensor(),\n",
    "\ttransforms.Normalize((0.1307,), (0.3081,)),\n",
    "\t])\n",
    "\n",
    "# Test data transformations\n",
    "test_transforms = transforms.Compose([\n",
    "\ttransforms.RandomApply([transforms.CenterCrop(22), ], p=0.1),\n",
    "\ttransforms.Resize((28, 28)),\n",
    "\ttransforms.RandomRotation((-15., 15.), fill=0),\n",
    "\ttransforms.ToTensor(),\n",
    "\ttransforms.Normalize((0.1307,), (0.3081,)),\n",
    "\t])\n",
    "\n",
    "train_data = datasets.MNIST('../data', train=True, download=True, transform=train_transforms)\n",
    "test_data = datasets.MNIST('../data', train=False, download=True, transform=test_transforms)\n",
    "\n",
    "\n",
    "batch_size = 512\n",
    "kwargs = {'batch_size': batch_size, 'shuffle': True, 'num_workers': 2, 'pin_memory': True}\n",
    "\n",
    "test_loader = torch.utils.data.DataLoader(train_data, **kwargs)\n",
    "train_loader = torch.utils.data.DataLoader(train_data, **kwargs)"
   ]
  },
  {
   "cell_type": "code",
   "execution_count": 4,
   "id": "6cca404f",
   "metadata": {},
   "outputs": [
    {
     "data": {
      "text/plain": [
       "device(type='cpu')"
      ]
     },
     "execution_count": 4,
     "metadata": {},
     "output_type": "execute_result"
    }
   ],
   "source": [
    "use_cuda = torch.cuda.is_available()\n",
    "device = torch.device(\"cuda\" if use_cuda else \"cpu\")\n",
    "device"
   ]
  },
  {
   "cell_type": "code",
   "execution_count": 5,
   "id": "6a85175d",
   "metadata": {},
   "outputs": [],
   "source": [
    "device = torch.device(\"mps\")"
   ]
  },
  {
   "cell_type": "code",
   "execution_count": 6,
   "id": "9e266c22",
   "metadata": {},
   "outputs": [
    {
     "name": "stdout",
     "output_type": "stream",
     "text": [
      "Adjusting learning rate of group 0 to 1.0000e-02.\n",
      "Epoch 1\n"
     ]
    },
    {
     "name": "stderr",
     "output_type": "stream",
     "text": [
      "Batch No 117, Processed Images 60000, Batch Error Value 0.9838, Batch Accuracy Value 63.0000: 100%|██████████| 118/118 [01:37<00:00,  1.21it/s] \n"
     ]
    },
    {
     "name": "stdout",
     "output_type": "stream",
     "text": [
      "Adjusting learning rate of group 0 to 1.0000e-02.\n",
      "Epoch 2\n"
     ]
    },
    {
     "name": "stderr",
     "output_type": "stream",
     "text": [
      "Batch No 117, Processed Images 60000, Batch Error Value 0.1310, Batch Accuracy Value 91.0000: 100%|██████████| 118/118 [01:34<00:00,  1.25it/s] \n"
     ]
    },
    {
     "name": "stdout",
     "output_type": "stream",
     "text": [
      "Adjusting learning rate of group 0 to 1.0000e-02.\n",
      "Epoch 3\n"
     ]
    },
    {
     "name": "stderr",
     "output_type": "stream",
     "text": [
      "Batch No 117, Processed Images 60000, Batch Error Value 0.0427, Batch Accuracy Value 96.0000: 100%|██████████| 118/118 [01:34<00:00,  1.24it/s] \n"
     ]
    },
    {
     "name": "stdout",
     "output_type": "stream",
     "text": [
      "Adjusting learning rate of group 0 to 1.0000e-02.\n",
      "Epoch 4\n"
     ]
    },
    {
     "name": "stderr",
     "output_type": "stream",
     "text": [
      "Batch No 117, Processed Images 60000, Batch Error Value 0.0651, Batch Accuracy Value 95.0000: 100%|██████████| 118/118 [01:34<00:00,  1.25it/s] \n"
     ]
    },
    {
     "name": "stdout",
     "output_type": "stream",
     "text": [
      "Adjusting learning rate of group 0 to 1.0000e-02.\n",
      "Epoch 5\n"
     ]
    },
    {
     "name": "stderr",
     "output_type": "stream",
     "text": [
      "Batch No 117, Processed Images 60000, Batch Error Value 0.0616, Batch Accuracy Value 94.0000: 100%|██████████| 118/118 [01:33<00:00,  1.26it/s] \n"
     ]
    },
    {
     "name": "stdout",
     "output_type": "stream",
     "text": [
      "Adjusting learning rate of group 0 to 1.0000e-02.\n",
      "Epoch 6\n"
     ]
    },
    {
     "name": "stderr",
     "output_type": "stream",
     "text": [
      "Batch No 117, Processed Images 60000, Batch Error Value 0.0970, Batch Accuracy Value 94.0000: 100%|██████████| 118/118 [01:37<00:00,  1.21it/s] \n"
     ]
    },
    {
     "name": "stdout",
     "output_type": "stream",
     "text": [
      "Adjusting learning rate of group 0 to 1.0000e-02.\n",
      "Epoch 7\n"
     ]
    },
    {
     "name": "stderr",
     "output_type": "stream",
     "text": [
      "Batch No 117, Processed Images 60000, Batch Error Value 0.1603, Batch Accuracy Value 94.0000: 100%|██████████| 118/118 [01:36<00:00,  1.23it/s] \n"
     ]
    },
    {
     "name": "stdout",
     "output_type": "stream",
     "text": [
      "Adjusting learning rate of group 0 to 1.0000e-02.\n",
      "Epoch 8\n"
     ]
    },
    {
     "name": "stderr",
     "output_type": "stream",
     "text": [
      "Batch No 78, Processed Images 40448, Batch Error Value 0.0332, Batch Accuracy Value 506.0000:  67%|██████▋   | 79/118 [01:08<00:31,  1.25it/s]"
     ]
    }
   ],
   "source": [
    "model = Net1()\n",
    "errorFun = F.nll_loss\n",
    "\n",
    "optimizer = optim.SGD(model.parameters(), lr=0.01, momentum=0.9)\n",
    "scheduler = optim.lr_scheduler.StepLR(optimizer, step_size=15, gamma=0.1, verbose=True)\n",
    "num_epochs = 20\n",
    "\n",
    "for epoch in range(1, num_epochs+1):\n",
    "\tprint(f'Epoch {epoch}')\n",
    "\tutils.train(train_loader, model, errorFun ,optimizer, device, )\n",
    "\tscheduler.step()\n",
    "\n",
    "utils.test(model, device, test_loader,model,errorFun,device)"
   ]
  },
  {
   "cell_type": "code",
   "execution_count": null,
   "id": "da486904",
   "metadata": {},
   "outputs": [],
   "source": []
  }
 ],
 "metadata": {
  "kernelspec": {
   "display_name": "Python 3 (ipykernel)",
   "language": "python",
   "name": "python3"
  },
  "language_info": {
   "codemirror_mode": {
    "name": "ipython",
    "version": 3
   },
   "file_extension": ".py",
   "mimetype": "text/x-python",
   "name": "python",
   "nbconvert_exporter": "python",
   "pygments_lexer": "ipython3",
   "version": "3.9.13"
  }
 },
 "nbformat": 4,
 "nbformat_minor": 5
}
