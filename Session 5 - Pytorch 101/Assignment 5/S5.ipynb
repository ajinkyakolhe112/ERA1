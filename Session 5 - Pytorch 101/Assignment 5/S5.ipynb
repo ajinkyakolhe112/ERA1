{
 "cells": [
  {
   "cell_type": "code",
   "execution_count": 1,
   "id": "21f3f71c-fafc-4e99-989c-5ab1e7cb1eee",
   "metadata": {},
   "outputs": [],
   "source": [
    "import torch\n",
    "from torchvision import datasets,transforms"
   ]
  },
  {
   "cell_type": "code",
   "execution_count": 2,
   "id": "b4bf81f6-83a6-41c7-aa59-60d462570a8b",
   "metadata": {},
   "outputs": [
    {
     "name": "stderr",
     "output_type": "stream",
     "text": [
      "[W NNPACK.cpp:53] Could not initialize NNPACK! Reason: Unsupported hardware.\n"
     ]
    }
   ],
   "source": [
    "import models \n",
    "\n",
    "import utils"
   ]
  },
  {
   "cell_type": "code",
   "execution_count": 3,
   "id": "22a5a7f3-7105-4cac-a8cc-231c2b02e5a8",
   "metadata": {},
   "outputs": [],
   "source": [
    "from torchvision import datasets, transforms\n",
    "import torch\n",
    "\n",
    "\"DataSet = MNIST -> DataSet Transforms -> DataLoader\"\n",
    "\n",
    "# Train data transformations\n",
    "train_transforms = transforms.Compose([\n",
    "\ttransforms.RandomApply([transforms.CenterCrop(22), ], p=0.1),\n",
    "\ttransforms.Resize((28, 28)),\n",
    "\ttransforms.RandomRotation((-15., 15.), fill=0),\n",
    "\ttransforms.ToTensor(),\n",
    "\ttransforms.Normalize((0.1307,), (0.3081,)),\n",
    "\t])\n",
    "\n",
    "# Test data transformations\n",
    "test_transforms = transforms.Compose([\n",
    "\ttransforms.RandomApply([transforms.CenterCrop(22), ], p=0.1),\n",
    "\ttransforms.Resize((28, 28)),\n",
    "\ttransforms.RandomRotation((-15., 15.), fill=0),\n",
    "\ttransforms.ToTensor(),\n",
    "\ttransforms.Normalize((0.1307,), (0.3081,)),\n",
    "\t])\n",
    "\n",
    "train_data = datasets.MNIST('../data', train=True, download=True, transform=train_transforms)\n",
    "test_data = datasets.MNIST('../data', train=False, download=True, transform=test_transforms)\n",
    "\n",
    "\n",
    "batch_size = 512\n",
    "kwargs = {'batch_size': batch_size, 'shuffle': True, 'num_workers': 2, 'pin_memory': True}\n",
    "\n",
    "test_loader = torch.utils.data.DataLoader(train_data, **kwargs)\n",
    "train_loader = torch.utils.data.DataLoader(train_data, **kwargs)"
   ]
  }
 ],
 "metadata": {
  "kernelspec": {
   "display_name": "Python 3 (ipykernel)",
   "language": "python",
   "name": "python3"
  },
  "language_info": {
   "codemirror_mode": {
    "name": "ipython",
    "version": 3
   },
   "file_extension": ".py",
   "mimetype": "text/x-python",
   "name": "python",
   "nbconvert_exporter": "python",
   "pygments_lexer": "ipython3",
   "version": "3.9.13"
  }
 },
 "nbformat": 4,
 "nbformat_minor": 5
}
