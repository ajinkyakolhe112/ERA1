{
 "cells": [
  {
   "cell_type": "code",
   "execution_count": 3,
   "metadata": {},
   "outputs": [],
   "source": [
    "from src.dataset_loader import *\n",
    "from src.model_architecture import *\n",
    "from src.train_test import *\n",
    "\n",
    "%load_ext autoreload\n",
    "%autoreload 2\n",
    "# %autoreload 0. disables autoloading. 2 enables autoreload ALL"
   ]
  },
  {
   "cell_type": "code",
   "execution_count": 4,
   "metadata": {},
   "outputs": [],
   "source": [
    "train_loader,test_loader\n",
    "BATCH_SIZE = train_loader.batch_size\n",
    "\n",
    "model = S7_Baseline()\n",
    "\n",
    "error_func = nn.functional.nll_loss # function is in nn.functional\n",
    "metrics = CustomMetrics()\n",
    "\n",
    "# optimizer what? & how\n",
    "optimizer = torch.optim.SGD(params = model.parameters(), lr = 0.1 )"
   ]
  },
  {
   "cell_type": "code",
   "execution_count": null,
   "metadata": {},
   "outputs": [],
   "source": [
    "train_model(train_loader, model, error_func, optimizer, metrics)"
   ]
  },
  {
   "cell_type": "code",
   "execution_count": null,
   "metadata": {},
   "outputs": [],
   "source": [
    "vars(metrics)"
   ]
  },
  {
   "cell_type": "code",
   "execution_count": null,
   "metadata": {},
   "outputs": [],
   "source": [
    "test_model(test_loader,model,error_func, metrics)"
   ]
  },
  {
   "cell_type": "code",
   "execution_count": null,
   "metadata": {},
   "outputs": [],
   "source": [
    "plot_train_test_loss"
   ]
  },
  {
   "cell_type": "code",
   "execution_count": null,
   "metadata": {},
   "outputs": [],
   "source": [
    "# TODO: Testing S9 Model with S7 train_test.py\n",
    "class S9_Baseline(nn.Module):\n",
    "\tdef __init__(m):\n",
    "\t\tsuper().__init__()\n",
    "\t\tm.block1 = nn.ModuleDict({\n",
    "\t\t\t\"conv1\": nn.Conv2d(1,10,(7,7)),\n",
    "\t\t\t\"relu\": RELU()\n",
    "\n",
    "\t\t})\n",
    "\t\tm.block2 = nn.ModuleDict({\n",
    "\t\t\t\"conv1\": nn.Conv2d(10,10,(8,8)),\n",
    "\t\t\t\"relu\": RELU()\n",
    "\n",
    "\t\t})\n",
    "\t\tm.block3 = nn.ModuleDict({\n",
    "\t\t\t\"conv1\": nn.Conv2d(10,10,(8,8)),\n",
    "\t\t\t\"relu\": RELU()\n",
    "\n",
    "\t\t})\n",
    "\t\tm.block4 = nn.ModuleDict({\n",
    "\t\t\t\"conv1\": nn.Conv2d(10,32,(8,8)),\n",
    "\t\t\t\"relu\": RELU()\n",
    "\n",
    "\t\t})\n",
    "\t\tm.fc1 = nn.Linear(32,50)\n",
    "\t\tm.fc2 = nn.Linear(50,10)\n",
    "\t\tm.log_softmax = nn.functional.log_softmax\n",
    "\n",
    "\tdef forward(m,input_batch):\n",
    "\t\tb1,b2,b3,b4 = m.block1,m.block2,m.block3,m.block4\n",
    "\t\tb1_output = b1.relu(b1.conv1(input_batch))\n",
    "\n",
    "\t\tb2_output = b2.relu(b2.conv1(b1_output))\n",
    "\n",
    "\t\tb3_output = b3.relu(b3.conv1(b2_output))\n",
    "\n",
    "\t\tb4_output = b4.relu(b4.conv1(b3_output))\n",
    "\n",
    "\t\tb4_output = b4_output.view(-1,32*1*1) # ! Didn't assign back before\n",
    "\n",
    "\t\tfeature_map = m.fc1(b4_output)\n",
    "\t\toutput_classes_neurons = m.fc2(feature_map)\n",
    "\t\toutput = m.log_softmax(output_classes_neurons, dim=1)\n",
    "\n",
    "\t\t# output.shape = torch.Size([B, 10])\n",
    "\t\treturn output\n",
    "\n",
    "model_s9 = S9_Baseline()\n",
    "optimizer = torch.optim.SGD(params = model_s9.parameters(), lr = 0.1 )\n",
    "\n",
    "error_func = nn.functional.nll_loss # function is in nn.functional\n",
    "metrics = CustomMetrics()\n",
    "\n",
    "train_model(train_loader, model_s9, error_func, optimizer, metrics)"
   ]
  },
  {
   "cell_type": "code",
   "execution_count": null,
   "metadata": {},
   "outputs": [],
   "source": []
  }
 ],
 "metadata": {
  "kernelspec": {
   "display_name": "base",
   "language": "python",
   "name": "python3"
  },
  "language_info": {
   "codemirror_mode": {
    "name": "ipython",
    "version": 3
   },
   "file_extension": ".py",
   "mimetype": "text/x-python",
   "name": "python",
   "nbconvert_exporter": "python",
   "pygments_lexer": "ipython3",
   "version": "3.9.13"
  },
  "orig_nbformat": 4
 },
 "nbformat": 4,
 "nbformat_minor": 2
}
