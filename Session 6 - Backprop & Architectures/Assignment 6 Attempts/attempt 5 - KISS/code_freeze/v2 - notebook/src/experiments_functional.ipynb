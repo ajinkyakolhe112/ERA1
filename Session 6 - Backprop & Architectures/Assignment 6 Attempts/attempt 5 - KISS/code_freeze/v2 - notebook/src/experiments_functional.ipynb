{
 "cells": [
  {
   "cell_type": "code",
   "execution_count": 13,
   "metadata": {},
   "outputs": [],
   "source": [
    "import torch\n",
    "import torch.nn as nn\n",
    "from tqdm import tqdm\n",
    "import matplotlib.pyplot as plt\n",
    "\n"
   ]
  },
  {
   "cell_type": "code",
   "execution_count": 21,
   "metadata": {},
   "outputs": [],
   "source": [
    "import importlib\n",
    "\n",
    "import utils\n",
    "import models.model_1 as model_1\n",
    "\n",
    "importlib.reload(utils)\n",
    "importlib.reload(model_1)\n",
    "\n",
    "from utils import get_data, train, test\n",
    "from models.model_1 import get_model"
   ]
  },
  {
   "cell_type": "code",
   "execution_count": 22,
   "metadata": {},
   "outputs": [],
   "source": [
    "BATCH_SIZE = 64\n",
    "num_classes = 10\n",
    "LR = 0.01\n",
    "NUM_EPOCHS = 10\n",
    "DEVICE = torch.device('cuda' if torch.cuda.is_available() else 'cpu')\n",
    "\n",
    "# Data to plot accuracy and loss graphs\n",
    "train_losses = [None]*NUM_EPOCHS\n",
    "train_accuracy = [None]*NUM_EPOCHS\n",
    "\n",
    "test_losses = [None]*NUM_EPOCHS\n",
    "test_accuracy = [None]*NUM_EPOCHS"
   ]
  },
  {
   "cell_type": "code",
   "execution_count": 23,
   "metadata": {},
   "outputs": [],
   "source": [
    "transforms, train_dataset,test_dataset,train_loader,test_loader = get_data(BATCH_SIZE)"
   ]
  },
  {
   "cell_type": "code",
   "execution_count": 24,
   "metadata": {},
   "outputs": [
    {
     "data": {
      "text/plain": [
       "64"
      ]
     },
     "execution_count": 24,
     "metadata": {},
     "output_type": "execute_result"
    }
   ],
   "source": [
    "train_loader.batch_size"
   ]
  },
  {
   "cell_type": "code",
   "execution_count": 25,
   "metadata": {},
   "outputs": [],
   "source": [
    "model = get_model()"
   ]
  },
  {
   "cell_type": "code",
   "execution_count": 26,
   "metadata": {},
   "outputs": [
    {
     "data": {
      "text/plain": [
       "Sequential(\n",
       "  (0): Conv2d(1, 32, kernel_size=(3, 3), stride=(1, 1), padding=(1, 1))\n",
       "  (1): ReLU()\n",
       "  (2): Conv2d(32, 32, kernel_size=(3, 3), stride=(1, 1), padding=(1, 1))\n",
       "  (3): MaxPool2d(kernel_size=(2, 2), stride=2, padding=0, dilation=1, ceil_mode=False)\n",
       "  (4): Conv2d(32, 32, kernel_size=(3, 3), stride=(1, 1), padding=(1, 1))\n",
       "  (5): Conv2d(32, 32, kernel_size=(3, 3), stride=(1, 1), padding=(1, 1))\n",
       "  (6): MaxPool2d(kernel_size=(2, 2), stride=2, padding=0, dilation=1, ceil_mode=False)\n",
       "  (7): Conv2d(32, 32, kernel_size=(3, 3), stride=(1, 1))\n",
       "  (8): Conv2d(32, 32, kernel_size=(3, 3), stride=(1, 1))\n",
       "  (9): Conv2d(32, 10, kernel_size=(3, 3), stride=(1, 1))\n",
       "  (10): reshape()\n",
       "  (11): LogSoftmax(dim=1)\n",
       ")"
      ]
     },
     "execution_count": 26,
     "metadata": {},
     "output_type": "execute_result"
    }
   ],
   "source": [
    "model"
   ]
  },
  {
   "cell_type": "code",
   "execution_count": 27,
   "metadata": {},
   "outputs": [],
   "source": [
    "\n",
    "error_func = torch.nn.functional.nll_loss\n",
    "optimizer = torch.optim.Adam(model.parameters(), lr=LR)\n"
   ]
  },
  {
   "cell_type": "code",
   "execution_count": 30,
   "metadata": {},
   "outputs": [
    {
     "name": "stdout",
     "output_type": "stream",
     "text": [
      "epoch no=  1\n"
     ]
    },
    {
     "name": "stderr",
     "output_type": "stream",
     "text": [
      "Train: Epoch 1, Batch= 102, Batch Error Value = 0.178524, Batch Pred Acc = 95.312500:  11%|█         | 101/938 [00:06<01:00, 13.88it/s] "
     ]
    },
    {
     "name": "stdout",
     "output_type": "stream",
     "text": [
      "Train: Epoch 1, Batch 100, Error Value = 0.015645, Pred_Acc = 100.000000\n"
     ]
    },
    {
     "name": "stderr",
     "output_type": "stream",
     "text": [
      "Train: Epoch 1, Batch= 203, Batch Error Value = 0.124020, Batch Pred Acc = 96.875000:  22%|██▏       | 203/938 [00:12<00:44, 16.65it/s] "
     ]
    },
    {
     "name": "stdout",
     "output_type": "stream",
     "text": [
      "Train: Epoch 1, Batch 200, Error Value = 0.064197, Pred_Acc = 96.875000\n"
     ]
    },
    {
     "name": "stderr",
     "output_type": "stream",
     "text": [
      "Train: Epoch 1, Batch= 303, Batch Error Value = 0.070065, Batch Pred Acc = 98.437500:  32%|███▏      | 303/938 [00:18<00:40, 15.68it/s] "
     ]
    },
    {
     "name": "stdout",
     "output_type": "stream",
     "text": [
      "Train: Epoch 1, Batch 300, Error Value = 0.117994, Pred_Acc = 95.312500\n"
     ]
    },
    {
     "name": "stderr",
     "output_type": "stream",
     "text": [
      "Train: Epoch 1, Batch= 403, Batch Error Value = 0.045452, Batch Pred Acc = 96.875000:  43%|████▎     | 403/938 [00:25<00:32, 16.48it/s] "
     ]
    },
    {
     "name": "stdout",
     "output_type": "stream",
     "text": [
      "Train: Epoch 1, Batch 400, Error Value = 0.021433, Pred_Acc = 98.437500\n"
     ]
    },
    {
     "name": "stderr",
     "output_type": "stream",
     "text": [
      "Train: Epoch 1, Batch= 503, Batch Error Value = 0.090865, Batch Pred Acc = 95.312500:  54%|█████▎    | 503/938 [00:31<00:26, 16.35it/s] "
     ]
    },
    {
     "name": "stdout",
     "output_type": "stream",
     "text": [
      "Train: Epoch 1, Batch 500, Error Value = 0.114580, Pred_Acc = 98.437500\n"
     ]
    },
    {
     "name": "stderr",
     "output_type": "stream",
     "text": [
      "Train: Epoch 1, Batch= 603, Batch Error Value = 0.050487, Batch Pred Acc = 98.437500:  64%|██████▍   | 603/938 [00:37<00:20, 16.73it/s] "
     ]
    },
    {
     "name": "stdout",
     "output_type": "stream",
     "text": [
      "Train: Epoch 1, Batch 600, Error Value = 0.076286, Pred_Acc = 95.312500\n"
     ]
    },
    {
     "name": "stderr",
     "output_type": "stream",
     "text": [
      "Train: Epoch 1, Batch= 703, Batch Error Value = 0.227614, Batch Pred Acc = 95.312500:  75%|███████▍  | 703/938 [00:43<00:14, 16.62it/s] "
     ]
    },
    {
     "name": "stdout",
     "output_type": "stream",
     "text": [
      "Train: Epoch 1, Batch 700, Error Value = 0.056786, Pred_Acc = 95.312500\n"
     ]
    },
    {
     "name": "stderr",
     "output_type": "stream",
     "text": [
      "Train: Epoch 1, Batch= 803, Batch Error Value = 0.193760, Batch Pred Acc = 95.312500:  86%|████████▌ | 803/938 [00:49<00:08, 16.77it/s] "
     ]
    },
    {
     "name": "stdout",
     "output_type": "stream",
     "text": [
      "Train: Epoch 1, Batch 800, Error Value = 0.033453, Pred_Acc = 100.000000\n"
     ]
    },
    {
     "name": "stderr",
     "output_type": "stream",
     "text": [
      "Train: Epoch 1, Batch= 903, Batch Error Value = 0.067894, Batch Pred Acc = 96.875000:  96%|█████████▋| 903/938 [00:56<00:02, 15.45it/s] "
     ]
    },
    {
     "name": "stdout",
     "output_type": "stream",
     "text": [
      "Train: Epoch 1, Batch 900, Error Value = 0.065527, Pred_Acc = 98.437500\n"
     ]
    },
    {
     "name": "stderr",
     "output_type": "stream",
     "text": [
      "Train: Epoch 1, Batch= 938, Batch Error Value = 0.159721, Batch Pred Acc = 48.437500: 100%|██████████| 938/938 [00:58<00:00, 16.04it/s] \n"
     ]
    },
    {
     "ename": "NameError",
     "evalue": "name 'train_losses' is not defined",
     "output_type": "error",
     "traceback": [
      "\u001b[0;31m---------------------------------------------------------------------------\u001b[0m",
      "\u001b[0;31mNameError\u001b[0m                                 Traceback (most recent call last)",
      "Cell \u001b[0;32mIn[30], line 3\u001b[0m\n\u001b[1;32m      1\u001b[0m \u001b[39mfor\u001b[39;00m epoch \u001b[39min\u001b[39;00m \u001b[39mrange\u001b[39m(NUM_EPOCHS):\n\u001b[1;32m      2\u001b[0m \t\u001b[39mprint\u001b[39m(\u001b[39m\"\u001b[39m\u001b[39mepoch no= \u001b[39m\u001b[39m\"\u001b[39m,epoch\u001b[39m+\u001b[39m\u001b[39m1\u001b[39m)\n\u001b[0;32m----> 3\u001b[0m \ttrain(train_loader, model, error_func, optimizer,epoch)\n\u001b[1;32m      4\u001b[0m \ttest(train_loader, model, error_func,epoch)\n",
      "File \u001b[0;32m~/Documents/Visual Studio Code/ERA1/Session 6 - Backprop & Architectures/attempt 5 - KISS/src/utils.py:60\u001b[0m, in \u001b[0;36mtrain\u001b[0;34m(train_loader, model, error_func, optimizer, epoch_no, device)\u001b[0m\n\u001b[1;32m     58\u001b[0m \t\u001b[39mif\u001b[39;00m (b_id \u001b[39m+\u001b[39m \u001b[39m1\u001b[39m) \u001b[39m%\u001b[39m \u001b[39m100\u001b[39m \u001b[39m==\u001b[39m \u001b[39m0\u001b[39m:\n\u001b[1;32m     59\u001b[0m \t\t\u001b[39mprint\u001b[39m(\u001b[39m\"\u001b[39m\u001b[39mTrain: Epoch \u001b[39m\u001b[39m%d\u001b[39;00m\u001b[39m, Batch \u001b[39m\u001b[39m%d\u001b[39;00m\u001b[39m, Error Value = \u001b[39m\u001b[39m%f\u001b[39;00m\u001b[39m, Pred_Acc = \u001b[39m\u001b[39m%f\u001b[39;00m\u001b[39m\"\u001b[39m \u001b[39m%\u001b[39m (epoch_no\u001b[39m+\u001b[39m\u001b[39m1\u001b[39m,b_id\u001b[39m+\u001b[39m\u001b[39m1\u001b[39m, train_loss_batch\u001b[39m.\u001b[39mitem(), train_accuracy_batch))\n\u001b[0;32m---> 60\u001b[0m train_losses[epoch_no] \u001b[39m=\u001b[39m train_loss_total \u001b[39m/\u001b[39m \u001b[39mlen\u001b[39m(train_loader)\n\u001b[1;32m     61\u001b[0m train_accuracy[epoch_no] \u001b[39m=\u001b[39m \u001b[39m100.0\u001b[39m \u001b[39m*\u001b[39m correct_preds_total \u001b[39m/\u001b[39m \u001b[39mlen\u001b[39m(train_loader)\n",
      "\u001b[0;31mNameError\u001b[0m: name 'train_losses' is not defined"
     ]
    }
   ],
   "source": [
    "for epoch in range(NUM_EPOCHS):\n",
    "\tprint(\"epoch no= \",epoch+1)\n",
    "\ttrain(train_loader, model, error_func, optimizer,epoch)\n",
    "\ttest(train_loader, model, error_func,epoch)"
   ]
  },
  {
   "cell_type": "code",
   "execution_count": null,
   "metadata": {},
   "outputs": [],
   "source": [
    "fig, axs = plt.subplots(2,2,figsize=(15,10))\n",
    "axs[0, 0].plot(train_losses)\n",
    "axs[0, 0].set_title(\"Training Loss\")\n",
    "axs[1, 0].plot(train_accuracy)\n",
    "axs[1, 0].set_title(\"Training Accuracy\")\n",
    "axs[0, 1].plot(test_losses)\n",
    "axs[0, 1].set_title(\"Test Loss\")\n",
    "axs[1, 1].plot(test_accuracy)\n",
    "axs[1, 1].set_title(\"Test Accuracy\")"
   ]
  },
  {
   "cell_type": "code",
   "execution_count": 1,
   "metadata": {},
   "outputs": [
    {
     "ename": "NameError",
     "evalue": "name 'train_loader' is not defined",
     "output_type": "error",
     "traceback": [
      "\u001b[0;31m---------------------------------------------------------------------------\u001b[0m",
      "\u001b[0;31mNameError\u001b[0m                                 Traceback (most recent call last)",
      "Cell \u001b[0;32mIn[1], line 1\u001b[0m\n\u001b[0;32m----> 1\u001b[0m train_loader\n",
      "\u001b[0;31mNameError\u001b[0m: name 'train_loader' is not defined"
     ]
    }
   ],
   "source": [
    "train_loader"
   ]
  },
  {
   "cell_type": "code",
   "execution_count": null,
   "metadata": {},
   "outputs": [],
   "source": []
  }
 ],
 "metadata": {
  "kernelspec": {
   "display_name": "base",
   "language": "python",
   "name": "python3"
  },
  "language_info": {
   "codemirror_mode": {
    "name": "ipython",
    "version": 3
   },
   "file_extension": ".py",
   "mimetype": "text/x-python",
   "name": "python",
   "nbconvert_exporter": "python",
   "pygments_lexer": "ipython3",
   "version": "3.9.13"
  },
  "orig_nbformat": 4
 },
 "nbformat": 4,
 "nbformat_minor": 2
}
