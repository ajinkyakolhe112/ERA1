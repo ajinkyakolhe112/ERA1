{
 "cells": [
  {
   "attachments": {},
   "cell_type": "markdown",
   "metadata": {},
   "source": [
    "### Notebook Initialization"
   ]
  },
  {
   "cell_type": "code",
   "execution_count": 2,
   "metadata": {},
   "outputs": [],
   "source": [
    "#%%\n",
    "import torch\n",
    "import torch.nn as nn\n",
    "import torchvision\n",
    "import torchvision.transforms as transforms\n",
    "import matplotlib.pyplot as plt\n",
    "from tqdm import tqdm\n",
    "from torchinfo import summary\n",
    "\n",
    "BATCH_SIZE = 64\n",
    "num_classes = 10\n",
    "LR = 0.01\n",
    "NUM_EPOCHS = 10\n",
    "DEVICE = torch.device('cuda' if torch.cuda.is_available() else 'cpu')\n",
    "\n",
    "# Data to plot accuracy and loss graphs\n",
    "train_losses = [None]*NUM_EPOCHS\n",
    "train_accuracy = [None]*NUM_EPOCHS\n",
    "\n",
    "test_losses = [None]*NUM_EPOCHS\n",
    "test_accuracy = [None]*NUM_EPOCHS\n",
    "\n"
   ]
  },
  {
   "attachments": {},
   "cell_type": "markdown",
   "metadata": {},
   "source": [
    "### Data"
   ]
  },
  {
   "cell_type": "code",
   "execution_count": 3,
   "metadata": {},
   "outputs": [
    {
     "data": {
      "image/png": "[encoded data removed]",
      "text/plain": [
       "<Figure size 640x480 with 12 Axes>"
      ]
     },
     "metadata": {},
     "output_type": "display_data"
    }
   ],
   "source": [
    "#%%\n",
    "train_dataset = torchvision.datasets.MNIST(root = './data',train = True,transform = transforms.Compose([transforms.ToTensor(),transforms.Normalize(mean = (0.1307,), std = (0.3081,))]), download = True)\n",
    "test_dataset = torchvision.datasets.MNIST(root = './data',train = False,transform = transforms.Compose([transforms.ToTensor(),transforms.Normalize(mean = (0.1325,), std = (0.3105,))]),download=True)\n",
    "\n",
    "train_loader = torch.utils.data.DataLoader(dataset = train_dataset,batch_size = BATCH_SIZE,shuffle = True)\n",
    "test_loader = torch.utils.data.DataLoader(dataset = test_dataset,batch_size = BATCH_SIZE,shuffle = True)\n",
    "\n",
    "batch_data, batch_label = next(iter(train_loader)) \n",
    "\n",
    "fig = plt.figure()\n",
    "\n",
    "for i in range(12):\n",
    "  plt.subplot(3,4,i+1)\n",
    "  plt.tight_layout()\n",
    "  plt.imshow(batch_data[i].squeeze(0), cmap='gray')\n",
    "  plt.title(batch_label[i].item())\n",
    "  plt.xticks([])\n",
    "  plt.yticks([])"
   ]
  },
  {
   "attachments": {},
   "cell_type": "markdown",
   "metadata": {},
   "source": [
    "## Model"
   ]
  },
  {
   "cell_type": "code",
   "execution_count": 4,
   "metadata": {},
   "outputs": [],
   "source": [
    "#%%\n",
    "class reshape(nn.Module):\n",
    "\tdef __init__(self, pixels):\n",
    "\t\tsuper().__init__()\n",
    "\t\tself.pixels = pixels\n",
    "\t\t\n",
    "\tdef forward(self, x):\n",
    "\t\tx = x.view(-1, self.pixels)\n",
    "\t\treturn x\n",
    "\t\n",
    "container = {\n",
    "\t\"conv1\": nn.Conv2d(1, 32, (3, 3), 1, 1),\n",
    "\t\"relu\": nn.ReLU(),\n",
    "\t\"conv2\": nn.Conv2d(32, 32, (3, 3), 1, 1),\n",
    "\t\"relu\": nn.ReLU(),\n",
    "\t\n",
    "\t\"pool1\": nn.MaxPool2d((2, 2), 2, 0),\n",
    "\t\"conv3\": nn.Conv2d(32, 32, (3, 3), 1, 1),\n",
    "\t\"relu\": nn.ReLU(),\n",
    "\t\"conv4\": nn.Conv2d(32, 32, (3, 3), 1, 1),\n",
    "\t\"relu\": nn.ReLU(),\n",
    "\t\"pool2\": nn.MaxPool2d((2, 2), 2, 0),\n",
    "\t\n",
    "\t\"conv5\": nn.Conv2d(32, 32, (3, 3), 1, 0),\n",
    "\t\"relu\": nn.ReLU(),\n",
    "\t\n",
    "\t\"conv6\": nn.Conv2d(32, 32, (3, 3), 1, 0),\n",
    "\t\"relu\": nn.ReLU(),\n",
    "\t\n",
    "\t\"conv7\": nn.Conv2d(32, 10, 3),\n",
    "\t\n",
    "\t\"reshaper\": reshape(10),\n",
    "\t\"log_softmax\": nn.LogSoftmax(dim=1),\n",
    "}"
   ]
  },
  {
   "attachments": {},
   "cell_type": "markdown",
   "metadata": {},
   "source": [
    "## Train & Test Loop"
   ]
  },
  {
   "cell_type": "code",
   "execution_count": 9,
   "metadata": {},
   "outputs": [],
   "source": [
    "#%%\n",
    "def train(train_loader, model, error_func, optimizer, epoch_no, device=None):\n",
    "\t\n",
    "\tmodel.to(device)\n",
    "\tpbar = tqdm(train_loader)\n",
    "\t\n",
    "\ttrain_loss_total = 0\n",
    "\tcorrect_preds_total = 0\n",
    "\tfor b_id, (images, labels) in enumerate(pbar):\n",
    "\t\timages,labels = images.to(device), labels.to(device)\n",
    "\t\t\n",
    "\t\t#Forward pass\n",
    "\t\toutputs = model(images)\n",
    "\t\terror_batch = error_func(outputs, labels,reduction='mean')\n",
    "\t\t\n",
    "\t\t# Backward and optimize\n",
    "\t\toptimizer.zero_grad()\n",
    "\t\terror_batch.backward()\n",
    "\t\toptimizer.step()\n",
    "\t\t\n",
    "\t\tpred_labels = outputs.argmax(dim=1, keepdim=True).squeeze()\n",
    "\t\tcorrect_preds_batch = torch.eq(pred_labels, labels).sum().item()\n",
    "\t\taccuracy_batch = 100.0 * correct_preds_batch / BATCH_SIZE\n",
    "\t\tpbar.set_description(\"Epoch %d, Batch= %d, Batch Error Value = %f, Batch Pred Acc = %f\" % (epoch+1,b_id+1, error_batch.item(), accuracy_batch))\n",
    "\t\tcorrect_preds_total = correct_preds_total + correct_preds_batch\n",
    "\t\ttrain_loss_total = error_batch.item()\n",
    "\t\tif (b_id + 1) % 100 == 0:\n",
    "\t\t\tprint(\"Epoch %d, Batch %d, Error Value = %f, Pred_Acc = %f\" % (epoch+1,b_id+1, error_batch.item(), accuracy_batch))\n",
    "\ttrain_losses[epoch_no] = train_loss_total / len(train_loader)\n",
    "\ttrain_accuracy[epoch_no] = 100.0 * correct_preds_total / len(train_loader)\n",
    "\tprint(\"Epoch %d, Final Accuracy of the network %f\" % (epoch +1 , train_accuracy[epoch_no]))\n",
    "\n",
    "def test(test_loader, model, error_func,epoch, device=None):\n",
    "\ttorch.set_grad_enabled(False)\n",
    "\t\n",
    "\ttest_loss_total = 0\n",
    "\tcorrect_preds_total = 0\n",
    "\tpbar = tqdm(test_loader)\n",
    "\tfor b_id,(images, labels) in enumerate(pbar):\n",
    "\t\timages,labels = images.to(device), labels.to(device)\n",
    "\t\t\n",
    "\t\toutputs = model(images)\n",
    "\t\terror_batch = error_func(outputs, labels, reduction='mean')\n",
    "\t\t\n",
    "\t\tpred_labels = outputs.argmax(dim=1, keepdim=True).squeeze()\n",
    "\t\tcorrect_preds = torch.eq(pred_labels, labels).sum().item()\n",
    "\t\taccuracy_batch = correct_preds / BATCH_SIZE * 100\n",
    "\t\t\n",
    "\t\ttest_loss_total = test_loss_total + error_batch.item()\n",
    "\t\tcorrect_preds_total += correct_preds\n",
    "\t\t\n",
    "\t\tpbar.set_description(\"Epoch %d, Batch= %d, Error Value = %f, Pred Acc = %f\" % (epoch+1, b_id+1, error_batch.item(), accuracy_batch))\n",
    "\t\tif (b_id + 1) % 100 == 0:\n",
    "\t\t\tprint(\"Epoch %d, Batch %d, Error Value = %f, Pred_Acc = %f\" % (epoch+1,b_id+1, error_batch.item(), accuracy_batch))\n",
    "\ttest_losses[epoch] = test_loss_total / len(train_loader)\n",
    "\ttest_accuracy[epoch] = 100.0 * correct_preds_total / len(test_loader)\n",
    "\tprint(\"Epoch %d, Final Accuracy of the network %f\" % (epoch +1 , 100.0 * correct_preds_total / len(test_loader)))\n",
    "\ttorch.set_grad_enabled(True)\n",
    "\n"
   ]
  },
  {
   "attachments": {},
   "cell_type": "markdown",
   "metadata": {},
   "source": [
    "## **Model Training**"
   ]
  },
  {
   "cell_type": "code",
   "execution_count": 10,
   "metadata": {},
   "outputs": [
    {
     "name": "stdout",
     "output_type": "stream",
     "text": [
      "epoch no=  1\n"
     ]
    },
    {
     "name": "stderr",
     "output_type": "stream",
     "text": [
      "Epoch 1, Batch= 103, Batch Error Value = 1.271208, Batch Pred Acc = 62.500000:  11%|█         | 102/938 [00:05<00:48, 17.16it/s]"
     ]
    },
    {
     "name": "stdout",
     "output_type": "stream",
     "text": [
      "Epoch 1, Batch 100, Error Value = 1.572333, Pred_Acc = 51.562500\n"
     ]
    },
    {
     "name": "stderr",
     "output_type": "stream",
     "text": [
      "Epoch 1, Batch= 203, Batch Error Value = 0.411178, Batch Pred Acc = 87.500000:  22%|██▏       | 202/938 [00:11<00:43, 16.99it/s]"
     ]
    },
    {
     "name": "stdout",
     "output_type": "stream",
     "text": [
      "Epoch 1, Batch 200, Error Value = 0.438838, Pred_Acc = 84.375000\n"
     ]
    },
    {
     "name": "stderr",
     "output_type": "stream",
     "text": [
      "Epoch 1, Batch= 303, Batch Error Value = 0.170074, Batch Pred Acc = 95.312500:  32%|███▏      | 302/938 [00:17<00:36, 17.63it/s]"
     ]
    },
    {
     "name": "stdout",
     "output_type": "stream",
     "text": [
      "Epoch 1, Batch 300, Error Value = 0.150293, Pred_Acc = 95.312500\n"
     ]
    },
    {
     "name": "stderr",
     "output_type": "stream",
     "text": [
      "Epoch 1, Batch= 403, Batch Error Value = 0.443028, Batch Pred Acc = 93.750000:  43%|████▎     | 402/938 [00:23<00:30, 17.58it/s] "
     ]
    },
    {
     "name": "stdout",
     "output_type": "stream",
     "text": [
      "Epoch 1, Batch 400, Error Value = 0.089265, Pred_Acc = 95.312500\n"
     ]
    },
    {
     "name": "stderr",
     "output_type": "stream",
     "text": [
      "Epoch 1, Batch= 503, Batch Error Value = 0.121186, Batch Pred Acc = 96.875000:  54%|█████▎    | 502/938 [00:28<00:24, 17.72it/s] "
     ]
    },
    {
     "name": "stdout",
     "output_type": "stream",
     "text": [
      "Epoch 1, Batch 500, Error Value = 0.133406, Pred_Acc = 92.187500\n"
     ]
    },
    {
     "name": "stderr",
     "output_type": "stream",
     "text": [
      "Epoch 1, Batch= 603, Batch Error Value = 0.213365, Batch Pred Acc = 92.187500:  64%|██████▍   | 602/938 [00:34<00:18, 17.69it/s] "
     ]
    },
    {
     "name": "stdout",
     "output_type": "stream",
     "text": [
      "Epoch 1, Batch 600, Error Value = 0.095269, Pred_Acc = 95.312500\n"
     ]
    },
    {
     "name": "stderr",
     "output_type": "stream",
     "text": [
      "Epoch 1, Batch= 703, Batch Error Value = 0.102966, Batch Pred Acc = 95.312500:  75%|███████▍  | 702/938 [00:40<00:13, 17.56it/s] "
     ]
    },
    {
     "name": "stdout",
     "output_type": "stream",
     "text": [
      "Epoch 1, Batch 700, Error Value = 0.114629, Pred_Acc = 95.312500\n"
     ]
    },
    {
     "name": "stderr",
     "output_type": "stream",
     "text": [
      "Epoch 1, Batch= 803, Batch Error Value = 0.135438, Batch Pred Acc = 95.312500:  86%|████████▌ | 802/938 [00:45<00:07, 17.73it/s] "
     ]
    },
    {
     "name": "stdout",
     "output_type": "stream",
     "text": [
      "Epoch 1, Batch 800, Error Value = 0.191169, Pred_Acc = 90.625000\n"
     ]
    },
    {
     "name": "stderr",
     "output_type": "stream",
     "text": [
      "Epoch 1, Batch= 903, Batch Error Value = 0.152004, Batch Pred Acc = 95.312500:  96%|█████████▌| 902/938 [00:51<00:02, 17.86it/s] "
     ]
    },
    {
     "name": "stdout",
     "output_type": "stream",
     "text": [
      "Epoch 1, Batch 900, Error Value = 0.048235, Pred_Acc = 98.437500\n"
     ]
    },
    {
     "name": "stderr",
     "output_type": "stream",
     "text": [
      "Epoch 1, Batch= 938, Batch Error Value = 0.149054, Batch Pred Acc = 48.437500: 100%|██████████| 938/938 [00:53<00:00, 17.50it/s] \n"
     ]
    },
    {
     "name": "stdout",
     "output_type": "stream",
     "text": [
      "Epoch 1, Final Accuracy of the network 5429.317697\n"
     ]
    },
    {
     "name": "stderr",
     "output_type": "stream",
     "text": [
      "Epoch 1, Batch= 108, Error Value = 0.100636, Pred Acc = 96.875000:  11%|█         | 105/938 [00:02<00:18, 44.04it/s]"
     ]
    },
    {
     "name": "stdout",
     "output_type": "stream",
     "text": [
      "Epoch 1, Batch 100, Error Value = 0.107457, Pred_Acc = 95.312500\n"
     ]
    },
    {
     "name": "stderr",
     "output_type": "stream",
     "text": [
      "Epoch 1, Batch= 209, Error Value = 0.148960, Pred Acc = 95.312500:  22%|██▏       | 205/938 [00:04<00:15, 48.28it/s] "
     ]
    },
    {
     "name": "stdout",
     "output_type": "stream",
     "text": [
      "Epoch 1, Batch 200, Error Value = 0.034129, Pred_Acc = 100.000000\n"
     ]
    },
    {
     "name": "stderr",
     "output_type": "stream",
     "text": [
      "Epoch 1, Batch= 309, Error Value = 0.075338, Pred Acc = 98.437500:  33%|███▎      | 305/938 [00:06<00:13, 47.66it/s] "
     ]
    },
    {
     "name": "stdout",
     "output_type": "stream",
     "text": [
      "Epoch 1, Batch 300, Error Value = 0.041860, Pred_Acc = 100.000000\n"
     ]
    },
    {
     "name": "stderr",
     "output_type": "stream",
     "text": [
      "Epoch 1, Batch= 409, Error Value = 0.210006, Pred Acc = 95.312500:  43%|████▎     | 405/938 [00:08<00:11, 45.07it/s] "
     ]
    },
    {
     "name": "stdout",
     "output_type": "stream",
     "text": [
      "Epoch 1, Batch 400, Error Value = 0.154576, Pred_Acc = 92.187500\n"
     ]
    },
    {
     "name": "stderr",
     "output_type": "stream",
     "text": [
      "Epoch 1, Batch= 509, Error Value = 0.080315, Pred Acc = 98.437500:  54%|█████▍    | 505/938 [00:10<00:08, 48.54it/s] "
     ]
    },
    {
     "name": "stdout",
     "output_type": "stream",
     "text": [
      "Epoch 1, Batch 500, Error Value = 0.132394, Pred_Acc = 95.312500\n"
     ]
    },
    {
     "name": "stderr",
     "output_type": "stream",
     "text": [
      "Epoch 1, Batch= 609, Error Value = 0.069426, Pred Acc = 98.437500:  64%|██████▍   | 605/938 [00:12<00:07, 47.35it/s] "
     ]
    },
    {
     "name": "stdout",
     "output_type": "stream",
     "text": [
      "Epoch 1, Batch 600, Error Value = 0.052114, Pred_Acc = 98.437500\n"
     ]
    },
    {
     "name": "stderr",
     "output_type": "stream",
     "text": [
      "Epoch 1, Batch= 708, Error Value = 0.056488, Pred Acc = 96.875000:  75%|███████▌  | 705/938 [00:15<00:05, 44.74it/s] "
     ]
    },
    {
     "name": "stdout",
     "output_type": "stream",
     "text": [
      "Epoch 1, Batch 700, Error Value = 0.152599, Pred_Acc = 93.750000\n"
     ]
    },
    {
     "name": "stderr",
     "output_type": "stream",
     "text": [
      "Epoch 1, Batch= 809, Error Value = 0.209693, Pred Acc = 92.187500:  86%|████████▌ | 805/938 [00:17<00:02, 48.01it/s] "
     ]
    },
    {
     "name": "stdout",
     "output_type": "stream",
     "text": [
      "Epoch 1, Batch 800, Error Value = 0.056578, Pred_Acc = 96.875000\n"
     ]
    },
    {
     "name": "stderr",
     "output_type": "stream",
     "text": [
      "Epoch 1, Batch= 909, Error Value = 0.062497, Pred Acc = 96.875000:  96%|█████████▋| 905/938 [00:19<00:00, 48.11it/s] "
     ]
    },
    {
     "name": "stdout",
     "output_type": "stream",
     "text": [
      "Epoch 1, Batch 900, Error Value = 0.024873, Pred_Acc = 100.000000\n"
     ]
    },
    {
     "name": "stderr",
     "output_type": "stream",
     "text": [
      "Epoch 1, Batch= 938, Error Value = 0.042501, Pred Acc = 50.000000: 100%|██████████| 938/938 [00:19<00:00, 46.94it/s] \n"
     ]
    },
    {
     "ename": "NameError",
     "evalue": "name 'epoch_no' is not defined",
     "output_type": "error",
     "traceback": [
      "\u001b[0;31m---------------------------------------------------------------------------\u001b[0m",
      "\u001b[0;31mNameError\u001b[0m                                 Traceback (most recent call last)",
      "Cell \u001b[0;32mIn[10], line 11\u001b[0m\n\u001b[1;32m      9\u001b[0m \u001b[39mprint\u001b[39m(\u001b[39m\"\u001b[39m\u001b[39mepoch no= \u001b[39m\u001b[39m\"\u001b[39m,epoch\u001b[39m+\u001b[39m\u001b[39m1\u001b[39m)\n\u001b[1;32m     10\u001b[0m train(train_loader, model, error_func, optimizer,epoch)\n\u001b[0;32m---> 11\u001b[0m test(train_loader, model, error_func,epoch)\n",
      "Cell \u001b[0;32mIn[9], line 55\u001b[0m, in \u001b[0;36mtest\u001b[0;34m(test_loader, model, error_func, epoch, device)\u001b[0m\n\u001b[1;32m     53\u001b[0m \t\u001b[39mif\u001b[39;00m (b_id \u001b[39m+\u001b[39m \u001b[39m1\u001b[39m) \u001b[39m%\u001b[39m \u001b[39m100\u001b[39m \u001b[39m==\u001b[39m \u001b[39m0\u001b[39m:\n\u001b[1;32m     54\u001b[0m \t\t\u001b[39mprint\u001b[39m(\u001b[39m\"\u001b[39m\u001b[39mEpoch \u001b[39m\u001b[39m%d\u001b[39;00m\u001b[39m, Batch \u001b[39m\u001b[39m%d\u001b[39;00m\u001b[39m, Error Value = \u001b[39m\u001b[39m%f\u001b[39;00m\u001b[39m, Pred_Acc = \u001b[39m\u001b[39m%f\u001b[39;00m\u001b[39m\"\u001b[39m \u001b[39m%\u001b[39m (epoch\u001b[39m+\u001b[39m\u001b[39m1\u001b[39m,b_id\u001b[39m+\u001b[39m\u001b[39m1\u001b[39m, error_batch\u001b[39m.\u001b[39mitem(), accuracy_batch))\n\u001b[0;32m---> 55\u001b[0m test_losses[epoch_no] \u001b[39m=\u001b[39m test_loss_total \u001b[39m/\u001b[39m \u001b[39mlen\u001b[39m(train_loader)\n\u001b[1;32m     56\u001b[0m test_accuracy[epoch_no] \u001b[39m=\u001b[39m \u001b[39m100.0\u001b[39m \u001b[39m*\u001b[39m correct_preds_total \u001b[39m/\u001b[39m \u001b[39mlen\u001b[39m(test_loader)\n\u001b[1;32m     57\u001b[0m \u001b[39mprint\u001b[39m(\u001b[39m\"\u001b[39m\u001b[39mEpoch \u001b[39m\u001b[39m%d\u001b[39;00m\u001b[39m, Final Accuracy of the network \u001b[39m\u001b[39m%f\u001b[39;00m\u001b[39m\"\u001b[39m \u001b[39m%\u001b[39m (epoch \u001b[39m+\u001b[39m\u001b[39m1\u001b[39m , \u001b[39m100.0\u001b[39m \u001b[39m*\u001b[39m correct_preds_total \u001b[39m/\u001b[39m \u001b[39mlen\u001b[39m(test_loader)))\n",
      "\u001b[0;31mNameError\u001b[0m: name 'epoch_no' is not defined"
     ]
    }
   ],
   "source": [
    "#%%\n",
    "model = nn.Sequential(*container.values())\n",
    "error_func = torch.nn.functional.nll_loss\n",
    "optimizer = torch.optim.Adam(model.parameters(), lr=LR)\n",
    "\n",
    "#%%\n",
    "\n",
    "for epoch in range(NUM_EPOCHS):\n",
    "\tprint(\"epoch no= \",epoch+1)\n",
    "\ttrain(train_loader, model, error_func, optimizer,epoch)\n",
    "\ttest(train_loader, model, error_func,epoch)"
   ]
  },
  {
   "attachments": {},
   "cell_type": "markdown",
   "metadata": {},
   "source": [
    "## Train Test Loss Curves"
   ]
  },
  {
   "cell_type": "code",
   "execution_count": null,
   "metadata": {},
   "outputs": [],
   "source": [
    "#%%\n",
    "fig, axs = plt.subplots(2,2,figsize=(15,10))\n",
    "axs[0, 0].plot(train_losses)\n",
    "axs[0, 0].set_title(\"Training Loss\")\n",
    "axs[1, 0].plot(train_accuracy)\n",
    "axs[1, 0].set_title(\"Training Accuracy\")\n",
    "axs[0, 1].plot(test_losses)\n",
    "axs[0, 1].set_title(\"Test Loss\")\n",
    "axs[1, 1].plot(test_accuracy)\n",
    "axs[1, 1].set_title(\"Test Accuracy\")"
   ]
  }
 ],
 "metadata": {
  "kernelspec": {
   "display_name": "base",
   "language": "python",
   "name": "python3"
  },
  "language_info": {
   "codemirror_mode": {
    "name": "ipython",
    "version": 3
   },
   "file_extension": ".py",
   "mimetype": "text/x-python",
   "name": "python",
   "nbconvert_exporter": "python",
   "pygments_lexer": "ipython3",
   "version": "3.9.13"
  },
  "orig_nbformat": 4
 },
 "nbformat": 4,
 "nbformat_minor": 2
}
