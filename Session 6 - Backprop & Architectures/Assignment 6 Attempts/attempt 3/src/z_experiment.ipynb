{
 "cells": [
  {
   "cell_type": "code",
   "execution_count": 1,
   "metadata": {},
   "outputs": [],
   "source": [
    "from src.data import *\n",
    "from src.model import *\n",
    "from src.utils import *\n",
    "\n",
    "import torch\n",
    "from tqdm import tqdm\n",
    "import torch.nn as nn\n",
    "import torch.nn.functional as F"
   ]
  },
  {
   "cell_type": "code",
   "execution_count": 2,
   "metadata": {},
   "outputs": [],
   "source": [
    "train_dataloader, test_dataloader\n",
    "model = model_v1().sequential_model"
   ]
  },
  {
   "cell_type": "code",
   "execution_count": 3,
   "metadata": {},
   "outputs": [],
   "source": [
    "ErrorCalculator = torch.nn.functional.nll_loss\n",
    "\n",
    "lr = 0.01\n",
    "optimizer = torch.optim.SGD(model.parameters(), lr)"
   ]
  },
  {
   "cell_type": "code",
   "execution_count": 4,
   "metadata": {},
   "outputs": [
    {
     "name": "stderr",
     "output_type": "stream",
     "text": [
      "Correctly Predicted 5,\t Error Value 2.3142: 100%|██████████| 938/938 [06:51<00:00,  2.28it/s] \n"
     ]
    }
   ],
   "source": [
    "trainEpoch(train_dataloader,model,ErrorCalculator,optimizer)"
   ]
  },
  {
   "cell_type": "code",
   "execution_count": 5,
   "metadata": {},
   "outputs": [
    {
     "name": "stdout",
     "output_type": "stream",
     "text": [
      "Predicted Value tensor([5, 5, 5, 5, 5, 5, 5, 5, 5, 5, 5, 5, 5, 5, 5, 5, 5, 5, 5, 5, 5, 5, 5, 5,\n",
      "        5, 5, 5, 2, 5, 5, 5, 5, 5, 5, 5, 5, 5, 5, 5, 5, 5, 5, 5, 5, 5, 5, 5, 5,\n",
      "        5, 5, 5, 5, 5, 5, 5, 5, 5, 5, 5, 5, 5, 5, 5, 5]) Actual Value tensor([1, 9, 2, 5, 6, 0, 6, 5, 8, 0, 6, 6, 2, 1, 4, 1, 7, 8, 8, 8, 8, 0, 6, 2,\n",
      "        4, 7, 5, 3, 8, 3, 8, 2, 9, 1, 6, 0, 2, 2, 7, 4, 0, 4, 9, 8, 3, 7, 0, 2,\n",
      "        2, 8, 6, 3, 7, 9, 5, 0, 2, 0, 5, 3, 0, 4, 3, 3]) Single Error Value 2.30488657951355\n"
     ]
    }
   ],
   "source": [
    "X,Y = next(iter(train_dataloader))\n",
    "trainBatch(X,Y,model,ErrorCalculator,optimizer,None)"
   ]
  },
  {
   "cell_type": "code",
   "execution_count": null,
   "metadata": {},
   "outputs": [],
   "source": []
  }
 ],
 "metadata": {
  "kernelspec": {
   "display_name": "base",
   "language": "python",
   "name": "python3"
  },
  "language_info": {
   "codemirror_mode": {
    "name": "ipython",
    "version": 3
   },
   "file_extension": ".py",
   "mimetype": "text/x-python",
   "name": "python",
   "nbconvert_exporter": "python",
   "pygments_lexer": "ipython3",
   "version": "3.9.13"
  },
  "orig_nbformat": 4
 },
 "nbformat": 4,
 "nbformat_minor": 2
}
