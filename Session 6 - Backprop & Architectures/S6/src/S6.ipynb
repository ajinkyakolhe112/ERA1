{
 "cells": [
  {
   "cell_type": "code",
   "execution_count": 8,
   "metadata": {},
   "outputs": [],
   "source": [
    "import torch\n",
    "import torch.nn as nn\n",
    "from torchinfo import summary \n",
    "from tqdm import tqdm\n",
    "import importlib\n",
    "import matplotlib.pyplot as plt"
   ]
  },
  {
   "cell_type": "code",
   "execution_count": 10,
   "metadata": {},
   "outputs": [],
   "source": [
    "import utils\n",
    "importlib.reload(utils)\n",
    "from utils import get_dataloader, train, test, EXPERIMENT_TRAIN_TEST"
   ]
  },
  {
   "cell_type": "code",
   "execution_count": 11,
   "metadata": {},
   "outputs": [
    {
     "name": "stdout",
     "output_type": "stream",
     "text": [
      "Downloading http://yann.lecun.com/exdb/mnist/train-images-idx3-ubyte.gz\n",
      "Downloading http://yann.lecun.com/exdb/mnist/train-images-idx3-ubyte.gz to ./data/MNIST/raw/train-images-idx3-ubyte.gz\n"
     ]
    },
    {
     "name": "stderr",
     "output_type": "stream",
     "text": [
      "100%|██████████| 9912422/9912422 [00:01<00:00, 5277657.31it/s]\n"
     ]
    },
    {
     "name": "stdout",
     "output_type": "stream",
     "text": [
      "Extracting ./data/MNIST/raw/train-images-idx3-ubyte.gz to ./data/MNIST/raw\n",
      "\n",
      "Downloading http://yann.lecun.com/exdb/mnist/train-labels-idx1-ubyte.gz\n",
      "Downloading http://yann.lecun.com/exdb/mnist/train-labels-idx1-ubyte.gz to ./data/MNIST/raw/train-labels-idx1-ubyte.gz\n"
     ]
    },
    {
     "name": "stderr",
     "output_type": "stream",
     "text": [
      "100%|██████████| 28881/28881 [00:00<00:00, 6397786.72it/s]\n"
     ]
    },
    {
     "name": "stdout",
     "output_type": "stream",
     "text": [
      "Extracting ./data/MNIST/raw/train-labels-idx1-ubyte.gz to ./data/MNIST/raw\n",
      "\n",
      "Downloading http://yann.lecun.com/exdb/mnist/t10k-images-idx3-ubyte.gz\n",
      "Downloading http://yann.lecun.com/exdb/mnist/t10k-images-idx3-ubyte.gz to ./data/MNIST/raw/t10k-images-idx3-ubyte.gz\n"
     ]
    },
    {
     "name": "stderr",
     "output_type": "stream",
     "text": [
      "100%|██████████| 1648877/1648877 [00:00<00:00, 5378751.73it/s]\n"
     ]
    },
    {
     "name": "stdout",
     "output_type": "stream",
     "text": [
      "Extracting ./data/MNIST/raw/t10k-images-idx3-ubyte.gz to ./data/MNIST/raw\n",
      "\n",
      "Downloading http://yann.lecun.com/exdb/mnist/t10k-labels-idx1-ubyte.gz\n",
      "Downloading http://yann.lecun.com/exdb/mnist/t10k-labels-idx1-ubyte.gz to ./data/MNIST/raw/t10k-labels-idx1-ubyte.gz\n"
     ]
    },
    {
     "name": "stderr",
     "output_type": "stream",
     "text": [
      "100%|██████████| 4542/4542 [00:00<00:00, 4033565.27it/s]"
     ]
    },
    {
     "name": "stdout",
     "output_type": "stream",
     "text": [
      "Extracting ./data/MNIST/raw/t10k-labels-idx1-ubyte.gz to ./data/MNIST/raw\n",
      "\n"
     ]
    },
    {
     "name": "stderr",
     "output_type": "stream",
     "text": [
      "\n"
     ]
    }
   ],
   "source": [
    "BATCH_SIZE = 64\n",
    "LR = 0.01\n",
    "NUM_EPOCHS = 1\n",
    "DEVICE = torch.device('cuda' if torch.cuda.is_available() else 'cpu')\n",
    "\n",
    "train_loader,test_loader = get_dataloader(BATCH_SIZE)\n",
    "error_func = torch.nn.functional.nll_loss\n",
    "optimizer = torch.optim.Adam(model.parameters(), lr=LR)\n",
    "\n",
    "# Data to plot accuracy and loss graphs\n",
    "train_losses = [None]\n",
    "train_accuracy = [None]\n",
    "\n",
    "test_losses = [None]\n",
    "test_accuracy = [None]"
   ]
  },
  {
   "cell_type": "code",
   "execution_count": 12,
   "metadata": {},
   "outputs": [],
   "source": [
    "import models as models\n",
    "importlib.reload(models)\n",
    "from models import customSequential\n",
    "\n",
    "model = customSequential()\n",
    "seq_model = model.internal_sequential_model\n"
   ]
  },
  {
   "cell_type": "code",
   "execution_count": 13,
   "metadata": {},
   "outputs": [
    {
     "data": {
      "text/plain": [
       "customSequential(\n",
       "  (internal_sequential_model): Sequential(\n",
       "    (0): Conv2d(1, 16, kernel_size=(3, 3), stride=(1, 1))\n",
       "    (1): BatchNorm2d(16, eps=1e-05, momentum=0.1, affine=True, track_running_stats=True)\n",
       "    (2): Conv2d(16, 32, kernel_size=(3, 3), stride=(1, 1), padding=(1, 1))\n",
       "    (3): ReLU()\n",
       "    (4): BatchNorm2d(32, eps=1e-05, momentum=0.1, affine=True, track_running_stats=True)\n",
       "    (5): Conv2d(32, 64, kernel_size=(3, 3), stride=(1, 1), padding=(1, 1))\n",
       "    (6): MaxPool2d(kernel_size=(2, 2), stride=2, padding=0, dilation=1, ceil_mode=False)\n",
       "    (7): Conv2d(64, 16, kernel_size=(1, 1), stride=(1, 1))\n",
       "    (8): BatchNorm2d(16, eps=1e-05, momentum=0.1, affine=True, track_running_stats=True)\n",
       "    (9): Conv2d(16, 32, kernel_size=(3, 3), stride=(1, 1), padding=(1, 1))\n",
       "    (10): BatchNorm2d(32, eps=1e-05, momentum=0.1, affine=True, track_running_stats=True)\n",
       "    (11): Conv2d(32, 64, kernel_size=(3, 3), stride=(1, 1), padding=(1, 1))\n",
       "    (12): MaxPool2d(kernel_size=(2, 2), stride=2, padding=0, dilation=1, ceil_mode=False)\n",
       "    (13): Conv2d(64, 16, kernel_size=(1, 1), stride=(1, 1))\n",
       "    (14): BatchNorm2d(16, eps=1e-05, momentum=0.1, affine=True, track_running_stats=True)\n",
       "    (15): Conv2d(16, 32, kernel_size=(3, 3), stride=(1, 1))\n",
       "    (16): BatchNorm2d(32, eps=1e-05, momentum=0.1, affine=True, track_running_stats=True)\n",
       "    (17): Conv2d(32, 64, kernel_size=(3, 3), stride=(1, 1))\n",
       "    (18): Conv2d(64, 16, kernel_size=(1, 1), stride=(1, 1))\n",
       "    (19): AvgPool2d(kernel_size=2, stride=2, padding=0)\n",
       "    (20): reshape()\n",
       "    (21): Linear(in_features=16, out_features=50, bias=True)\n",
       "    (22): Linear(in_features=50, out_features=10, bias=True)\n",
       "    (23): LogSoftmax(dim=1)\n",
       "  )\n",
       ")"
      ]
     },
     "execution_count": 13,
     "metadata": {},
     "output_type": "execute_result"
    }
   ],
   "source": [
    "model"
   ]
  },
  {
   "cell_type": "code",
   "execution_count": 14,
   "metadata": {},
   "outputs": [
    {
     "name": "stdout",
     "output_type": "stream",
     "text": [
      "epoch no=  1\n"
     ]
    },
    {
     "name": "stderr",
     "output_type": "stream",
     "text": [
      "  0%|          | 0/938 [00:00<?, ?it/s]"
     ]
    },
    {
     "name": "stdout",
     "output_type": "stream",
     "text": [
      "Train: Epoch %d 1\n"
     ]
    },
    {
     "name": "stderr",
     "output_type": "stream",
     "text": [
      "Batch= 938, Error Value = 2.311389, Pred Acc = 3.1250: 100%|██████████| 938/938 [01:21<00:00, 11.46it/s] \n"
     ]
    },
    {
     "ename": "NameError",
     "evalue": "name 'train_losses' is not defined",
     "output_type": "error",
     "traceback": [
      "\u001b[0;31m---------------------------------------------------------------------------\u001b[0m",
      "\u001b[0;31mNameError\u001b[0m                                 Traceback (most recent call last)",
      "Cell \u001b[0;32mIn[14], line 1\u001b[0m\n\u001b[0;32m----> 1\u001b[0m EXPERIMENT_TRAIN_TEST(model, train_loader, test_loader, error_func, optimizer)\n",
      "File \u001b[0;32m~/Documents/Visual Studio Code/ERA1/Session 6 - Backprop & Architectures/S6/src/utils.py:120\u001b[0m, in \u001b[0;36mEXPERIMENT_TRAIN_TEST\u001b[0;34m(model, train_loader, test_loader, error_func, optimizer, NUM_EPOCHS)\u001b[0m\n\u001b[1;32m    117\u001b[0m \u001b[39mfor\u001b[39;00m epoch \u001b[39min\u001b[39;00m \u001b[39mrange\u001b[39m(NUM_EPOCHS):\n\u001b[1;32m    118\u001b[0m \t\u001b[39mprint\u001b[39m(\u001b[39m\"\u001b[39m\u001b[39mepoch no= \u001b[39m\u001b[39m\"\u001b[39m,epoch\u001b[39m+\u001b[39m\u001b[39m1\u001b[39m)\n\u001b[0;32m--> 120\u001b[0m \ttrain_epoch_loss, train_epoch_accuracy \u001b[39m=\u001b[39m train(train_loader, model, error_func, optimizer,epoch)\n\u001b[1;32m    121\u001b[0m \ttest_epoch_loss, test_epoch_accuracy \u001b[39m=\u001b[39m test(train_loader, model, error_func,epoch)\n\u001b[1;32m    123\u001b[0m \ttrain_losses[epoch] \u001b[39m=\u001b[39m train_epoch_loss\n",
      "File \u001b[0;32m~/Documents/Visual Studio Code/ERA1/Session 6 - Backprop & Architectures/S6/src/utils.py:65\u001b[0m, in \u001b[0;36mtrain\u001b[0;34m(train_loader, model, error_func, optimizer, epoch_no, device)\u001b[0m\n\u001b[1;32m     63\u001b[0m \t\t\u001b[39mpass\u001b[39;00m\n\u001b[1;32m     64\u001b[0m \t\t\u001b[39m# print(\"Train: Epoch %d, Batch %d, Error Value = %f, Pred_Acc = %f\" % (epoch_no+1,b_id+1, train_loss_batch.item(), train_accuracy_batch))\u001b[39;00m\n\u001b[0;32m---> 65\u001b[0m train_losses[epoch_no] \u001b[39m=\u001b[39m train_loss_total \u001b[39m/\u001b[39m \u001b[39mlen\u001b[39m(train_loader)\n\u001b[1;32m     66\u001b[0m train_accuracy[epoch_no] \u001b[39m=\u001b[39m \u001b[39m100.0\u001b[39m \u001b[39m*\u001b[39m correct_preds_total \u001b[39m/\u001b[39m \u001b[39mlen\u001b[39m(train_loader)\n\u001b[1;32m     67\u001b[0m \u001b[39mprint\u001b[39m(\u001b[39m\"\u001b[39m\u001b[39mTrain: Epoch \u001b[39m\u001b[39m%d\u001b[39;00m\u001b[39m, Final Accuracy of the network \u001b[39m\u001b[39m%f\u001b[39;00m\u001b[39m\"\u001b[39m \u001b[39m%\u001b[39m (epoch_no \u001b[39m+\u001b[39m\u001b[39m1\u001b[39m , train_accuracy[epoch_no]))\n",
      "\u001b[0;31mNameError\u001b[0m: name 'train_losses' is not defined"
     ]
    }
   ],
   "source": [
    "\n",
    "EXPERIMENT_TRAIN_TEST(model, train_loader, test_loader, error_func, optimizer)"
   ]
  },
  {
   "cell_type": "code",
   "execution_count": null,
   "metadata": {},
   "outputs": [],
   "source": []
  }
 ],
 "metadata": {
  "kernelspec": {
   "display_name": "base",
   "language": "python",
   "name": "python3"
  },
  "language_info": {
   "codemirror_mode": {
    "name": "ipython",
    "version": 3
   },
   "file_extension": ".py",
   "mimetype": "text/x-python",
   "name": "python",
   "nbconvert_exporter": "python",
   "pygments_lexer": "ipython3",
   "version": "3.9.13"
  },
  "orig_nbformat": 4
 },
 "nbformat": 4,
 "nbformat_minor": 2
}
