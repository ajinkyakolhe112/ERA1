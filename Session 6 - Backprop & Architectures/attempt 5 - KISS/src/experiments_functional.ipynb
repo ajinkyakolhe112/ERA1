{
 "cells": [
  {
   "attachments": {},
   "cell_type": "markdown",
   "metadata": {},
   "source": [
    "## Notebook Init"
   ]
  },
  {
   "cell_type": "code",
   "execution_count": null,
   "metadata": {},
   "outputs": [],
   "source": [
    "import torch\n",
    "import torch.nn as nn\n",
    "from torchinfo import summary \n",
    "from tqdm import tqdm\n",
    "import importlib\n",
    "import matplotlib.pyplot as plt"
   ]
  },
  {
   "cell_type": "code",
   "execution_count": null,
   "metadata": {},
   "outputs": [],
   "source": [
    "import utils\n",
    "importlib.reload(utils)\n",
    "from utils import get_dataloader, train, test, train_test_model_epochs"
   ]
  },
  {
   "cell_type": "code",
   "execution_count": null,
   "metadata": {},
   "outputs": [],
   "source": [
    "BATCH_SIZE = 64\n",
    "LR = 0.01\n",
    "NUM_EPOCHS = 1\n",
    "DEVICE = torch.device('cuda' if torch.cuda.is_available() else 'cpu')\n",
    "\n",
    "train_loader,test_loader = get_dataloader(BATCH_SIZE)\n",
    "error_func = torch.nn.functional.nll_loss\n",
    "optimizer = torch.optim.Adam(model.parameters(), lr=LR)\n",
    "\n",
    "# Data to plot accuracy and loss graphs\n",
    "train_losses = [None]\n",
    "train_accuracy = [None]\n",
    "\n",
    "test_losses = [None]\n",
    "test_accuracy = [None]"
   ]
  },
  {
   "attachments": {},
   "cell_type": "markdown",
   "metadata": {},
   "source": [
    "## Model"
   ]
  },
  {
   "cell_type": "code",
   "execution_count": 37,
   "metadata": {},
   "outputs": [],
   "source": [
    "import models.model_2 as model_2\n",
    "importlib.reload(model_2)\n",
    "from models.model_2 import get_model_2\n",
    "\n",
    "model = get_model_2()\n",
    "\n",
    "import models.model_1 as model_1\n",
    "importlib.reload(model_1)\n",
    "from models.model_1 import get_model_1\n",
    "\n",
    "import models.model_0 as model_0\n",
    "importlib.reload(model_1)\n",
    "from models.model_0 import get_model_0\n",
    "\n",
    "model0 = get_model_0()\n",
    "model1 = get_model_1()\n",
    "model2 = get_model_2()\n"
   ]
  },
  {
   "cell_type": "code",
   "execution_count": 35,
   "metadata": {},
   "outputs": [
    {
     "data": {
      "text/plain": [
       "Sequential(\n",
       "  (0): Conv2d(1, 32, kernel_size=(3, 3), stride=(1, 1), padding=(1, 1))\n",
       "  (1): ReLU()\n",
       "  (2): Conv2d(32, 64, kernel_size=(3, 3), stride=(1, 1), padding=(1, 1))\n",
       "  (3): MaxPool2d(kernel_size=(2, 2), stride=2, padding=0, dilation=1, ceil_mode=False)\n",
       "  (4): Conv2d(64, 128, kernel_size=(3, 3), stride=(1, 1), padding=(1, 1))\n",
       "  (5): Conv2d(128, 256, kernel_size=(3, 3), stride=(1, 1), padding=(1, 1))\n",
       "  (6): MaxPool2d(kernel_size=(2, 2), stride=2, padding=0, dilation=1, ceil_mode=False)\n",
       "  (7): Conv2d(256, 512, kernel_size=(3, 3), stride=(1, 1))\n",
       "  (8): Conv2d(512, 1024, kernel_size=(3, 3), stride=(1, 1))\n",
       "  (9): reshape()\n",
       "  (10): Linear(in_features=9216, out_features=50, bias=True)\n",
       "  (11): Linear(in_features=50, out_features=10, bias=True)\n",
       "  (12): LogSoftmax(dim=1)\n",
       ")"
      ]
     },
     "execution_count": 35,
     "metadata": {},
     "output_type": "execute_result"
    }
   ],
   "source": [
    "model0"
   ]
  },
  {
   "cell_type": "code",
   "execution_count": null,
   "metadata": {},
   "outputs": [],
   "source": [
    "model2.internal_sequential_model"
   ]
  },
  {
   "cell_type": "code",
   "execution_count": 36,
   "metadata": {},
   "outputs": [
    {
     "name": "stdout",
     "output_type": "stream",
     "text": [
      "==========================================================================================\n",
      "Layer (type:depth-idx)                   Output Shape              Param #\n",
      "==========================================================================================\n",
      "Sequential                               [1, 10]                   --\n",
      "├─Conv2d: 1-1                            [32, 28, 28]              320\n",
      "│    └─weight                                                      ├─288\n",
      "│    └─bias                                                        └─32\n",
      "├─ReLU: 1-2                              [32, 28, 28]              --\n",
      "├─Conv2d: 1-3                            [64, 28, 28]              18,496\n",
      "│    └─weight                                                      ├─18,432\n",
      "│    └─bias                                                        └─64\n",
      "├─MaxPool2d: 1-4                         [64, 14, 14]              --\n",
      "├─Conv2d: 1-5                            [128, 14, 14]             73,856\n",
      "│    └─weight                                                      ├─73,728\n",
      "│    └─bias                                                        └─128\n",
      "├─Conv2d: 1-6                            [256, 14, 14]             295,168\n",
      "│    └─weight                                                      ├─294,912\n",
      "│    └─bias                                                        └─256\n",
      "├─MaxPool2d: 1-7                         [256, 7, 7]               --\n",
      "├─Conv2d: 1-8                            [512, 5, 5]               1,180,160\n",
      "│    └─weight                                                      ├─1,179,648\n",
      "│    └─bias                                                        └─512\n",
      "├─Conv2d: 1-9                            [1024, 3, 3]              4,719,616\n",
      "│    └─weight                                                      ├─4,718,592\n",
      "│    └─bias                                                        └─1,024\n",
      "├─reshape: 1-10                          [1, 9216]                 --\n",
      "├─Linear: 1-11                           [1, 50]                   460,850\n",
      "│    └─weight                                                      ├─460,800\n",
      "│    └─bias                                                        └─50\n",
      "├─Linear: 1-12                           [1, 10]                   510\n",
      "│    └─weight                                                      ├─500\n",
      "│    └─bias                                                        └─10\n",
      "├─LogSoftmax: 1-13                       [1, 10]                   --\n",
      "==========================================================================================\n",
      "Total params: 6,748,976\n",
      "Trainable params: 6,748,976\n",
      "Non-trainable params: 0\n",
      "Total mult-adds (G): 18.74\n",
      "==========================================================================================\n",
      "Input size (MB): 0.00\n",
      "Forward/backward pass size (MB): 1.38\n",
      "Params size (MB): 27.00\n",
      "Estimated Total Size (MB): 28.38\n",
      "==========================================================================================\n"
     ]
    }
   ],
   "source": [
    "summary(model0,input_size=(1, 28, 28), verbose=2);"
   ]
  },
  {
   "cell_type": "code",
   "execution_count": 38,
   "metadata": {},
   "outputs": [
    {
     "name": "stdout",
     "output_type": "stream",
     "text": [
      "==========================================================================================\n",
      "Layer (type:depth-idx)                   Output Shape              Param #\n",
      "==========================================================================================\n",
      "Sequential                               [1, 10]                   --\n",
      "├─Conv2d: 1-1                            [16, 26, 26]              160\n",
      "│    └─weight                                                      ├─144\n",
      "│    └─bias                                                        └─16\n",
      "├─Conv2d: 1-2                            [32, 26, 26]              4,640\n",
      "│    └─weight                                                      ├─4,608\n",
      "│    └─bias                                                        └─32\n",
      "├─ReLU: 1-3                              [32, 26, 26]              --\n",
      "├─Conv2d: 1-4                            [64, 26, 26]              18,496\n",
      "│    └─weight                                                      ├─18,432\n",
      "│    └─bias                                                        └─64\n",
      "├─MaxPool2d: 1-5                         [64, 13, 13]              --\n",
      "├─Conv2d: 1-6                            [16, 13, 13]              1,040\n",
      "│    └─weight                                                      ├─1,024\n",
      "│    └─bias                                                        └─16\n",
      "├─Conv2d: 1-7                            [32, 13, 13]              4,640\n",
      "│    └─weight                                                      ├─4,608\n",
      "│    └─bias                                                        └─32\n",
      "├─Conv2d: 1-8                            [64, 13, 13]              18,496\n",
      "│    └─weight                                                      ├─18,432\n",
      "│    └─bias                                                        └─64\n",
      "├─MaxPool2d: 1-9                         [64, 6, 6]                --\n",
      "├─Conv2d: 1-10                           [16, 6, 6]                1,040\n",
      "│    └─weight                                                      ├─1,024\n",
      "│    └─bias                                                        └─16\n",
      "├─Conv2d: 1-11                           [32, 4, 4]                4,640\n",
      "│    └─weight                                                      ├─4,608\n",
      "│    └─bias                                                        └─32\n",
      "├─Conv2d: 1-12                           [64, 2, 2]                18,496\n",
      "│    └─weight                                                      ├─18,432\n",
      "│    └─bias                                                        └─64\n",
      "├─reshape: 1-13                          [1, 256]                  --\n",
      "├─Linear: 1-14                           [1, 50]                   12,850\n",
      "│    └─weight                                                      ├─12,800\n",
      "│    └─bias                                                        └─50\n",
      "├─Linear: 1-15                           [1, 10]                   510\n",
      "│    └─weight                                                      ├─500\n",
      "│    └─bias                                                        └─10\n",
      "├─LogSoftmax: 1-16                       [1, 10]                   --\n",
      "==========================================================================================\n",
      "Total params: 85,008\n",
      "Trainable params: 85,008\n",
      "Non-trainable params: 0\n",
      "Total mult-adds (M): 55.31\n",
      "==========================================================================================\n",
      "Input size (MB): 0.00\n",
      "Forward/backward pass size (MB): 0.77\n",
      "Params size (MB): 0.34\n",
      "Estimated Total Size (MB): 1.11\n",
      "==========================================================================================\n"
     ]
    }
   ],
   "source": [
    "\n",
    "summary(model2.internal_sequential_model, input_size=(1, 28, 28), verbose=2);\n",
    "# summary(model, input_size=(1, 28, 28), verbose=2, col_names=[\"input_size\", \"output_size\", \"kernel_size\", \"mult_adds\", \"num_params\", \"params_percent\"], col_width=15);"
   ]
  },
  {
   "attachments": {},
   "cell_type": "markdown",
   "metadata": {},
   "source": [
    "## Test Model"
   ]
  },
  {
   "cell_type": "code",
   "execution_count": 27,
   "metadata": {},
   "outputs": [
    {
     "name": "stdout",
     "output_type": "stream",
     "text": [
      "epoch no=  1\n"
     ]
    },
    {
     "name": "stderr",
     "output_type": "stream",
     "text": [
      "Batch= 1, Error Value = 2.301112, Pred Acc = 9.3750:   0%|          | 1/938 [00:00<01:49,  8.52it/s]"
     ]
    },
    {
     "name": "stdout",
     "output_type": "stream",
     "text": [
      "Train: Epoch %d 1\n"
     ]
    },
    {
     "name": "stderr",
     "output_type": "stream",
     "text": [
      "Batch= 903, Error Value = 2.323935, Pred Acc = 4.6875:  96%|█████████▋| 903/938 [01:23<00:03, 10.79it/s] \n"
     ]
    },
    {
     "ename": "KeyboardInterrupt",
     "evalue": "",
     "output_type": "error",
     "traceback": [
      "\u001b[0;31m---------------------------------------------------------------------------\u001b[0m",
      "\u001b[0;31mKeyboardInterrupt\u001b[0m                         Traceback (most recent call last)",
      "Cell \u001b[0;32mIn[27], line 1\u001b[0m\n\u001b[0;32m----> 1\u001b[0m train_test_model_epochs(model, train_loader, test_loader, error_func, optimizer)\n",
      "File \u001b[0;32m~/Documents/Visual Studio Code/ERA1/Session 6 - Backprop & Architectures/attempt 5 - KISS/src/utils.py:115\u001b[0m, in \u001b[0;36mtrain_test_model_epochs\u001b[0;34m(model, train_loader, test_loader, error_func, optimizer, NUM_EPOCHS)\u001b[0m\n\u001b[1;32m    113\u001b[0m \u001b[39mfor\u001b[39;00m epoch \u001b[39min\u001b[39;00m \u001b[39mrange\u001b[39m(NUM_EPOCHS):\n\u001b[1;32m    114\u001b[0m \t\u001b[39mprint\u001b[39m(\u001b[39m\"\u001b[39m\u001b[39mepoch no= \u001b[39m\u001b[39m\"\u001b[39m,epoch\u001b[39m+\u001b[39m\u001b[39m1\u001b[39m)\n\u001b[0;32m--> 115\u001b[0m \ttrain_losses, train_accuracy \u001b[39m=\u001b[39m train(train_loader, model, error_func, optimizer,epoch)\n\u001b[1;32m    116\u001b[0m \ttest_losses, test_accuracy \u001b[39m=\u001b[39m test(train_loader, model, error_func,epoch)\n\u001b[1;32m    118\u001b[0m fig, axs \u001b[39m=\u001b[39m plt\u001b[39m.\u001b[39msubplots(\u001b[39m2\u001b[39m,\u001b[39m2\u001b[39m,figsize\u001b[39m=\u001b[39m(\u001b[39m15\u001b[39m,\u001b[39m10\u001b[39m))\n",
      "File \u001b[0;32m~/Documents/Visual Studio Code/ERA1/Session 6 - Backprop & Architectures/attempt 5 - KISS/src/utils.py:53\u001b[0m, in \u001b[0;36mtrain\u001b[0;34m(train_loader, model, error_func, optimizer, epoch_no, device)\u001b[0m\n\u001b[1;32m     51\u001b[0m \u001b[39m# Backward and optimize\u001b[39;00m\n\u001b[1;32m     52\u001b[0m optimizer\u001b[39m.\u001b[39mzero_grad()\n\u001b[0;32m---> 53\u001b[0m train_loss_batch\u001b[39m.\u001b[39;49mbackward()\n\u001b[1;32m     54\u001b[0m optimizer\u001b[39m.\u001b[39mstep()\n\u001b[1;32m     56\u001b[0m pred_labels \u001b[39m=\u001b[39m outputs\u001b[39m.\u001b[39margmax(dim\u001b[39m=\u001b[39m\u001b[39m1\u001b[39m, keepdim\u001b[39m=\u001b[39m\u001b[39mTrue\u001b[39;00m)\u001b[39m.\u001b[39msqueeze()\n",
      "File \u001b[0;32m~/opt/anaconda3/lib/python3.9/site-packages/torch/_tensor.py:487\u001b[0m, in \u001b[0;36mTensor.backward\u001b[0;34m(self, gradient, retain_graph, create_graph, inputs)\u001b[0m\n\u001b[1;32m    477\u001b[0m \u001b[39mif\u001b[39;00m has_torch_function_unary(\u001b[39mself\u001b[39m):\n\u001b[1;32m    478\u001b[0m     \u001b[39mreturn\u001b[39;00m handle_torch_function(\n\u001b[1;32m    479\u001b[0m         Tensor\u001b[39m.\u001b[39mbackward,\n\u001b[1;32m    480\u001b[0m         (\u001b[39mself\u001b[39m,),\n\u001b[0;32m   (...)\u001b[0m\n\u001b[1;32m    485\u001b[0m         inputs\u001b[39m=\u001b[39minputs,\n\u001b[1;32m    486\u001b[0m     )\n\u001b[0;32m--> 487\u001b[0m torch\u001b[39m.\u001b[39;49mautograd\u001b[39m.\u001b[39;49mbackward(\n\u001b[1;32m    488\u001b[0m     \u001b[39mself\u001b[39;49m, gradient, retain_graph, create_graph, inputs\u001b[39m=\u001b[39;49minputs\n\u001b[1;32m    489\u001b[0m )\n",
      "File \u001b[0;32m~/opt/anaconda3/lib/python3.9/site-packages/torch/autograd/__init__.py:200\u001b[0m, in \u001b[0;36mbackward\u001b[0;34m(tensors, grad_tensors, retain_graph, create_graph, grad_variables, inputs)\u001b[0m\n\u001b[1;32m    195\u001b[0m     retain_graph \u001b[39m=\u001b[39m create_graph\n\u001b[1;32m    197\u001b[0m \u001b[39m# The reason we repeat same the comment below is that\u001b[39;00m\n\u001b[1;32m    198\u001b[0m \u001b[39m# some Python versions print out the first line of a multi-line function\u001b[39;00m\n\u001b[1;32m    199\u001b[0m \u001b[39m# calls in the traceback and some print out the last line\u001b[39;00m\n\u001b[0;32m--> 200\u001b[0m Variable\u001b[39m.\u001b[39;49m_execution_engine\u001b[39m.\u001b[39;49mrun_backward(  \u001b[39m# Calls into the C++ engine to run the backward pass\u001b[39;49;00m\n\u001b[1;32m    201\u001b[0m     tensors, grad_tensors_, retain_graph, create_graph, inputs,\n\u001b[1;32m    202\u001b[0m     allow_unreachable\u001b[39m=\u001b[39;49m\u001b[39mTrue\u001b[39;49;00m, accumulate_grad\u001b[39m=\u001b[39;49m\u001b[39mTrue\u001b[39;49;00m)\n",
      "\u001b[0;31mKeyboardInterrupt\u001b[0m: "
     ]
    }
   ],
   "source": [
    "\n",
    "\n",
    "train_test_model_epochs(model, train_loader, test_loader, error_func, optimizer)\n",
    "\n"
   ]
  },
  {
   "cell_type": "code",
   "execution_count": null,
   "metadata": {},
   "outputs": [],
   "source": []
  }
 ],
 "metadata": {
  "kernelspec": {
   "display_name": "base",
   "language": "python",
   "name": "python3"
  },
  "language_info": {
   "codemirror_mode": {
    "name": "ipython",
    "version": 3
   },
   "file_extension": ".py",
   "mimetype": "text/x-python",
   "name": "python",
   "nbconvert_exporter": "python",
   "pygments_lexer": "ipython3",
   "version": "3.9.13"
  },
  "orig_nbformat": 4
 },
 "nbformat": 4,
 "nbformat_minor": 2
}
